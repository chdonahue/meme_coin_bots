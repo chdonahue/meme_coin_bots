{
 "cells": [
  {
   "cell_type": "markdown",
   "id": "b3156ea0",
   "metadata": {},
   "source": [
    "### This notebook demonstartes basic functions using hierarchical deterministic wallets (HD):\n",
    "- Given a single mneumonic phrase (24 words), create a deterministic infinite set of public/private key pairs. \n",
    "- How to access wallet contents"
   ]
  },
  {
   "cell_type": "code",
   "execution_count": 1,
   "id": "92e0fa0b",
   "metadata": {},
   "outputs": [],
   "source": [
    "%load_ext autoreload\n",
    "%autoreload 2"
   ]
  },
  {
   "cell_type": "code",
   "execution_count": 2,
   "id": "4b691d73",
   "metadata": {},
   "outputs": [],
   "source": [
    "from src.wallet_secrets import (create_mnemonic_phrase, \n",
    "                                               generate_wallets_from_mnemonic, \n",
    "                                               verify_solana_keypair)"
   ]
  },
  {
   "cell_type": "markdown",
   "id": "06836a81",
   "metadata": {},
   "source": [
    "### Generate a new mnemonic phrase:\n",
    "- Once you're happy with a phrase, save it to your .env varabiables as MNEMONIC_PHRASE\n",
    "- Save this phrase in a safe place offline. It is needed to reconstruct everything!\n",
    "- This family of wallets can be used to create diversion strategies and one only needs a phrase and an index to return new public/private keypairs."
   ]
  },
  {
   "cell_type": "code",
   "execution_count": 3,
   "id": "2bceb127",
   "metadata": {},
   "outputs": [
    {
     "name": "stdout",
     "output_type": "stream",
     "text": [
      "wave end soap liberty excuse race omit course indicate document sort remind gather shop table toddler fossil ridge miracle document actor moment crush observe\n"
     ]
    }
   ],
   "source": [
    "mnemonic_phrase = create_mnemonic_phrase()\n",
    "print(mnemonic_phrase)"
   ]
  },
  {
   "cell_type": "markdown",
   "id": "bd19fbb3",
   "metadata": {},
   "source": [
    "### Generate an infinite family of wallets using the mnemonic phrase:\n",
    "- This family of wallets can be used for all transactions"
   ]
  },
  {
   "cell_type": "code",
   "execution_count": 4,
   "id": "9d0b3602",
   "metadata": {},
   "outputs": [
    {
     "data": {
      "text/plain": [
       "[{'index': 0,\n",
       "  'public_key': 'bPEFM9Jux5ueyXvsWPyveyQqogEozwNf4TRa9zZofor',\n",
       "  'private_key': '329n8siWxaDZhSUsRgDegBbmMYGbaW8r1o59JyRWqhUt'},\n",
       " {'index': 1,\n",
       "  'public_key': 'HR2tQhmu7K6J2neiWHKqheUAtkT8Yb1qQGJdd1SkB1xx',\n",
       "  'private_key': 'JCRUiSoRBHxr1N5cc5h5ut78pqUjx723tJ4fMwCxNwJn'},\n",
       " {'index': 2,\n",
       "  'public_key': 'A6tUp8UTwcR8Nx2i8rTQgLgWxsXS8QHJgmuny59fMzLq',\n",
       "  'private_key': 'DaPXhkRVDdeYEAuivCZZvEuBqHwhap6yrsrynwUesYc5'},\n",
       " {'index': 3,\n",
       "  'public_key': 'FtCagSSkKQhF4Qxwj5DBXz3EeXHHSkYi7gPMUbcPySqs',\n",
       "  'private_key': 'DoQE9XNP9BCy7Gj8u1f8dSkg4NjwLhCKJgGWXDGPeAaj'},\n",
       " {'index': 4,\n",
       "  'public_key': 'uZ9eFeUFN7twoqAgZWLyGtEiQmEYy1JkTu72RK3ngQD',\n",
       "  'private_key': 'EyEwRixXhudnmbHew1FPn6h54pQG6vvwWYXrfPH3X61T'}]"
      ]
     },
     "execution_count": 4,
     "metadata": {},
     "output_type": "execute_result"
    }
   ],
   "source": [
    "# Generate 5 wallets from the mnemonic phrase:\n",
    "wallets = generate_wallets_from_mnemonic(mnemonic_phrase, count=5)\n",
    "wallets\n"
   ]
  },
  {
   "cell_type": "code",
   "execution_count": 5,
   "id": "ad41a447",
   "metadata": {},
   "outputs": [
    {
     "name": "stdout",
     "output_type": "stream",
     "text": [
      "butter dolphin alone aerobic fat rocket erase easily humor because crime puzzle depend resource family convince toe menu spin soul pyramid toward proud average\n"
     ]
    },
    {
     "data": {
      "text/plain": [
       "[{'index': 0,\n",
       "  'public_key': '3yqZWbSUigXjdyqjszP1pgQZBdF6RVs5SM14DAdLZa8T',\n",
       "  'private_key': 'DdnCud4bnP74TAtZg6ekuYjMxGhNUABrWhmRTpto2ZcV'},\n",
       " {'index': 1,\n",
       "  'public_key': '76wYQuexNxcLrnxcFN4hSY5GsZhJi5MChjBnG4c7Fjnu',\n",
       "  'private_key': '2ywqHa2e7Xu7DCFoeUYZA7cQaEt2De2d3uWy18KtX8Ha'},\n",
       " {'index': 2,\n",
       "  'public_key': 'ACK8vhktt6QTbJuXp2krfuguGjqSBpbj7SJkKG23F6DB',\n",
       "  'private_key': 'J4zr5yKxjUvaSDtbYQnEMmnWooD9ohhkuRAMH4Q77XuD'},\n",
       " {'index': 3,\n",
       "  'public_key': '4CbBm7hjR5wvSA4P3REMPDVWZVpmEJqB3KAHXZfbJqRP',\n",
       "  'private_key': '2MM4ADvPL56MJc1aLH9xjMqStqmurdMqYZEh471ozn2e'},\n",
       " {'index': 4,\n",
       "  'public_key': 'CNzDQUFb9eLUrRrNuk6ubA2hafwu5XLWxg2vYvUFMY2V',\n",
       "  'private_key': '6uoPt369DXf34y92CmQsGxE9wDXfb2P9B2GFMa3kTvLk'}]"
      ]
     },
     "execution_count": 5,
     "metadata": {},
     "output_type": "execute_result"
    }
   ],
   "source": [
    "# A new mnemonic phrase will lead to a different family of wallets:\n",
    "mnemonic_phrase = create_mnemonic_phrase()\n",
    "print(mnemonic_phrase)\n",
    "wallets = generate_wallets_from_mnemonic(mnemonic_phrase, count=5)\n",
    "wallets"
   ]
  },
  {
   "cell_type": "code",
   "execution_count": 5,
   "id": "3e2dac55",
   "metadata": {},
   "outputs": [
    {
     "data": {
      "text/plain": [
       "{'is_valid': True,\n",
       " 'provided_public_key': 'bPEFM9Jux5ueyXvsWPyveyQqogEozwNf4TRa9zZofor',\n",
       " 'derived_public_key': 'bPEFM9Jux5ueyXvsWPyveyQqogEozwNf4TRa9zZofor'}"
      ]
     },
     "execution_count": 5,
     "metadata": {},
     "output_type": "execute_result"
    }
   ],
   "source": [
    "# here is a simple utility function to make sure these are valid Solana keypairs:\n",
    "verify_solana_keypair(wallets[0]['public_key'], wallets[0]['private_key'])"
   ]
  },
  {
   "cell_type": "markdown",
   "id": "32e7ba22",
   "metadata": {},
   "source": [
    "### Let's see how to access the test and bot wallets:"
   ]
  },
  {
   "cell_type": "code",
   "execution_count": 6,
   "id": "f7b61e21",
   "metadata": {},
   "outputs": [],
   "source": [
    "from src.blockchain import get_wallet_contents\n",
    "from src.wallet_secrets import get_wallet_keypair, get_wallet_address, WalletType"
   ]
  },
  {
   "cell_type": "markdown",
   "id": "7f27b7bd",
   "metadata": {},
   "source": [
    "**Test wallet**"
   ]
  },
  {
   "cell_type": "code",
   "execution_count": 9,
   "id": "68991a48",
   "metadata": {},
   "outputs": [
    {
     "name": "stdout",
     "output_type": "stream",
     "text": [
      "4GwpPE3BPqrnJGkrowLdrn8A4hfyacrbF2ErS9tmGNjv7DhMDUjcWTLKeSfrdTqJGWW2J7hk2K5gLUBSyULFXvby\n",
      "FXLLEYZBnN1y7FvHYWQzkviY45whLKPrZhcqkE1H91Gj\n"
     ]
    }
   ],
   "source": [
    "test_keypair = get_wallet_keypair(WalletType.TEST)\n",
    "print(test_keypair)\n",
    "test_address = get_wallet_address(WalletType.TEST)\n",
    "print(test_address)"
   ]
  },
  {
   "cell_type": "code",
   "execution_count": 10,
   "id": "32372c27",
   "metadata": {},
   "outputs": [
    {
     "data": {
      "text/plain": [
       "{'So11111111111111111111111111111111111111112': {'mint': 'So11111111111111111111111111111111111111112',\n",
       "  'raw_amount': 109617588,\n",
       "  'amount': 0.109617588,\n",
       "  'decimals': 9,\n",
       "  'name': 'Solana',\n",
       "  'symbol': 'SOL'},\n",
       " 'BxMZLMzVKsGJAdEN3sqsHmHqFeTbhLYZamiVuEQCpump': {'mint': 'BxMZLMzVKsGJAdEN3sqsHmHqFeTbhLYZamiVuEQCpump',\n",
       "  'raw_amount': 27123036813,\n",
       "  'amount': 27123.036813,\n",
       "  'decimals': 6,\n",
       "  'name': 'Kanye West Token',\n",
       "  'symbol': 'KYT'}}"
      ]
     },
     "execution_count": 10,
     "metadata": {},
     "output_type": "execute_result"
    }
   ],
   "source": [
    "await get_wallet_contents(test_address)  # Note that since this is an async routine, I must call it with 'await'"
   ]
  },
  {
   "cell_type": "markdown",
   "id": "f878e605",
   "metadata": {},
   "source": [
    "**Here is how you access the BOT wallets using a mnemonic key**"
   ]
  },
  {
   "cell_type": "code",
   "execution_count": 11,
   "id": "78f6f27d",
   "metadata": {},
   "outputs": [
    {
     "name": "stdout",
     "output_type": "stream",
     "text": [
      "5Jw7rqPE97NhEasJeUw95WWhJcMEc7w8bda2E14EmKYxUR9TcY4vzn9rQZtz1uv1BddpKpd6vpmSMLKPiBEHDs7i\n",
      "3cSvQygypScaJb2bJHfdzXwwWmayvNin37Go8AkSTysS\n"
     ]
    }
   ],
   "source": [
    "\n",
    "from dotenv import load_dotenv\n",
    "import os\n",
    "\n",
    "load_dotenv()\n",
    "base_mnemonic = os.getenv(\"SOLANA_MEME_PUMP_BASE\")\n",
    "base_keypair = get_wallet_keypair(WalletType.BOT, base_mnemonic, wallet_idx=0) # indexing bot #0\n",
    "print(base_keypair)\n",
    "base_address = get_wallet_address(WalletType.BOT, base_mnemonic, wallet_idx=0)\n",
    "print(base_address)"
   ]
  },
  {
   "cell_type": "code",
   "execution_count": 13,
   "id": "30b56513",
   "metadata": {},
   "outputs": [
    {
     "data": {
      "text/plain": [
       "{'So11111111111111111111111111111111111111112': {'mint': 'So11111111111111111111111111111111111111112',\n",
       "  'raw_amount': 829274578,\n",
       "  'amount': 0.829274578,\n",
       "  'decimals': 9,\n",
       "  'name': 'Solana',\n",
       "  'symbol': 'SOL'}}"
      ]
     },
     "execution_count": 13,
     "metadata": {},
     "output_type": "execute_result"
    }
   ],
   "source": [
    "await get_wallet_contents(base_address)  "
   ]
  },
  {
   "cell_type": "code",
   "execution_count": null,
   "id": "e841a132",
   "metadata": {},
   "outputs": [],
   "source": []
  }
 ],
 "metadata": {
  "kernelspec": {
   "display_name": "venv",
   "language": "python",
   "name": "python3"
  },
  "language_info": {
   "codemirror_mode": {
    "name": "ipython",
    "version": 3
   },
   "file_extension": ".py",
   "mimetype": "text/x-python",
   "name": "python",
   "nbconvert_exporter": "python",
   "pygments_lexer": "ipython3",
   "version": "3.13.2"
  }
 },
 "nbformat": 4,
 "nbformat_minor": 5
}
