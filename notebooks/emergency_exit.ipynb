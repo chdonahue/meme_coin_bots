{
 "cells": [
  {
   "cell_type": "markdown",
   "id": "63cbe006",
   "metadata": {},
   "source": [
    "### This is built to help me emergency exit from trades:"
   ]
  },
  {
   "cell_type": "markdown",
   "id": "2e90873c",
   "metadata": {},
   "source": []
  },
  {
   "cell_type": "code",
   "execution_count": 1,
   "id": "239ffe64",
   "metadata": {},
   "outputs": [],
   "source": [
    "%load_ext autoreload\n",
    "%autoreload 2"
   ]
  },
  {
   "cell_type": "code",
   "execution_count": 2,
   "id": "e260e972",
   "metadata": {},
   "outputs": [
    {
     "data": {
      "text/plain": [
       "True"
      ]
     },
     "execution_count": 2,
     "metadata": {},
     "output_type": "execute_result"
    }
   ],
   "source": [
    "import os\n",
    "from dotenv import load_dotenv\n",
    "from src.pump_bot_tracker.wallet_secrets import WalletType, get_wallet_keypair, get_wallet_address\n",
    "from src.pump_bot_tracker.blockchain import get_wallet_contents, retry_swap_tokens\n",
    "\n",
    "from src.pump_bot_tracker.token_addresses import SOL\n",
    "load_dotenv()"
   ]
  },
  {
   "cell_type": "code",
   "execution_count": 26,
   "id": "3260d272",
   "metadata": {},
   "outputs": [
    {
     "data": {
      "text/plain": [
       "'3cSvQygypScaJb2bJHfdzXwwWmayvNin37Go8AkSTysS'"
      ]
     },
     "execution_count": 26,
     "metadata": {},
     "output_type": "execute_result"
    }
   ],
   "source": [
    "BASE_IDX = 0\n",
    "base_phrase = os.getenv(\"SOLANA_MEME_PUMP_BASE\")\n",
    "base_address = get_wallet_address(wallet_type=WalletType.BOT, mnemonic_phrase=base_phrase, wallet_idx = BASE_IDX)\n",
    "base_address"
   ]
  },
  {
   "cell_type": "code",
   "execution_count": 38,
   "id": "1d0dc2d9",
   "metadata": {},
   "outputs": [
    {
     "name": "stdout",
     "output_type": "stream",
     "text": [
      "GckZHWW8dKYtBJvvWERefYxu832cKSfiSjVwiFc76wFo\n"
     ]
    },
    {
     "data": {
      "text/plain": [
       "Keypair(\n",
       "    Keypair(\n",
       "        Keypair {\n",
       "            secret: SecretKey: [160, 0, 207, 226, 45, 204, 184, 190, 127, 108, 32, 198, 173, 185, 146, 56, 59, 174, 244, 155, 115, 59, 181, 125, 140, 29, 83, 198, 78, 127, 249, 134],\n",
       "            public: PublicKey(CompressedEdwardsY: [232, 7, 225, 193, 34, 152, 57, 1, 57, 140, 233, 142, 56, 43, 156, 136, 10, 144, 246, 19, 45, 32, 186, 231, 113, 244, 58, 64, 2, 80, 34, 250]), EdwardsPoint{\n",
       "            \tX: FieldElement51([789353901448241, 1582181527392387, 1280156393822677, 1302597540325029, 2135111359377587]),\n",
       "            \tY: FieldElement51([521279460705830, 1123777924150552, 1956430724183490, 2045630395371393, 527761321991007]),\n",
       "            \tZ: FieldElement51([1509661675224530, 120824980632188, 2091114601672152, 860722329518190, 235782335099927]),\n",
       "            \tT: FieldElement51([1862331386744537, 451644902107865, 737157523535567, 2067674238335556, 1232541503361986])\n",
       "            }),\n",
       "        },\n",
       "    ),\n",
       ")"
      ]
     },
     "execution_count": 38,
     "metadata": {},
     "output_type": "execute_result"
    }
   ],
   "source": [
    "# For solana Meme Pump we'll be using this bot:\n",
    "BOT_IDX = 2\n",
    "phrase = os.getenv(\"SOLANA_MEME_PUMP_TRADE\")\n",
    "BOT_ADDRESS = get_wallet_address(wallet_type=WalletType.BOT, mnemonic_phrase=phrase, wallet_idx = BOT_IDX)\n",
    "BOT_KEYPAIR = get_wallet_keypair(wallet_type=WalletType.BOT, mnemonic_phrase=phrase, wallet_idx = BOT_IDX)\n",
    "print(BOT_ADDRESS)\n",
    "BOT_KEYPAIR"
   ]
  },
  {
   "cell_type": "code",
   "execution_count": 39,
   "id": "35b5ccad",
   "metadata": {},
   "outputs": [
    {
     "name": "stdout",
     "output_type": "stream",
     "text": [
      "GckZHWW8dKYtBJvvWERefYxu832cKSfiSjVwiFc76wFo\n"
     ]
    },
    {
     "data": {
      "text/plain": [
       "{'So11111111111111111111111111111111111111112': {'mint': 'So11111111111111111111111111111111111111112',\n",
       "  'raw_amount': 2786061,\n",
       "  'amount': 0.002786061,\n",
       "  'decimals': 9,\n",
       "  'name': 'Solana',\n",
       "  'symbol': 'SOL'}}"
      ]
     },
     "execution_count": 39,
     "metadata": {},
     "output_type": "execute_result"
    }
   ],
   "source": [
    "wallet_contents = await get_wallet_contents(BOT_ADDRESS)\n",
    "print(BOT_ADDRESS)\n",
    "wallet_contents"
   ]
  },
  {
   "cell_type": "markdown",
   "id": "074184c2",
   "metadata": {},
   "source": [
    "### SOLANA MEME PUMP EMERGENCY EXIT:"
   ]
  },
  {
   "cell_type": "code",
   "execution_count": 35,
   "id": "9b6df29a",
   "metadata": {},
   "outputs": [
    {
     "data": {
      "text/plain": [
       "'So11111111111111111111111111111111111111112'"
      ]
     },
     "execution_count": 35,
     "metadata": {},
     "output_type": "execute_result"
    }
   ],
   "source": [
    "SOL"
   ]
  },
  {
   "cell_type": "code",
   "execution_count": 40,
   "id": "9359231c",
   "metadata": {},
   "outputs": [
    {
     "name": "stdout",
     "output_type": "stream",
     "text": [
      "GckZHWW8dKYtBJvvWERefYxu832cKSfiSjVwiFc76wFo\n"
     ]
    }
   ],
   "source": [
    "print(BOT_ADDRESS)\n",
    "SLIPPAGE_BPS = 5000\n",
    "PRIORITIZATION_FEE = 100000"
   ]
  },
  {
   "cell_type": "markdown",
   "id": "5428bee9",
   "metadata": {},
   "source": []
  },
  {
   "cell_type": "code",
   "execution_count": 37,
   "id": "0781a417",
   "metadata": {},
   "outputs": [
    {
     "data": {
      "text/plain": [
       "'AM1xRfkpq7snoMSfzHtNeUd5FxsrD2Nk7krg9VJsH4tr'"
      ]
     },
     "execution_count": 37,
     "metadata": {},
     "output_type": "execute_result"
    }
   ],
   "source": [
    "# Get the token address\n",
    "token_address = \"AM1xRfkpq7snoMSfzHtNeUd5FxsrD2Nk7krg9VJsH4tr\"\n",
    "token_address"
   ]
  },
  {
   "cell_type": "code",
   "execution_count": 11,
   "id": "2b38bf2f",
   "metadata": {},
   "outputs": [
    {
     "name": "stdout",
     "output_type": "stream",
     "text": [
      "3243979611913\n"
     ]
    },
    {
     "data": {
      "text/plain": [
       "{'signature': '3tLcWW2HaRJXVoe4pKrMTvtPMQPhRKaxqtTMzYJ5VQVFyJbofQ3wrihJXrQvW2H2xfnMBArpSvyGt2b7RScU9811',\n",
       " 'quote': {'inputMint': '213SFK9MVdsGbMkdJfrtTunUNkFzTdfWErJiD9cozmX1',\n",
       "  'inAmount': '3243979611913',\n",
       "  'outputMint': 'So11111111111111111111111111111111111111112',\n",
       "  'outAmount': '180207069',\n",
       "  'otherAmountThreshold': '153176009',\n",
       "  'swapMode': 'ExactIn',\n",
       "  'slippageBps': 1500,\n",
       "  'platformFee': None,\n",
       "  'priceImpactPct': '0.0097439088509613459955910449',\n",
       "  'routePlan': [{'swapInfo': {'ammKey': '2YiqTGQz2rpbHAscFsMtH8gzHqaotWFJX6SxGChrCnCT',\n",
       "     'label': 'Raydium CP',\n",
       "     'inputMint': '213SFK9MVdsGbMkdJfrtTunUNkFzTdfWErJiD9cozmX1',\n",
       "     'outputMint': 'So11111111111111111111111111111111111111112',\n",
       "     'inAmount': '3243979611913',\n",
       "     'outAmount': '180207069',\n",
       "     'feeAmount': '8109949029',\n",
       "     'feeMint': '213SFK9MVdsGbMkdJfrtTunUNkFzTdfWErJiD9cozmX1'},\n",
       "    'percent': 100}],\n",
       "  'scoreReport': None,\n",
       "  'contextSlot': 338917359,\n",
       "  'timeTaken': 0.017423059,\n",
       "  'swapUsdValue': '30.971561779766494927901049708',\n",
       "  'simplerRouteUsed': False,\n",
       "  'mostReliableAmmsQuoteReport': {'info': {'Czfq3xZZDmsdGdUyrNLtRhGc47cXcZtLG4crryfu44zE': 'Not used',\n",
       "    '2YiqTGQz2rpbHAscFsMtH8gzHqaotWFJX6SxGChrCnCT': '180207069'}},\n",
       "  'useIncurredSlippageForQuoting': None}}"
      ]
     },
     "execution_count": 11,
     "metadata": {},
     "output_type": "execute_result"
    }
   ],
   "source": [
    "\n",
    "\n",
    "wallet_contents = await get_wallet_contents(BOT_ADDRESS)\n",
    "exit_amount = wallet_contents[token_address][\"raw_amount\"] # FULL AMOUNT\n",
    "print(exit_amount)\n",
    "\n",
    "\n",
    "# EXECUTE EMERGENCY TRADE: \n",
    "SLIPPAGE_BPS = 1500\n",
    "PRIORITIZATION_FEE = 100000\n",
    "await retry_swap_tokens(token_address, SOL, exit_amount, BOT_KEYPAIR, slippage_bps=SLIPPAGE_BPS, prioritization_fee = PRIORITIZATION_FEE)"
   ]
  },
  {
   "cell_type": "code",
   "execution_count": null,
   "id": "3a98453e",
   "metadata": {},
   "outputs": [],
   "source": []
  },
  {
   "cell_type": "code",
   "execution_count": null,
   "id": "4dcde9b4",
   "metadata": {},
   "outputs": [],
   "source": []
  },
  {
   "cell_type": "code",
   "execution_count": null,
   "id": "cdb68ead",
   "metadata": {},
   "outputs": [],
   "source": []
  },
  {
   "cell_type": "code",
   "execution_count": 36,
   "id": "348b2efb",
   "metadata": {},
   "outputs": [],
   "source": [
    "# Get wallets for this strategy:\n",
    "from src.pump_bot_tracker.blockchain import transfer_sol\n",
    "BASE_IDX = 0\n",
    "base_phrase = os.getenv(\"SOLANA_MEME_PUMP_BASE\")\n",
    "trade_phrase = os.getenv(\"SOLANA_MEME_PUMP_TRADE\")\n",
    "base_bot_address = get_wallet_address(wallet_type=WalletType.BOT, mnemonic_phrase=base_phrase, wallet_idx = BASE_IDX)\n",
    "base_bot_keypair = get_wallet_keypair(wallet_type=WalletType.BOT, mnemonic_phrase=base_phrase, wallet_idx = BASE_IDX)\n",
    "trade_bot_address = get_wallet_address(wallet_type=WalletType.BOT, mnemonic_phrase=trade_phrase, wallet_idx = BOT_IDX)\n",
    "trade_bot_keypair = get_wallet_keypair(wallet_type=WalletType.BOT, mnemonic_phrase=trade_phrase, wallet_idx = BOT_IDX)\n",
    "wallet_contents = await get_wallet_contents(trade_bot_address)\n",
    "wallet_contents\n",
    "lamports_to_transfer = wallet_contents['SOL'][\"raw_amount\"] - 5000000 # FULL AMOUNT\n",
    "\n",
    "signature = await transfer_sol(trade_bot_keypair, base_bot_address, lamports_to_transfer)\n"
   ]
  },
  {
   "cell_type": "code",
   "execution_count": 37,
   "id": "c4a7d049",
   "metadata": {},
   "outputs": [
    {
     "data": {
      "text/plain": [
       "'4Qyd9hebnpCMxUW2Wiy6v3nZ5UcA7KE351e7uyCraukLK7czq9zmrRhgjAtGPFsXEqLLzjmzU6zbDm9ptX5s5bJi'"
      ]
     },
     "execution_count": 37,
     "metadata": {},
     "output_type": "execute_result"
    }
   ],
   "source": [
    "signature"
   ]
  },
  {
   "cell_type": "code",
   "execution_count": null,
   "id": "fb801285",
   "metadata": {},
   "outputs": [],
   "source": []
  },
  {
   "cell_type": "code",
   "execution_count": 23,
   "id": "c25ef49f",
   "metadata": {},
   "outputs": [
    {
     "data": {
      "text/plain": [
       "204770747474"
      ]
     },
     "execution_count": 23,
     "metadata": {},
     "output_type": "execute_result"
    }
   ],
   "source": [
    "exit_amount = wallet_contents[token_address][\"raw_amount\"] # FULL AMOUNT\n",
    "exit_amount"
   ]
  },
  {
   "cell_type": "code",
   "execution_count": null,
   "id": "bc3217f8",
   "metadata": {},
   "outputs": [],
   "source": []
  },
  {
   "cell_type": "markdown",
   "id": "a1fb53c6",
   "metadata": {},
   "source": [
    "### CRYPTO CLUB EMERGENCY EXIT:"
   ]
  },
  {
   "cell_type": "code",
   "execution_count": 34,
   "id": "a4a018f0",
   "metadata": {},
   "outputs": [
    {
     "data": {
      "text/plain": [
       "'C8LuZPLTn45aWiao59J1K2K85zpztRh1rknKTQhM9Vwy'"
      ]
     },
     "execution_count": 34,
     "metadata": {},
     "output_type": "execute_result"
    }
   ],
   "source": [
    "# Get the token address and amount:\n",
    "token_address = \"C8LuZPLTn45aWiao59J1K2K85zpztRh1rknKTQhM9Vwy\"\n",
    "token_address"
   ]
  },
  {
   "cell_type": "code",
   "execution_count": 35,
   "id": "5af15d5a",
   "metadata": {},
   "outputs": [
    {
     "data": {
      "text/plain": [
       "'8TRipPeB91R8uuajGBzEgcoBZu2dp53JCDyayjQAcsd4'"
      ]
     },
     "execution_count": 35,
     "metadata": {},
     "output_type": "execute_result"
    }
   ],
   "source": [
    "BOT_ADDRESS"
   ]
  },
  {
   "cell_type": "code",
   "execution_count": 33,
   "id": "63fb2a45",
   "metadata": {},
   "outputs": [
    {
     "data": {
      "text/plain": [
       "{'SOL': {'mint': 'SOL',\n",
       "  'raw_amount': 203995002,\n",
       "  'amount': 0.203995002,\n",
       "  'decimals': 9,\n",
       "  'name': 'Solana',\n",
       "  'symbol': 'SOL'}}"
      ]
     },
     "execution_count": 33,
     "metadata": {},
     "output_type": "execute_result"
    }
   ],
   "source": [
    "wallet_contents = await get_wallet_contents(BOT_ADDRESS)\n",
    "wallet_contents\n",
    "# exit_amount = wallet_contents[token_address][\"raw_amount\"] # FULL AMOUNT\n",
    "# print(exit_amount)"
   ]
  },
  {
   "cell_type": "code",
   "execution_count": 25,
   "id": "efb30622",
   "metadata": {},
   "outputs": [
    {
     "name": "stdout",
     "output_type": "stream",
     "text": [
      "204770747474\n",
      "Transaction submitted: 3GxZyT1A6iJkST7JJ65hM2LeRvnoJjHizJ1Vfkm4iMSoS6WvWaf9WTeStZ3FBKRqbbrjw9YST6X2YUxycpempRF6\n"
     ]
    },
    {
     "data": {
      "text/plain": [
       "{'signature': '3GxZyT1A6iJkST7JJ65hM2LeRvnoJjHizJ1Vfkm4iMSoS6WvWaf9WTeStZ3FBKRqbbrjw9YST6X2YUxycpempRF6',\n",
       " 'quote': {'inputMint': 'E5on8kLy38QSCj5kUGDj5o6ShwpV1KKjbRULyrJUpump',\n",
       "  'inAmount': '204770747474',\n",
       "  'outputMint': 'So11111111111111111111111111111111111111112',\n",
       "  'outAmount': '57148918',\n",
       "  'otherAmountThreshold': '54291473',\n",
       "  'swapMode': 'ExactIn',\n",
       "  'slippageBps': 500,\n",
       "  'platformFee': None,\n",
       "  'priceImpactPct': '0',\n",
       "  'routePlan': [{'swapInfo': {'ammKey': 'DD7Qp2jRrcqadHVoLFjBazBuaKyBVYVKdNKF2AvPsgNV',\n",
       "     'label': 'Pump.fun',\n",
       "     'inputMint': 'E5on8kLy38QSCj5kUGDj5o6ShwpV1KKjbRULyrJUpump',\n",
       "     'outputMint': 'So11111111111111111111111111111111111111112',\n",
       "     'inAmount': '204770747474',\n",
       "     'outAmount': '57148918',\n",
       "     'feeAmount': '2047707474',\n",
       "     'feeMint': 'E5on8kLy38QSCj5kUGDj5o6ShwpV1KKjbRULyrJUpump'},\n",
       "    'percent': 100}],\n",
       "  'scoreReport': None,\n",
       "  'contextSlot': 338471420,\n",
       "  'timeTaken': 0.013848427,\n",
       "  'swapUsdValue': '8.367354949668199178326292641',\n",
       "  'simplerRouteUsed': False,\n",
       "  'mostReliableAmmsQuoteReport': {'info': {'Czfq3xZZDmsdGdUyrNLtRhGc47cXcZtLG4crryfu44zE': 'Not used'}},\n",
       "  'useIncurredSlippageForQuoting': None}}"
      ]
     },
     "execution_count": 25,
     "metadata": {},
     "output_type": "execute_result"
    }
   ],
   "source": [
    "wallet_contents = await get_wallet_contents(BOT_ADDRESS)\n",
    "exit_amount = wallet_contents[token_address][\"raw_amount\"] # FULL AMOUNT\n",
    "print(exit_amount)\n",
    "\n",
    "\n",
    "# EXECUTE EMERGENCY TRADE: \n",
    "SLIPPAGE_BPS = 500\n",
    "PRIORITIZATION_FEE = 100000\n",
    "await swap_tokens(token_address, SOL, exit_amount, BOT_KEYPAIR, slippage_bps=SLIPPAGE_BPS, prioritization_fee = PRIORITIZATION_FEE)"
   ]
  },
  {
   "cell_type": "code",
   "execution_count": 32,
   "id": "b72491dd",
   "metadata": {},
   "outputs": [
    {
     "data": {
      "text/plain": [
       "1.5535635236830456"
      ]
     },
     "execution_count": 32,
     "metadata": {},
     "output_type": "execute_result"
    }
   ],
   "source": [
    "7019/4518"
   ]
  },
  {
   "cell_type": "code",
   "execution_count": 21,
   "id": "e77d823e",
   "metadata": {},
   "outputs": [
    {
     "data": {
      "text/plain": [
       "6.587926509186352"
      ]
     },
     "execution_count": 21,
     "metadata": {},
     "output_type": "execute_result"
    }
   ],
   "source": [
    "2259/342.9"
   ]
  },
  {
   "cell_type": "code",
   "execution_count": null,
   "id": "33e7532b",
   "metadata": {},
   "outputs": [],
   "source": []
  }
 ],
 "metadata": {
  "kernelspec": {
   "display_name": "venv",
   "language": "python",
   "name": "python3"
  },
  "language_info": {
   "codemirror_mode": {
    "name": "ipython",
    "version": 3
   },
   "file_extension": ".py",
   "mimetype": "text/x-python",
   "name": "python",
   "nbconvert_exporter": "python",
   "pygments_lexer": "ipython3",
   "version": "3.13.2"
  }
 },
 "nbformat": 4,
 "nbformat_minor": 5
}
