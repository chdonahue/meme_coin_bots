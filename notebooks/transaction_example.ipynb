{
 "cells": [
  {
   "cell_type": "markdown",
   "id": "9cb81923",
   "metadata": {},
   "source": [
    "# Demonstration of how to execute a swap transaction with retry logic:"
   ]
  },
  {
   "cell_type": "code",
   "execution_count": 1,
   "id": "b50791c6",
   "metadata": {},
   "outputs": [],
   "source": [
    "%load_ext autoreload\n",
    "%autoreload 2"
   ]
  },
  {
   "cell_type": "code",
   "execution_count": 2,
   "id": "1249bfe0",
   "metadata": {},
   "outputs": [],
   "source": [
    "from src.blockchain import retry_swap_tokens, convert_to_base_unit, get_wallet_contents\n",
    "from src.wallet_secrets import get_wallet_keypair, get_wallet_address, WalletType\n",
    "from src.token_addresses import SOL, USDC\n",
    "from dotenv import load_dotenv\n",
    "import os"
   ]
  },
  {
   "cell_type": "markdown",
   "id": "1d58eb5c",
   "metadata": {},
   "source": [
    "### I will swap 0.001 SOL for USDC in one of my bot base wallets:"
   ]
  },
  {
   "cell_type": "code",
   "execution_count": null,
   "id": "b9e5e75e",
   "metadata": {},
   "outputs": [
    {
     "name": "stdout",
     "output_type": "stream",
     "text": [
      "5Jw7rqPE97NhEasJeUw95WWhJcMEc7w8bda2E14EmKYxUR9TcY4vzn9rQZtz1uv1BddpKpd6vpmSMLKPiBEHDs7i 3cSvQygypScaJb2bJHfdzXwwWmayvNin37Go8AkSTysS\n"
     ]
    }
   ],
   "source": [
    "BOT_IDX = 0 # Bot #0\n",
    "# First, get the address and keypair for the base wallet:\n",
    "load_dotenv()\n",
    "base_mnemonic = os.getenv(\"SOLAMBO_BASE\")\n",
    "base_keypair = get_wallet_keypair(WalletType.BOT, base_mnemonic, wallet_idx=BOT_IDX) \n",
    "base_address = get_wallet_address(WalletType.BOT, base_mnemonic, wallet_idx=BOT_IDX)\n",
    "print(base_keypair, base_address)"
   ]
  },
  {
   "cell_type": "code",
   "execution_count": null,
   "id": "aaaaf0cb",
   "metadata": {},
   "outputs": [],
   "source": []
  },
  {
   "cell_type": "code",
   "execution_count": 4,
   "id": "9c9f9ef6",
   "metadata": {},
   "outputs": [
    {
     "name": "stdout",
     "output_type": "stream",
     "text": [
      "Amount of lamports to swap 1000000\n"
     ]
    }
   ],
   "source": [
    "# Next define the input and output mints and trade parameters:\n",
    "# This will Swap 0.001 SOL with a 1% slippage and 50000 LAMPORT fee:\n",
    "output_mint=USDC\n",
    "input_mint=SOL\n",
    "sol_amount = 0.001 # amount of SOL\n",
    "slippage_bps = 100\n",
    "prioritization_fee = 50000 # this is important for getting a trade in a trade! \n",
    "base_amount = convert_to_base_unit(input_mint, sol_amount)\n",
    "print(f\"Amount of lamports to swap {base_amount}\") # "
   ]
  },
  {
   "cell_type": "code",
   "execution_count": null,
   "id": "2a62d78e",
   "metadata": {},
   "outputs": [],
   "source": []
  },
  {
   "cell_type": "markdown",
   "id": "434a9c38",
   "metadata": {},
   "source": [
    "**Execute the SWAP** \n",
    "\n",
    "This first example will execute a single trade and wait for confirmation:"
   ]
  },
  {
   "cell_type": "code",
   "execution_count": 5,
   "id": "ead847ae",
   "metadata": {},
   "outputs": [],
   "source": [
    "# This will try to swap up to 3 times, with a delay of 5s between each try\n",
    "transaction_dict = await retry_swap_tokens(input_mint, \n",
    "                output_mint, \n",
    "                base_amount, \n",
    "                base_keypair, \n",
    "                slippage_bps, \n",
    "                prioritization_fee, \n",
    "                max_retries=3, \n",
    "                retry_delay=5)\n"
   ]
  },
  {
   "cell_type": "code",
   "execution_count": null,
   "id": "28d11389",
   "metadata": {},
   "outputs": [],
   "source": [
    "# You should wait for a bit for the trade to settle before moving on (at least 10s)"
   ]
  },
  {
   "cell_type": "code",
   "execution_count": 6,
   "id": "1fe5f07b",
   "metadata": {},
   "outputs": [
    {
     "data": {
      "text/plain": [
       "{'signature': '3g15fRN8pJ2b2g2u1Ain9ESLCbEQfJWYEQzZ1srnCnmk78cJ3kW3VZytUyVKkZCZC7FaKfGKsmn82Muv1WrAKxPE',\n",
       " 'quote': {'inputMint': 'So11111111111111111111111111111111111111112',\n",
       "  'inAmount': '1000000',\n",
       "  'outputMint': 'EPjFWdd5AufqSSqeM2qN1xzybapC8G4wEGGkZwyTDt1v',\n",
       "  'outAmount': '177155',\n",
       "  'otherAmountThreshold': '175384',\n",
       "  'swapMode': 'ExactIn',\n",
       "  'slippageBps': 100,\n",
       "  'platformFee': None,\n",
       "  'priceImpactPct': '0',\n",
       "  'routePlan': [{'swapInfo': {'ammKey': 'GMgh4NtWrGaUf1RR2kcXD7LY1jou1qFAuSsQeKp5ow4a',\n",
       "     'label': 'Meteora DLMM',\n",
       "     'inputMint': 'So11111111111111111111111111111111111111112',\n",
       "     'outputMint': 'EPjFWdd5AufqSSqeM2qN1xzybapC8G4wEGGkZwyTDt1v',\n",
       "     'inAmount': '1000000',\n",
       "     'outAmount': '177155',\n",
       "     'feeAmount': '161',\n",
       "     'feeMint': 'So11111111111111111111111111111111111111112'},\n",
       "    'percent': 100}],\n",
       "  'contextSlot': 340021227,\n",
       "  'timeTaken': 0.001338427,\n",
       "  'swapUsdValue': '0.1770468058109381959875917808',\n",
       "  'simplerRouteUsed': False,\n",
       "  'mostReliableAmmsQuoteReport': {'info': {'Czfq3xZZDmsdGdUyrNLtRhGc47cXcZtLG4crryfu44zE': '176967',\n",
       "    'BZtgQEyS6eXUXicYPHecYQ7PybqodXQMvkjUbP4R8mUU': '177065'}},\n",
       "  'useIncurredSlippageForQuoting': None}}"
      ]
     },
     "execution_count": 6,
     "metadata": {},
     "output_type": "execute_result"
    }
   ],
   "source": [
    "transaction_dict"
   ]
  },
  {
   "cell_type": "code",
   "execution_count": 7,
   "id": "56fa683d",
   "metadata": {},
   "outputs": [
    {
     "name": "stdout",
     "output_type": "stream",
     "text": [
      "Swapping 177071 USDC\n"
     ]
    }
   ],
   "source": [
    "# Now swap back:\n",
    "wallet_contents = await get_wallet_contents(base_address)\n",
    "amount_USDC = wallet_contents.get(USDC,{}).get('raw_amount',0)\n",
    "print(f\"Swapping {amount_USDC} USDC\")\n",
    "input_mint = USDC\n",
    "output_mint = SOL\n",
    "transaction_dict = await retry_swap_tokens(input_mint, \n",
    "                output_mint, \n",
    "                amount_USDC, \n",
    "                base_keypair, \n",
    "                slippage_bps, \n",
    "                prioritization_fee, \n",
    "                max_retries=3, \n",
    "                retry_delay=5)\n"
   ]
  },
  {
   "cell_type": "markdown",
   "id": "e267e7f9",
   "metadata": {},
   "source": []
  }
 ],
 "metadata": {
  "kernelspec": {
   "display_name": "venv",
   "language": "python",
   "name": "python3"
  },
  "language_info": {
   "codemirror_mode": {
    "name": "ipython",
    "version": 3
   },
   "file_extension": ".py",
   "mimetype": "text/x-python",
   "name": "python",
   "nbconvert_exporter": "python",
   "pygments_lexer": "ipython3",
   "version": "3.13.2"
  }
 },
 "nbformat": 4,
 "nbformat_minor": 5
}
