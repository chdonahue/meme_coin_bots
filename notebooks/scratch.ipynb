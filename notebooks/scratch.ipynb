{
 "cells": [
  {
   "cell_type": "code",
   "execution_count": 1,
   "id": "6fcf8058",
   "metadata": {},
   "outputs": [],
   "source": [
    "%load_ext autoreload\n",
    "%autoreload 2"
   ]
  },
  {
   "cell_type": "code",
   "execution_count": 18,
   "id": "6e216669",
   "metadata": {},
   "outputs": [],
   "source": [
    "import asyncio\n",
    "import logging\n",
    "from datetime import datetime, timedelta\n",
    "from src.pump_bot_tracker.strategy import wait_until\n"
   ]
  },
  {
   "cell_type": "code",
   "execution_count": 19,
   "id": "d12869b5",
   "metadata": {},
   "outputs": [],
   "source": [
    "now = datetime.now()\n",
    "target_time = now + timedelta(seconds=5)\n",
    "await wait_until(target_time)"
   ]
  },
  {
   "cell_type": "code",
   "execution_count": 17,
   "id": "facca0af",
   "metadata": {},
   "outputs": [
    {
     "name": "stdout",
     "output_type": "stream",
     "text": [
      "2025-05-08 12:39:38.099792\n",
      "2025-05-08 12:40:38.099792\n"
     ]
    }
   ],
   "source": [
    "print(now)\n",
    "print(target_time)"
   ]
  },
  {
   "cell_type": "code",
   "execution_count": 20,
   "id": "1c0991bd",
   "metadata": {},
   "outputs": [
    {
     "data": {
      "text/plain": [
       "datetime.datetime(2025, 5, 8, 12, 42, 33, 786530)"
      ]
     },
     "execution_count": 20,
     "metadata": {},
     "output_type": "execute_result"
    }
   ],
   "source": [
    "now"
   ]
  },
  {
   "cell_type": "code",
   "execution_count": 21,
   "id": "16528fcb",
   "metadata": {},
   "outputs": [],
   "source": [
    "target_time = now.replace(minute=29, second=0)"
   ]
  },
  {
   "cell_type": "code",
   "execution_count": 23,
   "id": "fae19312",
   "metadata": {},
   "outputs": [
    {
     "name": "stdout",
     "output_type": "stream",
     "text": [
      "2025-05-08 12:42:33.786530\n",
      "2025-05-08 12:29:00.786530\n"
     ]
    }
   ],
   "source": [
    "print(now)\n",
    "print(target_time)"
   ]
  },
  {
   "cell_type": "code",
   "execution_count": 25,
   "id": "c89f8f79",
   "metadata": {},
   "outputs": [],
   "source": [
    "await wait_until(target_time)"
   ]
  },
  {
   "cell_type": "code",
   "execution_count": 2,
   "id": "e57b98c5",
   "metadata": {},
   "outputs": [
    {
     "data": {
      "text/plain": [
       "1.4291348935051276"
      ]
     },
     "execution_count": 2,
     "metadata": {},
     "output_type": "execute_result"
    }
   ],
   "source": [
    ".1087/.07606"
   ]
  },
  {
   "cell_type": "code",
   "execution_count": 3,
   "id": "095a7b0d",
   "metadata": {},
   "outputs": [
    {
     "data": {
      "text/plain": [
       "1204040.0"
      ]
     },
     "execution_count": 3,
     "metadata": {},
     "output_type": "execute_result"
    }
   ],
   "source": [
    "30101/0.025"
   ]
  },
  {
   "cell_type": "code",
   "execution_count": 5,
   "id": "729ed860",
   "metadata": {},
   "outputs": [
    {
     "data": {
      "text/plain": [
       "1204040.0"
      ]
     },
     "execution_count": 5,
     "metadata": {},
     "output_type": "execute_result"
    }
   ],
   "source": [
    "30101/0.025"
   ]
  },
  {
   "cell_type": "code",
   "execution_count": 6,
   "id": "7f051269",
   "metadata": {},
   "outputs": [
    {
     "data": {
      "text/plain": [
       "4495249.677419355"
      ]
     },
     "execution_count": 6,
     "metadata": {},
     "output_type": "execute_result"
    }
   ],
   "source": [
    "69676370/15.5"
   ]
  },
  {
   "cell_type": "code",
   "execution_count": 7,
   "id": "75cfcc85",
   "metadata": {},
   "outputs": [
    {
     "data": {
      "text/plain": [
       "1.1018387553041018"
      ]
     },
     "execution_count": 7,
     "metadata": {},
     "output_type": "execute_result"
    }
   ],
   "source": [
    "1558/1414"
   ]
  },
  {
   "cell_type": "code",
   "execution_count": 2,
   "id": "f8958599",
   "metadata": {},
   "outputs": [],
   "source": [
    "import os\n",
    "import argparse\n",
    "import asyncio\n",
    "from datetime import datetime\n",
    "import logging\n",
    "from dotenv import load_dotenv\n",
    "from src.pump_bot_tracker.wallet_secrets import (\n",
    "    WalletType,\n",
    "    get_wallet_address,\n",
    "    get_wallet_keypair,\n",
    ")\n",
    "from src.pump_bot_tracker.token_addresses import SOL\n",
    "from src.pump_bot_tracker.blockchain import (\n",
    "    convert_to_base_unit,\n",
    "    transfer_sol,\n",
    "    retry_swap_tokens,\n",
    "    get_wallet_contents,\n",
    "    wait_for_sol_diff,\n",
    ")\n",
    "from src.pump_bot_tracker.strategy import (\n",
    "    ExitRules,\n",
    "    poll_until_exit,\n",
    "    start_keyboard_listener,\n",
    "    watch_keyboard,\n",
    "    wait_until\n",
    ")\n",
    "\n",
    "load_dotenv()\n",
    "now = datetime.now()\n",
    "# === CONFIG ===\n",
    "TARGET_TIME = now.replace(\n",
    "    hour=10, minute=57, second=0\n",
    ")  # Set to initiate SWAP at 10:45:00\n",
    "BASE_IDX = 0  # Index for the BASE wallet (trade this less frequently whenever I want to cash out or rebalance)\n",
    "BOT_IDX = 0  # Index for this trade Eventually auto increment once I have a listener\n",
    "MAX_SOL = 0.2  # Maximum SOL to devote to strategy\n",
    "\n",
    "SLIPPAGE_BPS = 4500  # 45% slippage\n",
    "PRIORITIZATION_FEE = 100000\n",
    "RENT_BUFFER = (\n",
    "    5000000  # Rent factor (in lamports) to be left behind on all SOL transactions\n",
    ")\n",
    "\n",
    "exit_rules = ExitRules(\n",
    "    max_duration_s=60 * 9,  # 20 min (from the TARGET TIME)\n",
    "    take_half_at=60,  # 60% gain\n",
    "    take_all_at=250,  # 250% gain\n",
    "    stop_out_at=-30,  # get completely out at -30%\n",
    "    polling_interval=5,  # 5s intervals\n",
    ")\n",
    "\n",
    "KEYBOARD_EXIT_MAPPING = {\n",
    "    \"h\": \"sell_half\",\n",
    "    \"a\": \"sell_all\",\n",
    "}\n",
    "\n",
    "# Get wallets for this strategy:\n",
    "base_phrase = os.getenv(\"SOLANA_MEME_PUMP_BASE\")\n",
    "trade_phrase = os.getenv(\"SOLANA_MEME_PUMP_TRADE\")\n",
    "base_bot_address = get_wallet_address(\n",
    "    wallet_type=WalletType.BOT, mnemonic_phrase=base_phrase, wallet_idx=BASE_IDX\n",
    ")\n",
    "base_bot_keypair = get_wallet_keypair(\n",
    "    wallet_type=WalletType.BOT, mnemonic_phrase=base_phrase, wallet_idx=BASE_IDX\n",
    ")\n",
    "trade_bot_address = get_wallet_address(\n",
    "    wallet_type=WalletType.BOT, mnemonic_phrase=trade_phrase, wallet_idx=BOT_IDX\n",
    ")\n",
    "trade_bot_keypair = get_wallet_keypair(\n",
    "    wallet_type=WalletType.BOT, mnemonic_phrase=trade_phrase, wallet_idx=BOT_IDX\n",
    ")\n"
   ]
  },
  {
   "cell_type": "code",
   "execution_count": 3,
   "id": "f311cdf9",
   "metadata": {},
   "outputs": [
    {
     "data": {
      "text/plain": [
       "'FXLLEYZBnN1y7FvHYWQzkviY45whLKPrZhcqkE1H91Gj'"
      ]
     },
     "execution_count": 3,
     "metadata": {},
     "output_type": "execute_result"
    }
   ],
   "source": [
    "from src.pump_bot_tracker.wallet_secrets import get_wallet_keypair, WalletType\n",
    "TEST_WALLET = os.getenv(\"SOLANA_PUBLIC_KEY\")\n",
    "TEST_WALLET\n"
   ]
  },
  {
   "cell_type": "code",
   "execution_count": 4,
   "id": "6eb39d2a",
   "metadata": {},
   "outputs": [
    {
     "name": "stdout",
     "output_type": "stream",
     "text": [
      "159642588\n"
     ]
    },
    {
     "data": {
      "text/plain": [
       "{'So11111111111111111111111111111111111111112': {'mint': 'So11111111111111111111111111111111111111112',\n",
       "  'raw_amount': 159642588,\n",
       "  'amount': 0.159642588,\n",
       "  'decimals': 9,\n",
       "  'name': 'Solana',\n",
       "  'symbol': 'SOL'},\n",
       " 'BxMZLMzVKsGJAdEN3sqsHmHqFeTbhLYZamiVuEQCpump': {'mint': 'BxMZLMzVKsGJAdEN3sqsHmHqFeTbhLYZamiVuEQCpump',\n",
       "  'raw_amount': 27123036813,\n",
       "  'amount': 27123.036813,\n",
       "  'decimals': 6,\n",
       "  'name': 'Kanye West Token',\n",
       "  'symbol': 'KYT'}}"
      ]
     },
     "execution_count": 4,
     "metadata": {},
     "output_type": "execute_result"
    }
   ],
   "source": [
    "wallet_contents = await get_wallet_contents(TEST_WALLET)\n",
    "wallet_sol = wallet_contents.get(SOL, {}).get(\"raw_amount\", 0)\n",
    "test_keypair = get_wallet_keypair(WalletType.TEST)\n",
    "print(wallet_sol)\n",
    "wallet_contents"
   ]
  },
  {
   "cell_type": "code",
   "execution_count": 10,
   "id": "df300ac7",
   "metadata": {},
   "outputs": [
    {
     "data": {
      "text/plain": [
       "4.258565310492505"
      ]
     },
     "execution_count": 10,
     "metadata": {},
     "output_type": "execute_result"
    }
   ],
   "source": [
    "0.00001591/0.000003736"
   ]
  },
  {
   "cell_type": "code",
   "execution_count": null,
   "id": "bc467f88",
   "metadata": {},
   "outputs": [],
   "source": []
  },
  {
   "cell_type": "code",
   "execution_count": 9,
   "id": "fba6b253",
   "metadata": {},
   "outputs": [
    {
     "data": {
      "text/plain": [
       "'5CvpqcLE4cZuUbBtqxQejn5izHi1kJr77g4gTr8LY1ppYZoEoQR833rMe9qay15xyjumahUCYc5NWLdMLXWaamGR'"
      ]
     },
     "execution_count": 9,
     "metadata": {},
     "output_type": "execute_result"
    }
   ],
   "source": [
    "signature = await transfer_sol(\n",
    "    test_keypair, base_bot_address, 10_000_000\n",
    "    )\n",
    "signature"
   ]
  },
  {
   "cell_type": "code",
   "execution_count": 13,
   "id": "0df6b493",
   "metadata": {},
   "outputs": [
    {
     "data": {
      "text/plain": [
       "'NtHCLs6P92gWPop2VAfmiVEJ79B34DfgurczuYAH7MjSGjNtX6Z3B4hSD1gxEv7dcdUkcj3VKtQa23jcMg5xqaK'"
      ]
     },
     "execution_count": 13,
     "metadata": {},
     "output_type": "execute_result"
    }
   ],
   "source": [
    "signature"
   ]
  },
  {
   "cell_type": "markdown",
   "id": "4d374d4e",
   "metadata": {},
   "source": [
    "### Fast liquidity checking:"
   ]
  },
  {
   "cell_type": "code",
   "execution_count": null,
   "id": "108c5d7b",
   "metadata": {},
   "outputs": [
    {
     "ename": "RuntimeError",
     "evalue": "asyncio.run() cannot be called from a running event loop",
     "output_type": "error",
     "traceback": [
      "\u001b[0;31m---------------------------------------------------------------------------\u001b[0m",
      "\u001b[0;31mRuntimeError\u001b[0m                              Traceback (most recent call last)",
      "Cell \u001b[0;32mIn[15], line 43\u001b[0m\n\u001b[1;32m     40\u001b[0m             \u001b[38;5;28;01mexcept\u001b[39;00m \u001b[38;5;167;01mKeyError\u001b[39;00m:\n\u001b[1;32m     41\u001b[0m                 \u001b[38;5;28;01mpass\u001b[39;00m\n\u001b[0;32m---> 43\u001b[0m \u001b[43masyncio\u001b[49m\u001b[38;5;241;43m.\u001b[39;49m\u001b[43mrun\u001b[49m\u001b[43m(\u001b[49m\u001b[43mmain\u001b[49m\u001b[43m(\u001b[49m\u001b[43m)\u001b[49m\u001b[43m)\u001b[49m\n",
      "File \u001b[0;32m/opt/homebrew/Cellar/python@3.13/3.13.2/Frameworks/Python.framework/Versions/3.13/lib/python3.13/asyncio/runners.py:191\u001b[0m, in \u001b[0;36mrun\u001b[0;34m(main, debug, loop_factory)\u001b[0m\n\u001b[1;32m    161\u001b[0m \u001b[38;5;250m\u001b[39m\u001b[38;5;124;03m\"\"\"Execute the coroutine and return the result.\u001b[39;00m\n\u001b[1;32m    162\u001b[0m \n\u001b[1;32m    163\u001b[0m \u001b[38;5;124;03mThis function runs the passed coroutine, taking care of\u001b[39;00m\n\u001b[0;32m   (...)\u001b[0m\n\u001b[1;32m    187\u001b[0m \u001b[38;5;124;03m    asyncio.run(main())\u001b[39;00m\n\u001b[1;32m    188\u001b[0m \u001b[38;5;124;03m\"\"\"\u001b[39;00m\n\u001b[1;32m    189\u001b[0m \u001b[38;5;28;01mif\u001b[39;00m events\u001b[38;5;241m.\u001b[39m_get_running_loop() \u001b[38;5;129;01mis\u001b[39;00m \u001b[38;5;129;01mnot\u001b[39;00m \u001b[38;5;28;01mNone\u001b[39;00m:\n\u001b[1;32m    190\u001b[0m     \u001b[38;5;66;03m# fail fast with short traceback\u001b[39;00m\n\u001b[0;32m--> 191\u001b[0m     \u001b[38;5;28;01mraise\u001b[39;00m \u001b[38;5;167;01mRuntimeError\u001b[39;00m(\n\u001b[1;32m    192\u001b[0m         \u001b[38;5;124m\"\u001b[39m\u001b[38;5;124masyncio.run() cannot be called from a running event loop\u001b[39m\u001b[38;5;124m\"\u001b[39m)\n\u001b[1;32m    194\u001b[0m \u001b[38;5;28;01mwith\u001b[39;00m Runner(debug\u001b[38;5;241m=\u001b[39mdebug, loop_factory\u001b[38;5;241m=\u001b[39mloop_factory) \u001b[38;5;28;01mas\u001b[39;00m runner:\n\u001b[1;32m    195\u001b[0m     \u001b[38;5;28;01mreturn\u001b[39;00m runner\u001b[38;5;241m.\u001b[39mrun(main)\n",
      "\u001b[0;31mRuntimeError\u001b[0m: asyncio.run() cannot be called from a running event loop"
     ]
    }
   ],
   "source": [
    "import asyncio\n",
    "import json\n",
    "import websockets\n",
    "\n",
    "RAYDIUM_AMM_V4 = \"675kPX9MHTjS2zt1qfr1NYHuzeLXfQM9H24wFSUt1Mp8\"\n",
    "SEARCH_STRING = \"initialize2\"\n",
    "\n",
    "async def main():\n",
    "    uri = \"wss://api.mainnet-beta.solana.com/\"  # replace with your preferred RPC if needed\n",
    "\n",
    "    async with websockets.connect(uri) as ws:\n",
    "        sub_req = {\n",
    "            \"jsonrpc\": \"2.0\",\n",
    "            \"id\": 1,\n",
    "            \"method\": \"logsSubscribe\",\n",
    "            \"params\": [\n",
    "                {\n",
    "                    \"mentions\": [RAYDIUM_AMM_V4]\n",
    "                },\n",
    "                {\n",
    "                    \"commitment\": \"finalized\"\n",
    "                }\n",
    "            ]\n",
    "        }\n",
    "        await ws.send(json.dumps(sub_req))\n",
    "        print(\"Subscribed to Raydium logs...\")\n",
    "\n",
    "        while True:\n",
    "            response = await ws.recv()\n",
    "            data = json.loads(response)\n",
    "\n",
    "            if \"result\" in data:\n",
    "                continue  # Initial subscription confirmation\n",
    "\n",
    "            try:\n",
    "                logs = data[\"params\"][\"result\"][\"value\"][\"logs\"]\n",
    "                sig = data[\"params\"][\"result\"][\"value\"][\"signature\"]\n",
    "                if SEARCH_STRING in \" \".join(logs):\n",
    "                    print(\"New pool tx:\", sig)\n",
    "            except KeyError:\n",
    "                pass\n",
    "\n",
    "asyncio.run(main())\n"
   ]
  },
  {
   "cell_type": "code",
   "execution_count": 27,
   "id": "69b9fd56",
   "metadata": {},
   "outputs": [
    {
     "data": {
      "text/plain": [
       "'8TRipPeB91R8uuajGBzEgcoBZu2dp53JCDyayjQAcsd4'"
      ]
     },
     "execution_count": 27,
     "metadata": {},
     "output_type": "execute_result"
    }
   ],
   "source": [
    "trade_bot_address"
   ]
  },
  {
   "cell_type": "code",
   "execution_count": null,
   "id": "55aada13",
   "metadata": {},
   "outputs": [],
   "source": []
  },
  {
   "cell_type": "markdown",
   "id": "51d8147b",
   "metadata": {},
   "source": [
    "### Go from signature to transaction details:"
   ]
  },
  {
   "cell_type": "code",
   "execution_count": 39,
   "id": "1a2ad318",
   "metadata": {},
   "outputs": [],
   "source": [
    "from src.pump_bot_tracker.blockchain import get_helius_url\n",
    "import requests\n",
    "signature = \"3nWjLLkzeEv4Ehs2nkLVxtukAjGqyynVeSRNrX1HTddrDopgLoCPmFF7BZAEHuTyVQ6Xcxr8yYLBsAjmv69uZWJa\"\n",
    "def get_transaction(signature: str):\n",
    "    rpc_url = get_helius_url()\n",
    "    payload = {\n",
    "            \"jsonrpc\": \"2.0\",\n",
    "            \"id\": 1,\n",
    "            \"method\": \"getTransaction\",\n",
    "            \"params\": [\n",
    "                signature,\n",
    "                {\n",
    "                    \"encoding\": \"jsonParsed\",\n",
    "                    \"commitment\": \"confirmed\",\n",
    "                    \"maxSupportedTransactionVersion\": 0\n",
    "                }\n",
    "            ]\n",
    "        }\n",
    "    response = requests.post(rpc_url, json=payload)\n",
    "    response.raise_for_status()\n",
    "    return response.json()"
   ]
  },
  {
   "cell_type": "code",
   "execution_count": 40,
   "id": "a309214c",
   "metadata": {},
   "outputs": [],
   "source": [
    "data = get_transaction(signature)"
   ]
  },
  {
   "cell_type": "code",
   "execution_count": 41,
   "id": "278ed061",
   "metadata": {},
   "outputs": [
    {
     "data": {
      "text/plain": [
       "{'jsonrpc': '2.0',\n",
       " 'result': {'blockTime': 1746721645,\n",
       "  'meta': {'computeUnitsConsumed': 57250,\n",
       "   'err': None,\n",
       "   'fee': 244000,\n",
       "   'innerInstructions': [{'index': 4,\n",
       "     'instructions': [{'parsed': {'info': {'extensionTypes': ['immutableOwner'],\n",
       "         'mint': 'GtWDtbTw8oJqR6VDYPmDVvCoD3nfPQCoooABYQzAHNUG'},\n",
       "        'type': 'getAccountDataSize'},\n",
       "       'program': 'spl-token',\n",
       "       'programId': 'TokenkegQfeZyiNwAJbNbGKPFXCWuBvf9Ss623VQ5DA',\n",
       "       'stackHeight': 2},\n",
       "      {'parsed': {'info': {'lamports': 2039280,\n",
       "         'newAccount': '43v51JYdbu5cVdQHQ35CPa1qkxGENrNan6qgNfQBzR6k',\n",
       "         'owner': 'TokenkegQfeZyiNwAJbNbGKPFXCWuBvf9Ss623VQ5DA',\n",
       "         'source': '2B1qGh1AwG9zv5ZWoww7kkCWRF5ePnC3cRgmyhja2GEB',\n",
       "         'space': 165},\n",
       "        'type': 'createAccount'},\n",
       "       'program': 'system',\n",
       "       'programId': '11111111111111111111111111111111',\n",
       "       'stackHeight': 2},\n",
       "      {'parsed': {'info': {'account': '43v51JYdbu5cVdQHQ35CPa1qkxGENrNan6qgNfQBzR6k'},\n",
       "        'type': 'initializeImmutableOwner'},\n",
       "       'program': 'spl-token',\n",
       "       'programId': 'TokenkegQfeZyiNwAJbNbGKPFXCWuBvf9Ss623VQ5DA',\n",
       "       'stackHeight': 2},\n",
       "      {'parsed': {'info': {'account': '43v51JYdbu5cVdQHQ35CPa1qkxGENrNan6qgNfQBzR6k',\n",
       "         'mint': 'GtWDtbTw8oJqR6VDYPmDVvCoD3nfPQCoooABYQzAHNUG',\n",
       "         'owner': '2B1qGh1AwG9zv5ZWoww7kkCWRF5ePnC3cRgmyhja2GEB'},\n",
       "        'type': 'initializeAccount3'},\n",
       "       'program': 'spl-token',\n",
       "       'programId': 'TokenkegQfeZyiNwAJbNbGKPFXCWuBvf9Ss623VQ5DA',\n",
       "       'stackHeight': 2}]},\n",
       "    {'index': 5,\n",
       "     'instructions': [{'parsed': {'info': {'amount': '15500000000',\n",
       "         'authority': '2B1qGh1AwG9zv5ZWoww7kkCWRF5ePnC3cRgmyhja2GEB',\n",
       "         'destination': 'CaUPaycN7YGmnbVSvaZKfheuzXJAKJ2qJ76fE2hQA6Gx',\n",
       "         'source': 'A7JAjTzDBi52UHqBo2fqHVtvNF4xe6STBYbbTfXGFLC'},\n",
       "        'type': 'transfer'},\n",
       "       'program': 'spl-token',\n",
       "       'programId': 'TokenkegQfeZyiNwAJbNbGKPFXCWuBvf9Ss623VQ5DA',\n",
       "       'stackHeight': 2},\n",
       "      {'parsed': {'info': {'amount': '666260616966787880',\n",
       "         'authority': '5Q544fKrFoe6tsEbD7S8EmxGTJYAKtTVhAW5Q5pge4j1',\n",
       "         'destination': '43v51JYdbu5cVdQHQ35CPa1qkxGENrNan6qgNfQBzR6k',\n",
       "         'source': '4m3oVvUP8ZwfjufdDpgk4LjFkYqZPsoV15V8Zw3eWXp7'},\n",
       "        'type': 'transfer'},\n",
       "       'program': 'spl-token',\n",
       "       'programId': 'TokenkegQfeZyiNwAJbNbGKPFXCWuBvf9Ss623VQ5DA',\n",
       "       'stackHeight': 2}]}],\n",
       "   'logMessages': ['Program ComputeBudget111111111111111111111111111111 invoke [1]',\n",
       "    'Program ComputeBudget111111111111111111111111111111 success',\n",
       "    'Program ComputeBudget111111111111111111111111111111 invoke [1]',\n",
       "    'Program ComputeBudget111111111111111111111111111111 success',\n",
       "    'Program 11111111111111111111111111111111 invoke [1]',\n",
       "    'Program 11111111111111111111111111111111 success',\n",
       "    'Program TokenkegQfeZyiNwAJbNbGKPFXCWuBvf9Ss623VQ5DA invoke [1]',\n",
       "    'Program log: Instruction: InitializeAccount',\n",
       "    'Program TokenkegQfeZyiNwAJbNbGKPFXCWuBvf9Ss623VQ5DA consumed 3443 of 72890 compute units',\n",
       "    'Program TokenkegQfeZyiNwAJbNbGKPFXCWuBvf9Ss623VQ5DA success',\n",
       "    'Program ATokenGPvbdGVxr1b2hvZbsiqW5xWH25efTNsLJA8knL invoke [1]',\n",
       "    'Program log: CreateIdempotent',\n",
       "    'Program TokenkegQfeZyiNwAJbNbGKPFXCWuBvf9Ss623VQ5DA invoke [2]',\n",
       "    'Program log: Instruction: GetAccountDataSize',\n",
       "    'Program TokenkegQfeZyiNwAJbNbGKPFXCWuBvf9Ss623VQ5DA consumed 1569 of 64042 compute units',\n",
       "    'Program return: TokenkegQfeZyiNwAJbNbGKPFXCWuBvf9Ss623VQ5DA pQAAAAAAAAA=',\n",
       "    'Program TokenkegQfeZyiNwAJbNbGKPFXCWuBvf9Ss623VQ5DA success',\n",
       "    'Program 11111111111111111111111111111111 invoke [2]',\n",
       "    'Program 11111111111111111111111111111111 success',\n",
       "    'Program log: Initialize the associated token account',\n",
       "    'Program TokenkegQfeZyiNwAJbNbGKPFXCWuBvf9Ss623VQ5DA invoke [2]',\n",
       "    'Program log: Instruction: InitializeImmutableOwner',\n",
       "    'Program log: Please upgrade to SPL Token 2022 for immutable owner support',\n",
       "    'Program TokenkegQfeZyiNwAJbNbGKPFXCWuBvf9Ss623VQ5DA consumed 1405 of 57455 compute units',\n",
       "    'Program TokenkegQfeZyiNwAJbNbGKPFXCWuBvf9Ss623VQ5DA success',\n",
       "    'Program TokenkegQfeZyiNwAJbNbGKPFXCWuBvf9Ss623VQ5DA invoke [2]',\n",
       "    'Program log: Instruction: InitializeAccount3',\n",
       "    'Program TokenkegQfeZyiNwAJbNbGKPFXCWuBvf9Ss623VQ5DA consumed 4188 of 53573 compute units',\n",
       "    'Program TokenkegQfeZyiNwAJbNbGKPFXCWuBvf9Ss623VQ5DA success',\n",
       "    'Program ATokenGPvbdGVxr1b2hvZbsiqW5xWH25efTNsLJA8knL consumed 20345 of 69447 compute units',\n",
       "    'Program ATokenGPvbdGVxr1b2hvZbsiqW5xWH25efTNsLJA8knL success',\n",
       "    'Program 675kPX9MHTjS2zt1qfr1NYHuzeLXfQM9H24wFSUt1Mp8 invoke [1]',\n",
       "    'Program log: ray_log: AwA735sDAAAAvd3RZ+SYJwkBAAAAAAAAAAA735sDAAAA7aVAbY4Bzwt+MWT/AAAAAChTI0qACD8J',\n",
       "    'Program TokenkegQfeZyiNwAJbNbGKPFXCWuBvf9Ss623VQ5DA invoke [2]',\n",
       "    'Program log: Instruction: Transfer',\n",
       "    'Program TokenkegQfeZyiNwAJbNbGKPFXCWuBvf9Ss623VQ5DA consumed 4736 of 32534 compute units',\n",
       "    'Program TokenkegQfeZyiNwAJbNbGKPFXCWuBvf9Ss623VQ5DA success',\n",
       "    'Program TokenkegQfeZyiNwAJbNbGKPFXCWuBvf9Ss623VQ5DA invoke [2]',\n",
       "    'Program log: Instruction: Transfer',\n",
       "    'Program TokenkegQfeZyiNwAJbNbGKPFXCWuBvf9Ss623VQ5DA consumed 4645 of 24817 compute units',\n",
       "    'Program TokenkegQfeZyiNwAJbNbGKPFXCWuBvf9Ss623VQ5DA success',\n",
       "    'Program 675kPX9MHTjS2zt1qfr1NYHuzeLXfQM9H24wFSUt1Mp8 consumed 29797 of 49102 compute units',\n",
       "    'Program 675kPX9MHTjS2zt1qfr1NYHuzeLXfQM9H24wFSUt1Mp8 success',\n",
       "    'Program TokenkegQfeZyiNwAJbNbGKPFXCWuBvf9Ss623VQ5DA invoke [1]',\n",
       "    'Program log: Instruction: CloseAccount',\n",
       "    'Program TokenkegQfeZyiNwAJbNbGKPFXCWuBvf9Ss623VQ5DA consumed 2915 of 19305 compute units',\n",
       "    'Program TokenkegQfeZyiNwAJbNbGKPFXCWuBvf9Ss623VQ5DA success',\n",
       "    'Program 11111111111111111111111111111111 invoke [1]',\n",
       "    'Program 11111111111111111111111111111111 success',\n",
       "    'Program 11111111111111111111111111111111 invoke [1]',\n",
       "    'Program 11111111111111111111111111111111 success'],\n",
       "   'postBalances': [10136736732,\n",
       "    0,\n",
       "    2039280,\n",
       "    6124800,\n",
       "    2039280,\n",
       "    19786795630,\n",
       "    9860799916041,\n",
       "    537821674231,\n",
       "    1,\n",
       "    0,\n",
       "    1,\n",
       "    934087680,\n",
       "    1038452710942,\n",
       "    1009200,\n",
       "    731913600,\n",
       "    1461600,\n",
       "    1141440,\n",
       "    24404741899],\n",
       "   'postTokenBalances': [{'accountIndex': 2,\n",
       "     'mint': 'GtWDtbTw8oJqR6VDYPmDVvCoD3nfPQCoooABYQzAHNUG',\n",
       "     'owner': '2B1qGh1AwG9zv5ZWoww7kkCWRF5ePnC3cRgmyhja2GEB',\n",
       "     'programId': 'TokenkegQfeZyiNwAJbNbGKPFXCWuBvf9Ss623VQ5DA',\n",
       "     'uiTokenAmount': {'amount': '666260616966787880',\n",
       "      'decimals': 9,\n",
       "      'uiAmount': 666260616.9667878,\n",
       "      'uiAmountString': '666260616.96678788'}},\n",
       "    {'accountIndex': 4,\n",
       "     'mint': 'GtWDtbTw8oJqR6VDYPmDVvCoD3nfPQCoooABYQzAHNUG',\n",
       "     'owner': '5Q544fKrFoe6tsEbD7S8EmxGTJYAKtTVhAW5Q5pge4j1',\n",
       "     'programId': 'TokenkegQfeZyiNwAJbNbGKPFXCWuBvf9Ss623VQ5DA',\n",
       "     'uiTokenAmount': {'amount': '184639948859462341',\n",
       "      'decimals': 9,\n",
       "      'uiAmount': 184639948.85946235,\n",
       "      'uiAmountString': '184639948.859462341'}},\n",
       "    {'accountIndex': 5,\n",
       "     'mint': 'So11111111111111111111111111111111111111112',\n",
       "     'owner': '5Q544fKrFoe6tsEbD7S8EmxGTJYAKtTVhAW5Q5pge4j1',\n",
       "     'programId': 'TokenkegQfeZyiNwAJbNbGKPFXCWuBvf9Ss623VQ5DA',\n",
       "     'uiTokenAmount': {'amount': '19784756350',\n",
       "      'decimals': 9,\n",
       "      'uiAmount': 19.78475635,\n",
       "      'uiAmountString': '19.78475635'}}],\n",
       "   'preBalances': [25800020012,\n",
       "    0,\n",
       "    0,\n",
       "    6124800,\n",
       "    2039280,\n",
       "    4286795630,\n",
       "    9860644916041,\n",
       "    537815674231,\n",
       "    1,\n",
       "    0,\n",
       "    1,\n",
       "    934087680,\n",
       "    1038452710942,\n",
       "    1009200,\n",
       "    731913600,\n",
       "    1461600,\n",
       "    1141440,\n",
       "    24404741899],\n",
       "   'preTokenBalances': [{'accountIndex': 4,\n",
       "     'mint': 'GtWDtbTw8oJqR6VDYPmDVvCoD3nfPQCoooABYQzAHNUG',\n",
       "     'owner': '5Q544fKrFoe6tsEbD7S8EmxGTJYAKtTVhAW5Q5pge4j1',\n",
       "     'programId': 'TokenkegQfeZyiNwAJbNbGKPFXCWuBvf9Ss623VQ5DA',\n",
       "     'uiTokenAmount': {'amount': '850900565826250221',\n",
       "      'decimals': 9,\n",
       "      'uiAmount': 850900565.8262502,\n",
       "      'uiAmountString': '850900565.826250221'}},\n",
       "    {'accountIndex': 5,\n",
       "     'mint': 'So11111111111111111111111111111111111111112',\n",
       "     'owner': '5Q544fKrFoe6tsEbD7S8EmxGTJYAKtTVhAW5Q5pge4j1',\n",
       "     'programId': 'TokenkegQfeZyiNwAJbNbGKPFXCWuBvf9Ss623VQ5DA',\n",
       "     'uiTokenAmount': {'amount': '4284756350',\n",
       "      'decimals': 9,\n",
       "      'uiAmount': 4.28475635,\n",
       "      'uiAmountString': '4.28475635'}}],\n",
       "   'rewards': [],\n",
       "   'status': {'Ok': None}},\n",
       "  'slot': 338684425,\n",
       "  'transaction': {'message': {'accountKeys': [{'pubkey': '2B1qGh1AwG9zv5ZWoww7kkCWRF5ePnC3cRgmyhja2GEB',\n",
       "      'signer': True,\n",
       "      'source': 'transaction',\n",
       "      'writable': True},\n",
       "     {'pubkey': 'A7JAjTzDBi52UHqBo2fqHVtvNF4xe6STBYbbTfXGFLC',\n",
       "      'signer': False,\n",
       "      'source': 'transaction',\n",
       "      'writable': True},\n",
       "     {'pubkey': '43v51JYdbu5cVdQHQ35CPa1qkxGENrNan6qgNfQBzR6k',\n",
       "      'signer': False,\n",
       "      'source': 'transaction',\n",
       "      'writable': True},\n",
       "     {'pubkey': '3a5VXkeT3WZXgX5r28KJEZbFcbaPQFQ62CiWNtYWK13N',\n",
       "      'signer': False,\n",
       "      'source': 'transaction',\n",
       "      'writable': True},\n",
       "     {'pubkey': '4m3oVvUP8ZwfjufdDpgk4LjFkYqZPsoV15V8Zw3eWXp7',\n",
       "      'signer': False,\n",
       "      'source': 'transaction',\n",
       "      'writable': True},\n",
       "     {'pubkey': 'CaUPaycN7YGmnbVSvaZKfheuzXJAKJ2qJ76fE2hQA6Gx',\n",
       "      'signer': False,\n",
       "      'source': 'transaction',\n",
       "      'writable': True},\n",
       "     {'pubkey': 'F34kcgMgCF7mYWkwLN3WN7KrFprr2NbwxuLvXx4fbztj',\n",
       "      'signer': False,\n",
       "      'source': 'transaction',\n",
       "      'writable': True},\n",
       "     {'pubkey': 'CBaseg7Sqjdkt6oaNqKU6iHLj9tvcD2pxddeP9ct14Xi',\n",
       "      'signer': False,\n",
       "      'source': 'transaction',\n",
       "      'writable': True},\n",
       "     {'pubkey': 'ComputeBudget111111111111111111111111111111',\n",
       "      'signer': False,\n",
       "      'source': 'transaction',\n",
       "      'writable': False},\n",
       "     {'pubkey': 'jitodontfront1111111111111111111111111STBot',\n",
       "      'signer': False,\n",
       "      'source': 'transaction',\n",
       "      'writable': False},\n",
       "     {'pubkey': '11111111111111111111111111111111',\n",
       "      'signer': False,\n",
       "      'source': 'transaction',\n",
       "      'writable': False},\n",
       "     {'pubkey': 'TokenkegQfeZyiNwAJbNbGKPFXCWuBvf9Ss623VQ5DA',\n",
       "      'signer': False,\n",
       "      'source': 'transaction',\n",
       "      'writable': False},\n",
       "     {'pubkey': 'So11111111111111111111111111111111111111112',\n",
       "      'signer': False,\n",
       "      'source': 'transaction',\n",
       "      'writable': False},\n",
       "     {'pubkey': 'SysvarRent111111111111111111111111111111111',\n",
       "      'signer': False,\n",
       "      'source': 'transaction',\n",
       "      'writable': False},\n",
       "     {'pubkey': 'ATokenGPvbdGVxr1b2hvZbsiqW5xWH25efTNsLJA8knL',\n",
       "      'signer': False,\n",
       "      'source': 'transaction',\n",
       "      'writable': False},\n",
       "     {'pubkey': 'GtWDtbTw8oJqR6VDYPmDVvCoD3nfPQCoooABYQzAHNUG',\n",
       "      'signer': False,\n",
       "      'source': 'transaction',\n",
       "      'writable': False},\n",
       "     {'pubkey': '675kPX9MHTjS2zt1qfr1NYHuzeLXfQM9H24wFSUt1Mp8',\n",
       "      'signer': False,\n",
       "      'source': 'transaction',\n",
       "      'writable': False},\n",
       "     {'pubkey': '5Q544fKrFoe6tsEbD7S8EmxGTJYAKtTVhAW5Q5pge4j1',\n",
       "      'signer': False,\n",
       "      'source': 'transaction',\n",
       "      'writable': False}],\n",
       "    'addressTableLookups': [],\n",
       "    'instructions': [{'accounts': [],\n",
       "      'data': '3i1nzMRMJ1CT',\n",
       "      'programId': 'ComputeBudget111111111111111111111111111111',\n",
       "      'stackHeight': None},\n",
       "     {'accounts': ['jitodontfront1111111111111111111111111STBot'],\n",
       "      'data': 'HG5Ckf',\n",
       "      'programId': 'ComputeBudget111111111111111111111111111111',\n",
       "      'stackHeight': None},\n",
       "     {'parsed': {'info': {'base': '2B1qGh1AwG9zv5ZWoww7kkCWRF5ePnC3cRgmyhja2GEB',\n",
       "        'lamports': 15502039280,\n",
       "        'newAccount': 'A7JAjTzDBi52UHqBo2fqHVtvNF4xe6STBYbbTfXGFLC',\n",
       "        'owner': 'TokenkegQfeZyiNwAJbNbGKPFXCWuBvf9Ss623VQ5DA',\n",
       "        'seed': 'A2trAtQoiqotQg2NVVwHkAaHELpDobgf',\n",
       "        'source': '2B1qGh1AwG9zv5ZWoww7kkCWRF5ePnC3cRgmyhja2GEB',\n",
       "        'space': 165},\n",
       "       'type': 'createAccountWithSeed'},\n",
       "      'program': 'system',\n",
       "      'programId': '11111111111111111111111111111111',\n",
       "      'stackHeight': None},\n",
       "     {'parsed': {'info': {'account': 'A7JAjTzDBi52UHqBo2fqHVtvNF4xe6STBYbbTfXGFLC',\n",
       "        'mint': 'So11111111111111111111111111111111111111112',\n",
       "        'owner': '2B1qGh1AwG9zv5ZWoww7kkCWRF5ePnC3cRgmyhja2GEB',\n",
       "        'rentSysvar': 'SysvarRent111111111111111111111111111111111'},\n",
       "       'type': 'initializeAccount'},\n",
       "      'program': 'spl-token',\n",
       "      'programId': 'TokenkegQfeZyiNwAJbNbGKPFXCWuBvf9Ss623VQ5DA',\n",
       "      'stackHeight': None},\n",
       "     {'parsed': {'info': {'account': '43v51JYdbu5cVdQHQ35CPa1qkxGENrNan6qgNfQBzR6k',\n",
       "        'mint': 'GtWDtbTw8oJqR6VDYPmDVvCoD3nfPQCoooABYQzAHNUG',\n",
       "        'source': '2B1qGh1AwG9zv5ZWoww7kkCWRF5ePnC3cRgmyhja2GEB',\n",
       "        'systemProgram': '11111111111111111111111111111111',\n",
       "        'tokenProgram': 'TokenkegQfeZyiNwAJbNbGKPFXCWuBvf9Ss623VQ5DA',\n",
       "        'wallet': '2B1qGh1AwG9zv5ZWoww7kkCWRF5ePnC3cRgmyhja2GEB'},\n",
       "       'type': 'createIdempotent'},\n",
       "      'program': 'spl-associated-token-account',\n",
       "      'programId': 'ATokenGPvbdGVxr1b2hvZbsiqW5xWH25efTNsLJA8knL',\n",
       "      'stackHeight': None},\n",
       "     {'accounts': ['TokenkegQfeZyiNwAJbNbGKPFXCWuBvf9Ss623VQ5DA',\n",
       "       '3a5VXkeT3WZXgX5r28KJEZbFcbaPQFQ62CiWNtYWK13N',\n",
       "       '5Q544fKrFoe6tsEbD7S8EmxGTJYAKtTVhAW5Q5pge4j1',\n",
       "       '3a5VXkeT3WZXgX5r28KJEZbFcbaPQFQ62CiWNtYWK13N',\n",
       "       '3a5VXkeT3WZXgX5r28KJEZbFcbaPQFQ62CiWNtYWK13N',\n",
       "       '4m3oVvUP8ZwfjufdDpgk4LjFkYqZPsoV15V8Zw3eWXp7',\n",
       "       'CaUPaycN7YGmnbVSvaZKfheuzXJAKJ2qJ76fE2hQA6Gx',\n",
       "       '3a5VXkeT3WZXgX5r28KJEZbFcbaPQFQ62CiWNtYWK13N',\n",
       "       '3a5VXkeT3WZXgX5r28KJEZbFcbaPQFQ62CiWNtYWK13N',\n",
       "       '3a5VXkeT3WZXgX5r28KJEZbFcbaPQFQ62CiWNtYWK13N',\n",
       "       '3a5VXkeT3WZXgX5r28KJEZbFcbaPQFQ62CiWNtYWK13N',\n",
       "       '3a5VXkeT3WZXgX5r28KJEZbFcbaPQFQ62CiWNtYWK13N',\n",
       "       '3a5VXkeT3WZXgX5r28KJEZbFcbaPQFQ62CiWNtYWK13N',\n",
       "       '3a5VXkeT3WZXgX5r28KJEZbFcbaPQFQ62CiWNtYWK13N',\n",
       "       '3a5VXkeT3WZXgX5r28KJEZbFcbaPQFQ62CiWNtYWK13N',\n",
       "       'A7JAjTzDBi52UHqBo2fqHVtvNF4xe6STBYbbTfXGFLC',\n",
       "       '43v51JYdbu5cVdQHQ35CPa1qkxGENrNan6qgNfQBzR6k',\n",
       "       '2B1qGh1AwG9zv5ZWoww7kkCWRF5ePnC3cRgmyhja2GEB'],\n",
       "      'data': '5uY8CbmeN6dYTUHFG2eL5kL',\n",
       "      'programId': '675kPX9MHTjS2zt1qfr1NYHuzeLXfQM9H24wFSUt1Mp8',\n",
       "      'stackHeight': None},\n",
       "     {'parsed': {'info': {'account': 'A7JAjTzDBi52UHqBo2fqHVtvNF4xe6STBYbbTfXGFLC',\n",
       "        'destination': '2B1qGh1AwG9zv5ZWoww7kkCWRF5ePnC3cRgmyhja2GEB',\n",
       "        'owner': '2B1qGh1AwG9zv5ZWoww7kkCWRF5ePnC3cRgmyhja2GEB'},\n",
       "       'type': 'closeAccount'},\n",
       "      'program': 'spl-token',\n",
       "      'programId': 'TokenkegQfeZyiNwAJbNbGKPFXCWuBvf9Ss623VQ5DA',\n",
       "      'stackHeight': None},\n",
       "     {'parsed': {'info': {'destination': 'F34kcgMgCF7mYWkwLN3WN7KrFprr2NbwxuLvXx4fbztj',\n",
       "        'lamports': 155000000,\n",
       "        'source': '2B1qGh1AwG9zv5ZWoww7kkCWRF5ePnC3cRgmyhja2GEB'},\n",
       "       'type': 'transfer'},\n",
       "      'program': 'system',\n",
       "      'programId': '11111111111111111111111111111111',\n",
       "      'stackHeight': None},\n",
       "     {'parsed': {'info': {'destination': 'CBaseg7Sqjdkt6oaNqKU6iHLj9tvcD2pxddeP9ct14Xi',\n",
       "        'lamports': 6000000,\n",
       "        'source': '2B1qGh1AwG9zv5ZWoww7kkCWRF5ePnC3cRgmyhja2GEB'},\n",
       "       'type': 'transfer'},\n",
       "      'program': 'system',\n",
       "      'programId': '11111111111111111111111111111111',\n",
       "      'stackHeight': None}],\n",
       "    'recentBlockhash': '5kSUVYGLUnddV9xSyiNABens1hXSZpJqs1HKr9hs4R4V'},\n",
       "   'signatures': ['3nWjLLkzeEv4Ehs2nkLVxtukAjGqyynVeSRNrX1HTddrDopgLoCPmFF7BZAEHuTyVQ6Xcxr8yYLBsAjmv69uZWJa']},\n",
       "  'version': 0},\n",
       " 'id': 1}"
      ]
     },
     "execution_count": 41,
     "metadata": {},
     "output_type": "execute_result"
    }
   ],
   "source": [
    "data"
   ]
  },
  {
   "cell_type": "code",
   "execution_count": 42,
   "id": "10d13f18",
   "metadata": {},
   "outputs": [
    {
     "data": {
      "text/plain": [
       "dict_keys(['jsonrpc', 'result', 'id'])"
      ]
     },
     "execution_count": 42,
     "metadata": {},
     "output_type": "execute_result"
    }
   ],
   "source": [
    "data.keys()"
   ]
  },
  {
   "cell_type": "code",
   "execution_count": 52,
   "id": "9b91e349",
   "metadata": {},
   "outputs": [],
   "source": [
    "from src.pump_bot_tracker.liquidity_pools import find_raydium_pool_by_mints, get_vault_balance, get_vault_addresses"
   ]
  },
  {
   "cell_type": "code",
   "execution_count": 44,
   "id": "57c565b5",
   "metadata": {},
   "outputs": [],
   "source": [
    "mintA = \"GtWDtbTw8oJqR6VDYPmDVvCoD3nfPQCoooABYQzAHNUG\"\n",
    "mintB = \"So11111111111111111111111111111111111111112\""
   ]
  },
  {
   "cell_type": "code",
   "execution_count": 45,
   "id": "90ca5350",
   "metadata": {},
   "outputs": [],
   "source": [
    "pool = find_raydium_pool_by_mints(mintA, mintB)"
   ]
  },
  {
   "cell_type": "code",
   "execution_count": 46,
   "id": "bfb8a981",
   "metadata": {},
   "outputs": [
    {
     "data": {
      "text/plain": [
       "{'amm_id': '3a5VXkeT3WZXgX5r28KJEZbFcbaPQFQ62CiWNtYWK13N',\n",
       " 'lp_mint': 'Bu5oNnXBsjpcazBUwM32pQTMkf9ak3d2BT7FXrebDmSu',\n",
       " 'base_mint': 'So11111111111111111111111111111111111111112',\n",
       " 'quote_mint': 'GtWDtbTw8oJqR6VDYPmDVvCoD3nfPQCoooABYQzAHNUG',\n",
       " 'market_id': '69BhUTCqPZPtSeCoHbbkLw7vE64e8NqRUNHFZRHViT1n',\n",
       " 'version': 5}"
      ]
     },
     "execution_count": 46,
     "metadata": {},
     "output_type": "execute_result"
    }
   ],
   "source": [
    "pool"
   ]
  },
  {
   "cell_type": "code",
   "execution_count": 54,
   "id": "2dfd59ec",
   "metadata": {},
   "outputs": [
    {
     "data": {
      "text/plain": [
       "{'base_mint': 'So11111111111111111111111111111111111111112',\n",
       " 'quote_mint': 'GtWDtbTw8oJqR6VDYPmDVvCoD3nfPQCoooABYQzAHNUG',\n",
       " 'base_vault': 'CaUPaycN7YGmnbVSvaZKfheuzXJAKJ2qJ76fE2hQA6Gx',\n",
       " 'quote_vault': '4m3oVvUP8ZwfjufdDpgk4LjFkYqZPsoV15V8Zw3eWXp7'}"
      ]
     },
     "execution_count": 54,
     "metadata": {},
     "output_type": "execute_result"
    }
   ],
   "source": [
    "vault_address = pool['amm_id']\n",
    "vault_data = get_vault_addresses(vault_address)\n",
    "vault_data"
   ]
  },
  {
   "cell_type": "code",
   "execution_count": 56,
   "id": "7e16d5cc",
   "metadata": {},
   "outputs": [],
   "source": [
    "sol_balance = get_vault_balance(vault_data['base_vault'])\n",
    "meme_balance = get_vault_balance(vault_data['quote_vault'])\n"
   ]
  },
  {
   "cell_type": "code",
   "execution_count": 62,
   "id": "6655f73c",
   "metadata": {},
   "outputs": [],
   "source": [
    "total_sol = sol_balance/10**9\n"
   ]
  },
  {
   "cell_type": "code",
   "execution_count": 63,
   "id": "89571860",
   "metadata": {},
   "outputs": [
    {
     "data": {
      "text/plain": [
       "1585.1604818879998"
      ]
     },
     "execution_count": 63,
     "metadata": {},
     "output_type": "execute_result"
    }
   ],
   "source": [
    "total_sol * 183 * 2"
   ]
  },
  {
   "cell_type": "code",
   "execution_count": 64,
   "id": "caf180d1",
   "metadata": {},
   "outputs": [],
   "source": [
    "from src.pump_bot_tracker.websocket import listen_for_transaction"
   ]
  },
  {
   "cell_type": "code",
   "execution_count": 65,
   "id": "f52c9876",
   "metadata": {},
   "outputs": [],
   "source": [
    "wallet = os.getenv(\"SOLANA_PUBLIC_KEY\")\n"
   ]
  },
  {
   "cell_type": "code",
   "execution_count": 67,
   "id": "5d1a32bd",
   "metadata": {},
   "outputs": [],
   "source": [
    "wallet\n",
    "search_string = 'transfer'"
   ]
  },
  {
   "cell_type": "code",
   "execution_count": null,
   "id": "7feff382",
   "metadata": {},
   "outputs": [
    {
     "name": "stdout",
     "output_type": "stream",
     "text": [
      "Subscribed to logs for wallet: FXLLEYZBnN1y7FvHYWQzkviY45whLKPrZhcqkE1H91Gj\n"
     ]
    }
   ],
   "source": [
    "signature = await listen_for_transaction(wallet, search_string)"
   ]
  },
  {
   "cell_type": "code",
   "execution_count": 69,
   "id": "c0d891a3",
   "metadata": {},
   "outputs": [
    {
     "data": {
      "text/plain": [
       "<coroutine object listen_for_transaction at 0x11a6c83d0>"
      ]
     },
     "execution_count": 69,
     "metadata": {},
     "output_type": "execute_result"
    }
   ],
   "source": [
    "signature"
   ]
  },
  {
   "cell_type": "code",
   "execution_count": 11,
   "id": "c651bddb",
   "metadata": {},
   "outputs": [],
   "source": [
    "from src.pump_bot_tracker.wallet_secrets import generate_wallets_from_mnemonic\n",
    "from dotenv import load_dotenv\n",
    "import os\n",
    "mnemonic_phrase = os.getenv('SOLANA_MEME_PUMP_BASE')\n"
   ]
  },
  {
   "cell_type": "code",
   "execution_count": 12,
   "id": "5aa716d0",
   "metadata": {},
   "outputs": [
    {
     "data": {
      "text/plain": [
       "'3cSvQygypScaJb2bJHfdzXwwWmayvNin37Go8AkSTysS'"
      ]
     },
     "execution_count": 12,
     "metadata": {},
     "output_type": "execute_result"
    }
   ],
   "source": [
    "from src.pump_bot_tracker.wallet_secrets import get_wallet_address, WalletType\n",
    "get_wallet_address(WalletType.BOT, mnemonic_phrase, wallet_idx=0)\n"
   ]
  },
  {
   "cell_type": "markdown",
   "id": "37a6d9b3",
   "metadata": {},
   "source": [
    "### Go from a signature to transaction information:"
   ]
  },
  {
   "cell_type": "markdown",
   "id": "aacb2c9f",
   "metadata": {},
   "source": [
    "THESE are from a scammer wallet. Use as examples\n",
    "Signature: 5qNc3FNfiMavgiDRxFJUjFozPJocehTjSZdpDWABaHPAd4vcn7kXmTx1dALBhsMonuW2o9Awg2csexiasCSiRcif\n",
    "Signature: 2UNcW39BPCH5hrRUVo7Vz4GFEaD8RSFMyoAwyJP2kyAc1DxEUhZhWhqhDQp7eAsc8Vmi8vD3bEgP1T9FksN56CUz\n",
    "Signature: d2qLPyaajCBey2tCZhsme6GNmA7zGRH8LMEhbr7fW7r6K2Uuv3nv4MPm6nnrm6DMmTui6SATctgygEWiJhKHudu\n",
    "Signature: 4r7jD1HVwthKxg8yeQ5wovpLYpjWg3kJhMgDW841GMcXsMcXsBMgpBTJDu9a8RwatB9qHZgLFK1oT9KnPkwCk8KE\n",
    "Signature: 5bdoMJ9UFoJJgPDZzPH25Kp9vajxxAxYRR6gB5FRqTEDfVKTRcmvDaU1FXohn29oXziYzq8CqqWyUsuffPoWWQKV\n",
    "Signature: 28UrsC3ESVBTz9rfMEsYvTvvv9moodtjr5SxRhLUQ89AoWmm74RDNiPo4df1uit2xpPzfjYFGmEcrvbKq5w25A2Z\n",
    "Signature: jbc47GFCjbqt4yer3R8BFCyQwju3S2YeBboenVYz4Ah9WNo8GyryzL26F9ebtnW97t13MBFBkGvQjZdpfEarQ9g\n",
    "Signature: 2UxgZAoouhH167V8bNrrK4KSB2q1LE3qtQGHRu28FdD5EaiQysq6TA9Q8UpPgdRQcpvv835JpXiKt8bGMCP3MB9N\n",
    "Signature: 5JmdCCrvBp6kQgfqA45F6yWQmupSMUaFbGf8N8sK7buQw3K5TqiGWrSG3RuRL8CdNygvd4J3mG1MgWbvRiXYEYp9\n",
    "Signature: 3i5X7EctHEDyoLTLd5h9sjGPoR3emvpUonC7GGoPXJhaKqZVfs9PEZAq6S5YHJU5LKNUxKAP7XNwPb6MbE9tbi39\n",
    "Signature: 4Uq9GJnvs7EazrU7m2WZEZEKoGJdUtmnEDq4EVW7N9XdymU8A915oeuybQhtocPNsqLTZcyL7j6CYHjThu4pFnSE\n",
    "Signature: 21YamDaYcTuiKjJXCy6QJR9sZPJFTRvPcSwZ4iWsquq9FwCD5w7fYBLAgR7KBRG1sMeCz7XQ7CndLKTvZxG5pgHy\n",
    "Signature: 5Usz397Zy5pMGViaHeAaSwFAd3S5BoKfNjPJP8T6rKAMm7985aQfyPN4cYFXFMT8PweavqsA5q5SGUbCKztoZ5sY\n",
    "Signature: 3Vdezw5w5Mg1FWN889QLhJ3k7NNDxJjYP4Ve7yxzm4DvFuRa8qFoJCdBVgCqDVdwnKuc5c8fbSBpovve16vpMPj2"
   ]
  },
  {
   "cell_type": "markdown",
   "id": "c042cd65",
   "metadata": {},
   "source": []
  },
  {
   "cell_type": "code",
   "execution_count": null,
   "id": "abf752a9",
   "metadata": {},
   "outputs": [],
   "source": [
    "from src.pump_bot_tracker.blockchain import get_helius_url\n",
    "import requests\n",
    "def get_transaction(signature: str):\n",
    "    helius_url = get_helius_url()\n",
    "    payload = {\n",
    "        \"jsonrpc\": \"2.0\",\n",
    "        \"id\": 1,\n",
    "        \"method\": \"getTransaction\",\n",
    "        \"params\": [\n",
    "            signature,\n",
    "            {\n",
    "                \"encoding\": \"jsonParsed\",  # Use \"json\" if you prefer raw binary\n",
    "                \"maxSupportedTransactionVersion\": 0\n",
    "            }\n",
    "        ]\n",
    "    }\n",
    "    response = requests.post(helius_url, json=payload)\n",
    "    response.raise_for_status()\n",
    "    return response.json()[\"result\"]\n"
   ]
  },
  {
   "cell_type": "code",
   "execution_count": null,
   "id": "423c034a",
   "metadata": {},
   "outputs": [],
   "source": []
  },
  {
   "cell_type": "code",
   "execution_count": 57,
   "id": "5fe37618",
   "metadata": {},
   "outputs": [
    {
     "name": "stdout",
     "output_type": "stream",
     "text": [
      "<Response [200]>\n"
     ]
    }
   ],
   "source": [
    "# transfer_signature = \"2D2UX25ZTKvcyqAFitBR1qttahyqfk6Skr8qBFNCc3R7jCGDkGQVvvHpr8P6oXTDxKvZEpct1bd6jxCXc5cNoxe7\" # this is a transfer to a trading wallet\n",
    "# transfer_data = get_transaction(transfer_signature)\n",
    "# swap_signature = \"56VJonrVVJmkwzEp5axNJuuxrwkXEmjZa1CoD1WbW3oPe6FHuG4NXcSrA25mHUg4pZDDQ785j8wkggW6LKMBxbed\" # target account swapped SOL for TOKEN\n",
    "# swap_data = get_transaction(swap_signature)\n",
    "# I want the from and to wallet id as well as the tokens and \n",
    "liquidity_signature = \"No7wTMsNoCWGa569pBWCUpHU6pHcGgURdT7xSV3brtZq4KZMEdNvazvjWJ7kNxQgbEGAPWJCkGMcHTts3tciASe\" # Added liquidity to a token pair\n",
    "liquidity_data = get_transaction(liquidity_signature)"
   ]
  },
  {
   "cell_type": "code",
   "execution_count": 60,
   "id": "77f85fb4",
   "metadata": {},
   "outputs": [],
   "source": [
    "def classify_transaction_type(tx: dict) -> str:\n",
    "    \"\"\"\n",
    "    Classifies a transaction as 'transfer', 'swap', or 'mint'.\n",
    "    \"\"\"\n",
    "    if tx[\"meta\"].get(\"err\") is not None:\n",
    "        return \"failed\"\n",
    "\n",
    "    message = tx[\"transaction\"][\"message\"]\n",
    "    instructions = message.get(\"instructions\", [])\n",
    "    inner_instructions = tx[\"meta\"].get(\"innerInstructions\", [])\n",
    "\n",
    "    # Check for known swap programs # PUT CONSTANTS SOMEWHERE\n",
    "    swap_programs = {\n",
    "        \"Jupiter\": {\"JUP4Fb2cqiRUcaTHdrPC8h2gNsA2ETXiPDD33WcGuJB\"},\n",
    "        \"Raydium\": {\"RVKd61ztZW9GdKzYjYqYcsGZ3jQMMQ3jYbjuTyDqfFM\", \"675kPX9MHTjS2zt1qfr1NYHuzeLXfQM9H24wFSUt1Mp8\"},\n",
    "        \"Orca\": {\"9WwG7FvC9mWM2yFvYJYp9hRtaRGNVNfFSczrjCjAYaWx\"},\n",
    "        \"Meteora\": {\"meteobHSyKeEBgVJE6A36qvbmJzJxTHBvhPH7U8L7zj\"}\n",
    "    }\n",
    "\n",
    "    all_program_ids = {ix.get(\"programId\") for ix in instructions}\n",
    "    for inner in inner_instructions:\n",
    "        all_program_ids.update(ix.get(\"programId\") for ix in inner.get(\"instructions\", []))\n",
    "\n",
    "    for protocol, program_ids in swap_programs.items():\n",
    "        if all_program_ids & program_ids:\n",
    "            return \"swap\"\n",
    "\n",
    "    # Otherwise, fallback to checking system transfer\n",
    "    for ix in instructions:\n",
    "        if ix.get(\"programId\") == \"11111111111111111111111111111111\":\n",
    "            parsed = ix.get(\"parsed\", {})\n",
    "            if parsed.get(\"type\") == \"transfer\":\n",
    "                return \"transfer\"\n",
    "\n",
    "    return \"unknown\"\n",
    "\n",
    "def get_transaction_type_keywords(tx: dict) -> list[str]:\n",
    "    \"\"\"\n",
    "    Fetches the transaction and extracts the instruction 'type' fields from parsed instructions.\n",
    "    Returns a list of unique type keywords (e.g., 'transfer', 'mintTo', etc.)\n",
    "    \"\"\"\n",
    "\n",
    "\n",
    "    type_keywords = set()\n",
    "\n",
    "    # Check main instructions\n",
    "    instructions = tx[\"transaction\"][\"message\"].get(\"instructions\", [])\n",
    "    for ix in instructions:\n",
    "        parsed = ix.get(\"parsed\", {})\n",
    "        type_ = parsed.get(\"type\")\n",
    "        if type_:\n",
    "            type_keywords.add(type_)\n",
    "\n",
    "    # Check inner instructions too\n",
    "    inner = tx[\"meta\"].get(\"innerInstructions\", [])\n",
    "    for group in inner:\n",
    "        for ix in group.get(\"instructions\", []):\n",
    "            parsed = ix.get(\"parsed\", {})\n",
    "            type_ = parsed.get(\"type\")\n",
    "            if type_:\n",
    "                type_keywords.add(type_)\n",
    "\n",
    "    return list(type_keywords)"
   ]
  },
  {
   "cell_type": "code",
   "execution_count": 62,
   "id": "6fe69fcc",
   "metadata": {},
   "outputs": [
    {
     "data": {
      "text/plain": [
       "['createAccountWithSeed',\n",
       " 'transfer',\n",
       " 'initializeAccount3',\n",
       " 'initializeImmutableOwner',\n",
       " 'createIdempotent',\n",
       " 'getAccountDataSize',\n",
       " 'initializeAccount',\n",
       " 'createAccount',\n",
       " 'closeAccount']"
      ]
     },
     "execution_count": 62,
     "metadata": {},
     "output_type": "execute_result"
    }
   ],
   "source": [
    "get_transaction_type_keywords(swap_data)"
   ]
  },
  {
   "cell_type": "code",
   "execution_count": 64,
   "id": "f574992d",
   "metadata": {},
   "outputs": [
    {
     "data": {
      "text/plain": [
       "['transfer']"
      ]
     },
     "execution_count": 64,
     "metadata": {},
     "output_type": "execute_result"
    }
   ],
   "source": [
    "get_transaction_type_keywords(transfer_data)"
   ]
  },
  {
   "cell_type": "code",
   "execution_count": 65,
   "id": "015b07aa",
   "metadata": {},
   "outputs": [
    {
     "data": {
      "text/plain": [
       "['createAccountWithSeed',\n",
       " 'transfer',\n",
       " 'create',\n",
       " 'initializeAccount3',\n",
       " 'transferChecked',\n",
       " 'mintTo',\n",
       " 'syncNative',\n",
       " 'initializeImmutableOwner',\n",
       " 'getAccountDataSize',\n",
       " 'initializeAccount',\n",
       " 'createAccount',\n",
       " 'initializeMint2',\n",
       " 'closeAccount']"
      ]
     },
     "execution_count": 65,
     "metadata": {},
     "output_type": "execute_result"
    }
   ],
   "source": [
    "get_transaction_type_keywords(liquidity_data)"
   ]
  },
  {
   "cell_type": "code",
   "execution_count": 58,
   "id": "9f109e6a",
   "metadata": {},
   "outputs": [
    {
     "data": {
      "text/plain": [
       "'transfer'"
      ]
     },
     "execution_count": 58,
     "metadata": {},
     "output_type": "execute_result"
    }
   ],
   "source": [
    "classify_transaction_type(liquidity_data)"
   ]
  },
  {
   "cell_type": "code",
   "execution_count": 59,
   "id": "6aec8c3e",
   "metadata": {},
   "outputs": [
    {
     "data": {
      "text/plain": [
       "{'blockTime': 1746979436,\n",
       " 'meta': {'computeUnitsConsumed': 161270,\n",
       "  'err': None,\n",
       "  'fee': 80001,\n",
       "  'innerInstructions': [{'index': 4,\n",
       "    'instructions': [{'parsed': {'info': {'lamports': 1461600,\n",
       "        'newAccount': '8ViS14h7ZWm1AtMVxRQLvAN38Av14PwzjZFWNcfkTC2i',\n",
       "        'owner': 'TokenkegQfeZyiNwAJbNbGKPFXCWuBvf9Ss623VQ5DA',\n",
       "        'source': 'EDwBVBqYXky9oX7MBPcNz4itJmaShAprAZy9ufCvNH1K',\n",
       "        'space': 82},\n",
       "       'type': 'createAccount'},\n",
       "      'program': 'system',\n",
       "      'programId': '11111111111111111111111111111111',\n",
       "      'stackHeight': 2},\n",
       "     {'parsed': {'info': {'decimals': 9,\n",
       "        'mint': '8ViS14h7ZWm1AtMVxRQLvAN38Av14PwzjZFWNcfkTC2i',\n",
       "        'mintAuthority': 'GpMZbSM2GgvTKHJirzeGfMFoaZ8UR2X7F4v8vHTvxFbL'},\n",
       "       'type': 'initializeMint2'},\n",
       "      'program': 'spl-token',\n",
       "      'programId': 'TokenkegQfeZyiNwAJbNbGKPFXCWuBvf9Ss623VQ5DA',\n",
       "      'stackHeight': 2},\n",
       "     {'parsed': {'info': {'account': '47tYTxseapfNbiszhXzszgTZr7KK6GrjQSqwDiPciY3B',\n",
       "        'mint': '8ViS14h7ZWm1AtMVxRQLvAN38Av14PwzjZFWNcfkTC2i',\n",
       "        'source': 'EDwBVBqYXky9oX7MBPcNz4itJmaShAprAZy9ufCvNH1K',\n",
       "        'systemProgram': '11111111111111111111111111111111',\n",
       "        'tokenProgram': 'TokenkegQfeZyiNwAJbNbGKPFXCWuBvf9Ss623VQ5DA',\n",
       "        'wallet': 'EDwBVBqYXky9oX7MBPcNz4itJmaShAprAZy9ufCvNH1K'},\n",
       "       'type': 'create'},\n",
       "      'program': 'spl-associated-token-account',\n",
       "      'programId': 'ATokenGPvbdGVxr1b2hvZbsiqW5xWH25efTNsLJA8knL',\n",
       "      'stackHeight': 2},\n",
       "     {'parsed': {'info': {'extensionTypes': ['immutableOwner'],\n",
       "        'mint': '8ViS14h7ZWm1AtMVxRQLvAN38Av14PwzjZFWNcfkTC2i'},\n",
       "       'type': 'getAccountDataSize'},\n",
       "      'program': 'spl-token',\n",
       "      'programId': 'TokenkegQfeZyiNwAJbNbGKPFXCWuBvf9Ss623VQ5DA',\n",
       "      'stackHeight': 3},\n",
       "     {'parsed': {'info': {'lamports': 2039280,\n",
       "        'newAccount': '47tYTxseapfNbiszhXzszgTZr7KK6GrjQSqwDiPciY3B',\n",
       "        'owner': 'TokenkegQfeZyiNwAJbNbGKPFXCWuBvf9Ss623VQ5DA',\n",
       "        'source': 'EDwBVBqYXky9oX7MBPcNz4itJmaShAprAZy9ufCvNH1K',\n",
       "        'space': 165},\n",
       "       'type': 'createAccount'},\n",
       "      'program': 'system',\n",
       "      'programId': '11111111111111111111111111111111',\n",
       "      'stackHeight': 3},\n",
       "     {'parsed': {'info': {'account': '47tYTxseapfNbiszhXzszgTZr7KK6GrjQSqwDiPciY3B'},\n",
       "       'type': 'initializeImmutableOwner'},\n",
       "      'program': 'spl-token',\n",
       "      'programId': 'TokenkegQfeZyiNwAJbNbGKPFXCWuBvf9Ss623VQ5DA',\n",
       "      'stackHeight': 3},\n",
       "     {'parsed': {'info': {'account': '47tYTxseapfNbiszhXzszgTZr7KK6GrjQSqwDiPciY3B',\n",
       "        'mint': '8ViS14h7ZWm1AtMVxRQLvAN38Av14PwzjZFWNcfkTC2i',\n",
       "        'owner': 'EDwBVBqYXky9oX7MBPcNz4itJmaShAprAZy9ufCvNH1K'},\n",
       "       'type': 'initializeAccount3'},\n",
       "      'program': 'spl-token',\n",
       "      'programId': 'TokenkegQfeZyiNwAJbNbGKPFXCWuBvf9Ss623VQ5DA',\n",
       "      'stackHeight': 3},\n",
       "     {'parsed': {'info': {'lamports': 29252880,\n",
       "        'newAccount': 'HBqnCQkPVn1Sry1YQksy9KEJjVCTz2a7gTX45q5tUtWz',\n",
       "        'owner': 'CPMMoo8L3F4NbTegBCKVNunggL7H1ZpdTHKxQB5qKP1C',\n",
       "        'source': 'EDwBVBqYXky9oX7MBPcNz4itJmaShAprAZy9ufCvNH1K',\n",
       "        'space': 4075},\n",
       "       'type': 'createAccount'},\n",
       "      'program': 'system',\n",
       "      'programId': '11111111111111111111111111111111',\n",
       "      'stackHeight': 2},\n",
       "     {'parsed': {'info': {'lamports': 2039280,\n",
       "        'newAccount': 'FBj3FrmnZ6yY8ua8jiTaDqRZHyr56f5a5V7HsKfM4bwy',\n",
       "        'owner': 'TokenkegQfeZyiNwAJbNbGKPFXCWuBvf9Ss623VQ5DA',\n",
       "        'source': 'EDwBVBqYXky9oX7MBPcNz4itJmaShAprAZy9ufCvNH1K',\n",
       "        'space': 165},\n",
       "       'type': 'createAccount'},\n",
       "      'program': 'system',\n",
       "      'programId': '11111111111111111111111111111111',\n",
       "      'stackHeight': 2},\n",
       "     {'parsed': {'info': {'account': 'FBj3FrmnZ6yY8ua8jiTaDqRZHyr56f5a5V7HsKfM4bwy',\n",
       "        'mint': 'So11111111111111111111111111111111111111112',\n",
       "        'owner': 'GpMZbSM2GgvTKHJirzeGfMFoaZ8UR2X7F4v8vHTvxFbL'},\n",
       "       'type': 'initializeAccount3'},\n",
       "      'program': 'spl-token',\n",
       "      'programId': 'TokenkegQfeZyiNwAJbNbGKPFXCWuBvf9Ss623VQ5DA',\n",
       "      'stackHeight': 2},\n",
       "     {'parsed': {'info': {'lamports': 2039280,\n",
       "        'newAccount': 'GsabpBVreAgj5erv3TwrMV9A6PA8cCYig7BQaxKZGcM4',\n",
       "        'owner': 'TokenkegQfeZyiNwAJbNbGKPFXCWuBvf9Ss623VQ5DA',\n",
       "        'source': 'EDwBVBqYXky9oX7MBPcNz4itJmaShAprAZy9ufCvNH1K',\n",
       "        'space': 165},\n",
       "       'type': 'createAccount'},\n",
       "      'program': 'system',\n",
       "      'programId': '11111111111111111111111111111111',\n",
       "      'stackHeight': 2},\n",
       "     {'parsed': {'info': {'account': 'GsabpBVreAgj5erv3TwrMV9A6PA8cCYig7BQaxKZGcM4',\n",
       "        'mint': '8j99WHTvpEPwMjL74dB523L48KEnQzo86dEpUS91pump',\n",
       "        'owner': 'GpMZbSM2GgvTKHJirzeGfMFoaZ8UR2X7F4v8vHTvxFbL'},\n",
       "       'type': 'initializeAccount3'},\n",
       "      'program': 'spl-token',\n",
       "      'programId': 'TokenkegQfeZyiNwAJbNbGKPFXCWuBvf9Ss623VQ5DA',\n",
       "      'stackHeight': 2},\n",
       "     {'parsed': {'info': {'lamports': 5324400,\n",
       "        'newAccount': '3GyHgJDjrgqoHJxuYBUmJBkwi4V24iGFFyAKMXH8pDi3',\n",
       "        'owner': 'CPMMoo8L3F4NbTegBCKVNunggL7H1ZpdTHKxQB5qKP1C',\n",
       "        'source': 'EDwBVBqYXky9oX7MBPcNz4itJmaShAprAZy9ufCvNH1K',\n",
       "        'space': 637},\n",
       "       'type': 'createAccount'},\n",
       "      'program': 'system',\n",
       "      'programId': '11111111111111111111111111111111',\n",
       "      'stackHeight': 2},\n",
       "     {'parsed': {'info': {'authority': 'EDwBVBqYXky9oX7MBPcNz4itJmaShAprAZy9ufCvNH1K',\n",
       "        'destination': 'FBj3FrmnZ6yY8ua8jiTaDqRZHyr56f5a5V7HsKfM4bwy',\n",
       "        'mint': 'So11111111111111111111111111111111111111112',\n",
       "        'source': 'ForavxrAYKh5z12m6axq8C8qdhECgQdNcEsDtgjgNuLj',\n",
       "        'tokenAmount': {'amount': '248000000000',\n",
       "         'decimals': 9,\n",
       "         'uiAmount': 248,\n",
       "         'uiAmountString': '248'}},\n",
       "       'type': 'transferChecked'},\n",
       "      'program': 'spl-token',\n",
       "      'programId': 'TokenkegQfeZyiNwAJbNbGKPFXCWuBvf9Ss623VQ5DA',\n",
       "      'stackHeight': 2},\n",
       "     {'parsed': {'info': {'authority': 'EDwBVBqYXky9oX7MBPcNz4itJmaShAprAZy9ufCvNH1K',\n",
       "        'destination': 'GsabpBVreAgj5erv3TwrMV9A6PA8cCYig7BQaxKZGcM4',\n",
       "        'mint': '8j99WHTvpEPwMjL74dB523L48KEnQzo86dEpUS91pump',\n",
       "        'source': '5W8oAqVqdVUoTJWtxHWPqjP3JKwNxVD1AmyF7TZY289z',\n",
       "        'tokenAmount': {'amount': '500000000000000000',\n",
       "         'decimals': 9,\n",
       "         'uiAmount': 500000000,\n",
       "         'uiAmountString': '500000000'}},\n",
       "       'type': 'transferChecked'},\n",
       "      'program': 'spl-token',\n",
       "      'programId': 'TokenkegQfeZyiNwAJbNbGKPFXCWuBvf9Ss623VQ5DA',\n",
       "      'stackHeight': 2},\n",
       "     {'parsed': {'info': {'account': '47tYTxseapfNbiszhXzszgTZr7KK6GrjQSqwDiPciY3B',\n",
       "        'amount': '352136337233080',\n",
       "        'mint': '8ViS14h7ZWm1AtMVxRQLvAN38Av14PwzjZFWNcfkTC2i',\n",
       "        'mintAuthority': 'GpMZbSM2GgvTKHJirzeGfMFoaZ8UR2X7F4v8vHTvxFbL'},\n",
       "       'type': 'mintTo'},\n",
       "      'program': 'spl-token',\n",
       "      'programId': 'TokenkegQfeZyiNwAJbNbGKPFXCWuBvf9Ss623VQ5DA',\n",
       "      'stackHeight': 2},\n",
       "     {'parsed': {'info': {'destination': 'DNXgeM9EiiaAbaWvwjHj9fQQLAX5ZsfHyvmYUNRAdNC8',\n",
       "        'lamports': 150000000,\n",
       "        'source': 'EDwBVBqYXky9oX7MBPcNz4itJmaShAprAZy9ufCvNH1K'},\n",
       "       'type': 'transfer'},\n",
       "      'program': 'system',\n",
       "      'programId': '11111111111111111111111111111111',\n",
       "      'stackHeight': 2},\n",
       "     {'parsed': {'info': {'account': 'DNXgeM9EiiaAbaWvwjHj9fQQLAX5ZsfHyvmYUNRAdNC8'},\n",
       "       'type': 'syncNative'},\n",
       "      'program': 'spl-token',\n",
       "      'programId': 'TokenkegQfeZyiNwAJbNbGKPFXCWuBvf9Ss623VQ5DA',\n",
       "      'stackHeight': 2}]}],\n",
       "  'logMessages': ['Program ComputeBudget111111111111111111111111111111 invoke [1]',\n",
       "   'Program ComputeBudget111111111111111111111111111111 success',\n",
       "   'Program ComputeBudget111111111111111111111111111111 invoke [1]',\n",
       "   'Program ComputeBudget111111111111111111111111111111 success',\n",
       "   'Program 11111111111111111111111111111111 invoke [1]',\n",
       "   'Program 11111111111111111111111111111111 success',\n",
       "   'Program TokenkegQfeZyiNwAJbNbGKPFXCWuBvf9Ss623VQ5DA invoke [1]',\n",
       "   'Program log: Instruction: InitializeAccount',\n",
       "   'Program TokenkegQfeZyiNwAJbNbGKPFXCWuBvf9Ss623VQ5DA consumed 3443 of 200950 compute units',\n",
       "   'Program TokenkegQfeZyiNwAJbNbGKPFXCWuBvf9Ss623VQ5DA success',\n",
       "   'Program CPMMoo8L3F4NbTegBCKVNunggL7H1ZpdTHKxQB5qKP1C invoke [1]',\n",
       "   'Program log: Instruction: Initialize',\n",
       "   'Program 11111111111111111111111111111111 invoke [2]',\n",
       "   'Program 11111111111111111111111111111111 success',\n",
       "   'Program TokenkegQfeZyiNwAJbNbGKPFXCWuBvf9Ss623VQ5DA invoke [2]',\n",
       "   'Program log: Instruction: InitializeMint2',\n",
       "   'Program TokenkegQfeZyiNwAJbNbGKPFXCWuBvf9Ss623VQ5DA consumed 2780 of 174972 compute units',\n",
       "   'Program TokenkegQfeZyiNwAJbNbGKPFXCWuBvf9Ss623VQ5DA success',\n",
       "   'Program ATokenGPvbdGVxr1b2hvZbsiqW5xWH25efTNsLJA8knL invoke [2]',\n",
       "   'Program log: Create',\n",
       "   'Program TokenkegQfeZyiNwAJbNbGKPFXCWuBvf9Ss623VQ5DA invoke [3]',\n",
       "   'Program log: Instruction: GetAccountDataSize',\n",
       "   'Program TokenkegQfeZyiNwAJbNbGKPFXCWuBvf9Ss623VQ5DA consumed 1595 of 155574 compute units',\n",
       "   'Program return: TokenkegQfeZyiNwAJbNbGKPFXCWuBvf9Ss623VQ5DA pQAAAAAAAAA=',\n",
       "   'Program TokenkegQfeZyiNwAJbNbGKPFXCWuBvf9Ss623VQ5DA success',\n",
       "   'Program 11111111111111111111111111111111 invoke [3]',\n",
       "   'Program 11111111111111111111111111111111 success',\n",
       "   'Program log: Initialize the associated token account',\n",
       "   'Program TokenkegQfeZyiNwAJbNbGKPFXCWuBvf9Ss623VQ5DA invoke [3]',\n",
       "   'Program log: Instruction: InitializeImmutableOwner',\n",
       "   'Program log: Please upgrade to SPL Token 2022 for immutable owner support',\n",
       "   'Program TokenkegQfeZyiNwAJbNbGKPFXCWuBvf9Ss623VQ5DA consumed 1405 of 148961 compute units',\n",
       "   'Program TokenkegQfeZyiNwAJbNbGKPFXCWuBvf9Ss623VQ5DA success',\n",
       "   'Program TokenkegQfeZyiNwAJbNbGKPFXCWuBvf9Ss623VQ5DA invoke [3]',\n",
       "   'Program log: Instruction: InitializeAccount3',\n",
       "   'Program TokenkegQfeZyiNwAJbNbGKPFXCWuBvf9Ss623VQ5DA consumed 4214 of 145079 compute units',\n",
       "   'Program TokenkegQfeZyiNwAJbNbGKPFXCWuBvf9Ss623VQ5DA success',\n",
       "   'Program ATokenGPvbdGVxr1b2hvZbsiqW5xWH25efTNsLJA8knL consumed 21889 of 162471 compute units',\n",
       "   'Program ATokenGPvbdGVxr1b2hvZbsiqW5xWH25efTNsLJA8knL success',\n",
       "   'Program 11111111111111111111111111111111 invoke [2]',\n",
       "   'Program 11111111111111111111111111111111 success',\n",
       "   'Program 11111111111111111111111111111111 invoke [2]',\n",
       "   'Program 11111111111111111111111111111111 success',\n",
       "   'Program TokenkegQfeZyiNwAJbNbGKPFXCWuBvf9Ss623VQ5DA invoke [2]',\n",
       "   'Program log: Instruction: InitializeAccount3',\n",
       "   'Program TokenkegQfeZyiNwAJbNbGKPFXCWuBvf9Ss623VQ5DA consumed 3158 of 113946 compute units',\n",
       "   'Program TokenkegQfeZyiNwAJbNbGKPFXCWuBvf9Ss623VQ5DA success',\n",
       "   'Program 11111111111111111111111111111111 invoke [2]',\n",
       "   'Program 11111111111111111111111111111111 success',\n",
       "   'Program TokenkegQfeZyiNwAJbNbGKPFXCWuBvf9Ss623VQ5DA invoke [2]',\n",
       "   'Program log: Instruction: InitializeAccount3',\n",
       "   'Program TokenkegQfeZyiNwAJbNbGKPFXCWuBvf9Ss623VQ5DA consumed 4188 of 104014 compute units',\n",
       "   'Program TokenkegQfeZyiNwAJbNbGKPFXCWuBvf9Ss623VQ5DA success',\n",
       "   'Program 11111111111111111111111111111111 invoke [2]',\n",
       "   'Program 11111111111111111111111111111111 success',\n",
       "   'Program TokenkegQfeZyiNwAJbNbGKPFXCWuBvf9Ss623VQ5DA invoke [2]',\n",
       "   'Program log: Instruction: TransferChecked',\n",
       "   'Program TokenkegQfeZyiNwAJbNbGKPFXCWuBvf9Ss623VQ5DA consumed 6238 of 86704 compute units',\n",
       "   'Program TokenkegQfeZyiNwAJbNbGKPFXCWuBvf9Ss623VQ5DA success',\n",
       "   'Program TokenkegQfeZyiNwAJbNbGKPFXCWuBvf9Ss623VQ5DA invoke [2]',\n",
       "   'Program log: Instruction: TransferChecked',\n",
       "   'Program TokenkegQfeZyiNwAJbNbGKPFXCWuBvf9Ss623VQ5DA consumed 6147 of 76553 compute units',\n",
       "   'Program TokenkegQfeZyiNwAJbNbGKPFXCWuBvf9Ss623VQ5DA success',\n",
       "   'Program log: liquidity:352136337233180, lock_lp_amount:100, vault_0_amount:248000000000,vault_1_amount:500000000000000000',\n",
       "   'Program TokenkegQfeZyiNwAJbNbGKPFXCWuBvf9Ss623VQ5DA invoke [2]',\n",
       "   'Program log: Instruction: MintTo',\n",
       "   'Program TokenkegQfeZyiNwAJbNbGKPFXCWuBvf9Ss623VQ5DA consumed 4492 of 56725 compute units',\n",
       "   'Program TokenkegQfeZyiNwAJbNbGKPFXCWuBvf9Ss623VQ5DA success',\n",
       "   'Program 11111111111111111111111111111111 invoke [2]',\n",
       "   'Program 11111111111111111111111111111111 success',\n",
       "   'Program TokenkegQfeZyiNwAJbNbGKPFXCWuBvf9Ss623VQ5DA invoke [2]',\n",
       "   'Program log: Instruction: SyncNative',\n",
       "   'Program TokenkegQfeZyiNwAJbNbGKPFXCWuBvf9Ss623VQ5DA consumed 3045 of 48136 compute units',\n",
       "   'Program TokenkegQfeZyiNwAJbNbGKPFXCWuBvf9Ss623VQ5DA success',\n",
       "   'Program CPMMoo8L3F4NbTegBCKVNunggL7H1ZpdTHKxQB5qKP1C consumed 154312 of 197507 compute units',\n",
       "   'Program CPMMoo8L3F4NbTegBCKVNunggL7H1ZpdTHKxQB5qKP1C success',\n",
       "   'Program TokenkegQfeZyiNwAJbNbGKPFXCWuBvf9Ss623VQ5DA invoke [1]',\n",
       "   'Program log: Instruction: CloseAccount',\n",
       "   'Program TokenkegQfeZyiNwAJbNbGKPFXCWuBvf9Ss623VQ5DA consumed 2915 of 43195 compute units',\n",
       "   'Program TokenkegQfeZyiNwAJbNbGKPFXCWuBvf9Ss623VQ5DA success',\n",
       "   'Program 11111111111111111111111111111111 invoke [1]',\n",
       "   'Program 11111111111111111111111111111111 success'],\n",
       "  'postBalances': [151489156842,\n",
       "   0,\n",
       "   5324400,\n",
       "   1461600,\n",
       "   2039280,\n",
       "   2039280,\n",
       "   248002039280,\n",
       "   2039280,\n",
       "   17070302039281,\n",
       "   29252880,\n",
       "   272859579463,\n",
       "   1,\n",
       "   1,\n",
       "   934087680,\n",
       "   1040131569087,\n",
       "   1009200,\n",
       "   1141440,\n",
       "   2533440,\n",
       "   1148246674313,\n",
       "   1461602,\n",
       "   731913600],\n",
       "  'postTokenBalances': [{'accountIndex': 4,\n",
       "    'mint': '8j99WHTvpEPwMjL74dB523L48KEnQzo86dEpUS91pump',\n",
       "    'owner': 'EDwBVBqYXky9oX7MBPcNz4itJmaShAprAZy9ufCvNH1K',\n",
       "    'programId': 'TokenkegQfeZyiNwAJbNbGKPFXCWuBvf9Ss623VQ5DA',\n",
       "    'uiTokenAmount': {'amount': '500000000000000000',\n",
       "     'decimals': 9,\n",
       "     'uiAmount': 500000000,\n",
       "     'uiAmountString': '500000000'}},\n",
       "   {'accountIndex': 5,\n",
       "    'mint': '8ViS14h7ZWm1AtMVxRQLvAN38Av14PwzjZFWNcfkTC2i',\n",
       "    'owner': 'EDwBVBqYXky9oX7MBPcNz4itJmaShAprAZy9ufCvNH1K',\n",
       "    'programId': 'TokenkegQfeZyiNwAJbNbGKPFXCWuBvf9Ss623VQ5DA',\n",
       "    'uiTokenAmount': {'amount': '352136337233080',\n",
       "     'decimals': 9,\n",
       "     'uiAmount': 352136.33723308,\n",
       "     'uiAmountString': '352136.33723308'}},\n",
       "   {'accountIndex': 6,\n",
       "    'mint': 'So11111111111111111111111111111111111111112',\n",
       "    'owner': 'GpMZbSM2GgvTKHJirzeGfMFoaZ8UR2X7F4v8vHTvxFbL',\n",
       "    'programId': 'TokenkegQfeZyiNwAJbNbGKPFXCWuBvf9Ss623VQ5DA',\n",
       "    'uiTokenAmount': {'amount': '248000000000',\n",
       "     'decimals': 9,\n",
       "     'uiAmount': 248,\n",
       "     'uiAmountString': '248'}},\n",
       "   {'accountIndex': 7,\n",
       "    'mint': '8j99WHTvpEPwMjL74dB523L48KEnQzo86dEpUS91pump',\n",
       "    'owner': 'GpMZbSM2GgvTKHJirzeGfMFoaZ8UR2X7F4v8vHTvxFbL',\n",
       "    'programId': 'TokenkegQfeZyiNwAJbNbGKPFXCWuBvf9Ss623VQ5DA',\n",
       "    'uiTokenAmount': {'amount': '500000000000000000',\n",
       "     'decimals': 9,\n",
       "     'uiAmount': 500000000,\n",
       "     'uiAmountString': '500000000'}},\n",
       "   {'accountIndex': 8,\n",
       "    'mint': 'So11111111111111111111111111111111111111112',\n",
       "    'owner': 'GThUX1Atko4tqhN2NaiTazWSeFWMuiUvfFnyJyUghFMJ',\n",
       "    'programId': 'TokenkegQfeZyiNwAJbNbGKPFXCWuBvf9Ss623VQ5DA',\n",
       "    'uiTokenAmount': {'amount': '17070300000001',\n",
       "     'decimals': 9,\n",
       "     'uiAmount': 17070.300000001,\n",
       "     'uiAmountString': '17070.300000001'}}],\n",
       "  'preBalances': [399781393563,\n",
       "   0,\n",
       "   0,\n",
       "   0,\n",
       "   2039280,\n",
       "   0,\n",
       "   0,\n",
       "   0,\n",
       "   17070152039281,\n",
       "   0,\n",
       "   272759579463,\n",
       "   1,\n",
       "   1,\n",
       "   934087680,\n",
       "   1040131569087,\n",
       "   1009200,\n",
       "   1141440,\n",
       "   2533440,\n",
       "   1148246674313,\n",
       "   1461602,\n",
       "   731913600],\n",
       "  'preTokenBalances': [{'accountIndex': 4,\n",
       "    'mint': '8j99WHTvpEPwMjL74dB523L48KEnQzo86dEpUS91pump',\n",
       "    'owner': 'EDwBVBqYXky9oX7MBPcNz4itJmaShAprAZy9ufCvNH1K',\n",
       "    'programId': 'TokenkegQfeZyiNwAJbNbGKPFXCWuBvf9Ss623VQ5DA',\n",
       "    'uiTokenAmount': {'amount': '1000000000000000000',\n",
       "     'decimals': 9,\n",
       "     'uiAmount': 1000000000,\n",
       "     'uiAmountString': '1000000000'}},\n",
       "   {'accountIndex': 8,\n",
       "    'mint': 'So11111111111111111111111111111111111111112',\n",
       "    'owner': 'GThUX1Atko4tqhN2NaiTazWSeFWMuiUvfFnyJyUghFMJ',\n",
       "    'programId': 'TokenkegQfeZyiNwAJbNbGKPFXCWuBvf9Ss623VQ5DA',\n",
       "    'uiTokenAmount': {'amount': '17070150000001',\n",
       "     'decimals': 9,\n",
       "     'uiAmount': 17070.150000001,\n",
       "     'uiAmountString': '17070.150000001'}}],\n",
       "  'rewards': [],\n",
       "  'status': {'Ok': None}},\n",
       " 'slot': 339337933,\n",
       " 'transaction': {'message': {'accountKeys': [{'pubkey': 'EDwBVBqYXky9oX7MBPcNz4itJmaShAprAZy9ufCvNH1K',\n",
       "     'signer': True,\n",
       "     'source': 'transaction',\n",
       "     'writable': True},\n",
       "    {'pubkey': 'ForavxrAYKh5z12m6axq8C8qdhECgQdNcEsDtgjgNuLj',\n",
       "     'signer': False,\n",
       "     'source': 'transaction',\n",
       "     'writable': True},\n",
       "    {'pubkey': '3GyHgJDjrgqoHJxuYBUmJBkwi4V24iGFFyAKMXH8pDi3',\n",
       "     'signer': False,\n",
       "     'source': 'transaction',\n",
       "     'writable': True},\n",
       "    {'pubkey': '8ViS14h7ZWm1AtMVxRQLvAN38Av14PwzjZFWNcfkTC2i',\n",
       "     'signer': False,\n",
       "     'source': 'transaction',\n",
       "     'writable': True},\n",
       "    {'pubkey': '5W8oAqVqdVUoTJWtxHWPqjP3JKwNxVD1AmyF7TZY289z',\n",
       "     'signer': False,\n",
       "     'source': 'transaction',\n",
       "     'writable': True},\n",
       "    {'pubkey': '47tYTxseapfNbiszhXzszgTZr7KK6GrjQSqwDiPciY3B',\n",
       "     'signer': False,\n",
       "     'source': 'transaction',\n",
       "     'writable': True},\n",
       "    {'pubkey': 'FBj3FrmnZ6yY8ua8jiTaDqRZHyr56f5a5V7HsKfM4bwy',\n",
       "     'signer': False,\n",
       "     'source': 'transaction',\n",
       "     'writable': True},\n",
       "    {'pubkey': 'GsabpBVreAgj5erv3TwrMV9A6PA8cCYig7BQaxKZGcM4',\n",
       "     'signer': False,\n",
       "     'source': 'transaction',\n",
       "     'writable': True},\n",
       "    {'pubkey': 'DNXgeM9EiiaAbaWvwjHj9fQQLAX5ZsfHyvmYUNRAdNC8',\n",
       "     'signer': False,\n",
       "     'source': 'transaction',\n",
       "     'writable': True},\n",
       "    {'pubkey': 'HBqnCQkPVn1Sry1YQksy9KEJjVCTz2a7gTX45q5tUtWz',\n",
       "     'signer': False,\n",
       "     'source': 'transaction',\n",
       "     'writable': True},\n",
       "    {'pubkey': '4uks6GfvhLaqJxWrZZYYxfbU24Kz7318VLXQozKQav6V',\n",
       "     'signer': False,\n",
       "     'source': 'transaction',\n",
       "     'writable': True},\n",
       "    {'pubkey': 'ComputeBudget111111111111111111111111111111',\n",
       "     'signer': False,\n",
       "     'source': 'transaction',\n",
       "     'writable': False},\n",
       "    {'pubkey': '11111111111111111111111111111111',\n",
       "     'signer': False,\n",
       "     'source': 'transaction',\n",
       "     'writable': False},\n",
       "    {'pubkey': 'TokenkegQfeZyiNwAJbNbGKPFXCWuBvf9Ss623VQ5DA',\n",
       "     'signer': False,\n",
       "     'source': 'transaction',\n",
       "     'writable': False},\n",
       "    {'pubkey': 'So11111111111111111111111111111111111111112',\n",
       "     'signer': False,\n",
       "     'source': 'transaction',\n",
       "     'writable': False},\n",
       "    {'pubkey': 'SysvarRent111111111111111111111111111111111',\n",
       "     'signer': False,\n",
       "     'source': 'transaction',\n",
       "     'writable': False},\n",
       "    {'pubkey': 'CPMMoo8L3F4NbTegBCKVNunggL7H1ZpdTHKxQB5qKP1C',\n",
       "     'signer': False,\n",
       "     'source': 'transaction',\n",
       "     'writable': False},\n",
       "    {'pubkey': 'D4FPEruKEHrG5TenZ2mpDGEfu1iUvTiqBxvpU8HLBvC2',\n",
       "     'signer': False,\n",
       "     'source': 'transaction',\n",
       "     'writable': False},\n",
       "    {'pubkey': 'GpMZbSM2GgvTKHJirzeGfMFoaZ8UR2X7F4v8vHTvxFbL',\n",
       "     'signer': False,\n",
       "     'source': 'transaction',\n",
       "     'writable': False},\n",
       "    {'pubkey': '8j99WHTvpEPwMjL74dB523L48KEnQzo86dEpUS91pump',\n",
       "     'signer': False,\n",
       "     'source': 'transaction',\n",
       "     'writable': False},\n",
       "    {'pubkey': 'ATokenGPvbdGVxr1b2hvZbsiqW5xWH25efTNsLJA8knL',\n",
       "     'signer': False,\n",
       "     'source': 'transaction',\n",
       "     'writable': False}],\n",
       "   'addressTableLookups': [],\n",
       "   'instructions': [{'accounts': [],\n",
       "     'data': '3i1NSA2RoHHH',\n",
       "     'programId': 'ComputeBudget111111111111111111111111111111',\n",
       "     'stackHeight': None},\n",
       "    {'accounts': [],\n",
       "     'data': 'JnxS31',\n",
       "     'programId': 'ComputeBudget111111111111111111111111111111',\n",
       "     'stackHeight': None},\n",
       "    {'parsed': {'info': {'base': 'EDwBVBqYXky9oX7MBPcNz4itJmaShAprAZy9ufCvNH1K',\n",
       "       'lamports': 248002039280,\n",
       "       'newAccount': 'ForavxrAYKh5z12m6axq8C8qdhECgQdNcEsDtgjgNuLj',\n",
       "       'owner': 'TokenkegQfeZyiNwAJbNbGKPFXCWuBvf9Ss623VQ5DA',\n",
       "       'seed': '148c6v5TCd4dRFHBotsvUjFP67fKY6Hu',\n",
       "       'source': 'EDwBVBqYXky9oX7MBPcNz4itJmaShAprAZy9ufCvNH1K',\n",
       "       'space': 165},\n",
       "      'type': 'createAccountWithSeed'},\n",
       "     'program': 'system',\n",
       "     'programId': '11111111111111111111111111111111',\n",
       "     'stackHeight': None},\n",
       "    {'parsed': {'info': {'account': 'ForavxrAYKh5z12m6axq8C8qdhECgQdNcEsDtgjgNuLj',\n",
       "       'mint': 'So11111111111111111111111111111111111111112',\n",
       "       'owner': 'EDwBVBqYXky9oX7MBPcNz4itJmaShAprAZy9ufCvNH1K',\n",
       "       'rentSysvar': 'SysvarRent111111111111111111111111111111111'},\n",
       "      'type': 'initializeAccount'},\n",
       "     'program': 'spl-token',\n",
       "     'programId': 'TokenkegQfeZyiNwAJbNbGKPFXCWuBvf9Ss623VQ5DA',\n",
       "     'stackHeight': None},\n",
       "    {'accounts': ['EDwBVBqYXky9oX7MBPcNz4itJmaShAprAZy9ufCvNH1K',\n",
       "      'D4FPEruKEHrG5TenZ2mpDGEfu1iUvTiqBxvpU8HLBvC2',\n",
       "      'GpMZbSM2GgvTKHJirzeGfMFoaZ8UR2X7F4v8vHTvxFbL',\n",
       "      '3GyHgJDjrgqoHJxuYBUmJBkwi4V24iGFFyAKMXH8pDi3',\n",
       "      'So11111111111111111111111111111111111111112',\n",
       "      '8j99WHTvpEPwMjL74dB523L48KEnQzo86dEpUS91pump',\n",
       "      '8ViS14h7ZWm1AtMVxRQLvAN38Av14PwzjZFWNcfkTC2i',\n",
       "      'ForavxrAYKh5z12m6axq8C8qdhECgQdNcEsDtgjgNuLj',\n",
       "      '5W8oAqVqdVUoTJWtxHWPqjP3JKwNxVD1AmyF7TZY289z',\n",
       "      '47tYTxseapfNbiszhXzszgTZr7KK6GrjQSqwDiPciY3B',\n",
       "      'FBj3FrmnZ6yY8ua8jiTaDqRZHyr56f5a5V7HsKfM4bwy',\n",
       "      'GsabpBVreAgj5erv3TwrMV9A6PA8cCYig7BQaxKZGcM4',\n",
       "      'DNXgeM9EiiaAbaWvwjHj9fQQLAX5ZsfHyvmYUNRAdNC8',\n",
       "      'HBqnCQkPVn1Sry1YQksy9KEJjVCTz2a7gTX45q5tUtWz',\n",
       "      'TokenkegQfeZyiNwAJbNbGKPFXCWuBvf9Ss623VQ5DA',\n",
       "      'TokenkegQfeZyiNwAJbNbGKPFXCWuBvf9Ss623VQ5DA',\n",
       "      'TokenkegQfeZyiNwAJbNbGKPFXCWuBvf9Ss623VQ5DA',\n",
       "      'ATokenGPvbdGVxr1b2hvZbsiqW5xWH25efTNsLJA8knL',\n",
       "      '11111111111111111111111111111111',\n",
       "      'SysvarRent111111111111111111111111111111111'],\n",
       "     'data': 'CpoVi745fTaBGgVfi1LGThhCWnDL7Dd1dnXMDK86zetf',\n",
       "     'programId': 'CPMMoo8L3F4NbTegBCKVNunggL7H1ZpdTHKxQB5qKP1C',\n",
       "     'stackHeight': None},\n",
       "    {'parsed': {'info': {'account': 'ForavxrAYKh5z12m6axq8C8qdhECgQdNcEsDtgjgNuLj',\n",
       "       'destination': 'EDwBVBqYXky9oX7MBPcNz4itJmaShAprAZy9ufCvNH1K',\n",
       "       'owner': 'EDwBVBqYXky9oX7MBPcNz4itJmaShAprAZy9ufCvNH1K'},\n",
       "      'type': 'closeAccount'},\n",
       "     'program': 'spl-token',\n",
       "     'programId': 'TokenkegQfeZyiNwAJbNbGKPFXCWuBvf9Ss623VQ5DA',\n",
       "     'stackHeight': None},\n",
       "    {'parsed': {'info': {'destination': '4uks6GfvhLaqJxWrZZYYxfbU24Kz7318VLXQozKQav6V',\n",
       "       'lamports': 100000000,\n",
       "       'source': 'EDwBVBqYXky9oX7MBPcNz4itJmaShAprAZy9ufCvNH1K'},\n",
       "      'type': 'transfer'},\n",
       "     'program': 'system',\n",
       "     'programId': '11111111111111111111111111111111',\n",
       "     'stackHeight': None}],\n",
       "   'recentBlockhash': '9cG5sxs6qE1zQeW4aCByaLeaqFSA9roofG3ysESE9VsQ'},\n",
       "  'signatures': ['No7wTMsNoCWGa569pBWCUpHU6pHcGgURdT7xSV3brtZq4KZMEdNvazvjWJ7kNxQgbEGAPWJCkGMcHTts3tciASe']},\n",
       " 'version': 0}"
      ]
     },
     "execution_count": 59,
     "metadata": {},
     "output_type": "execute_result"
    }
   ],
   "source": [
    "liquidity_data"
   ]
  },
  {
   "cell_type": "code",
   "execution_count": 46,
   "id": "caa81db6",
   "metadata": {},
   "outputs": [
    {
     "data": {
      "text/plain": [
       "{'blockTime': 1746980971,\n",
       " 'meta': {'computeUnitsConsumed': 60250,\n",
       "  'err': None,\n",
       "  'fee': 46000,\n",
       "  'innerInstructions': [{'index': 4,\n",
       "    'instructions': [{'parsed': {'info': {'extensionTypes': ['immutableOwner'],\n",
       "        'mint': '6Bu6VAt1sQwaURGvE3p4kcLKXzfyAbMjhBQcDgkRZyvi'},\n",
       "       'type': 'getAccountDataSize'},\n",
       "      'program': 'spl-token',\n",
       "      'programId': 'TokenkegQfeZyiNwAJbNbGKPFXCWuBvf9Ss623VQ5DA',\n",
       "      'stackHeight': 2},\n",
       "     {'parsed': {'info': {'lamports': 2039280,\n",
       "        'newAccount': 'G841JQVJ765nxfNoYKzp9gQjjYLQWQuqWPE7SomripN7',\n",
       "        'owner': 'TokenkegQfeZyiNwAJbNbGKPFXCWuBvf9Ss623VQ5DA',\n",
       "        'source': '5KQd1VGnHBoAaxZWzckRbVZkGJPgFYoasNFjuDk4qBiZ',\n",
       "        'space': 165},\n",
       "       'type': 'createAccount'},\n",
       "      'program': 'system',\n",
       "      'programId': '11111111111111111111111111111111',\n",
       "      'stackHeight': 2},\n",
       "     {'parsed': {'info': {'account': 'G841JQVJ765nxfNoYKzp9gQjjYLQWQuqWPE7SomripN7'},\n",
       "       'type': 'initializeImmutableOwner'},\n",
       "      'program': 'spl-token',\n",
       "      'programId': 'TokenkegQfeZyiNwAJbNbGKPFXCWuBvf9Ss623VQ5DA',\n",
       "      'stackHeight': 2},\n",
       "     {'parsed': {'info': {'account': 'G841JQVJ765nxfNoYKzp9gQjjYLQWQuqWPE7SomripN7',\n",
       "        'mint': '6Bu6VAt1sQwaURGvE3p4kcLKXzfyAbMjhBQcDgkRZyvi',\n",
       "        'owner': '5KQd1VGnHBoAaxZWzckRbVZkGJPgFYoasNFjuDk4qBiZ'},\n",
       "       'type': 'initializeAccount3'},\n",
       "      'program': 'spl-token',\n",
       "      'programId': 'TokenkegQfeZyiNwAJbNbGKPFXCWuBvf9Ss623VQ5DA',\n",
       "      'stackHeight': 2}]},\n",
       "   {'index': 5,\n",
       "    'instructions': [{'parsed': {'info': {'amount': '15500000000',\n",
       "        'authority': '5KQd1VGnHBoAaxZWzckRbVZkGJPgFYoasNFjuDk4qBiZ',\n",
       "        'destination': 'Y5ZmP7fNaAsUXBifuxhYnKQJTT83npZStQRW5fonLnV',\n",
       "        'source': 'cZHUy5BkpWC1GHG9u1NDaAWN9EcRjX8JrSufbcGYUZx'},\n",
       "       'type': 'transfer'},\n",
       "      'program': 'spl-token',\n",
       "      'programId': 'TokenkegQfeZyiNwAJbNbGKPFXCWuBvf9Ss623VQ5DA',\n",
       "      'stackHeight': 2},\n",
       "     {'parsed': {'info': {'amount': '772222195785940',\n",
       "        'authority': '5Q544fKrFoe6tsEbD7S8EmxGTJYAKtTVhAW5Q5pge4j1',\n",
       "        'destination': 'G841JQVJ765nxfNoYKzp9gQjjYLQWQuqWPE7SomripN7',\n",
       "        'source': '821mk2f4BkjQGziEQ8zDJcoueAnq9kTePHV4Voy3Nc2x'},\n",
       "       'type': 'transfer'},\n",
       "      'program': 'spl-token',\n",
       "      'programId': 'TokenkegQfeZyiNwAJbNbGKPFXCWuBvf9Ss623VQ5DA',\n",
       "      'stackHeight': 2}]}],\n",
       "  'logMessages': ['Program ComputeBudget111111111111111111111111111111 invoke [1]',\n",
       "   'Program ComputeBudget111111111111111111111111111111 success',\n",
       "   'Program ComputeBudget111111111111111111111111111111 invoke [1]',\n",
       "   'Program ComputeBudget111111111111111111111111111111 success',\n",
       "   'Program 11111111111111111111111111111111 invoke [1]',\n",
       "   'Program 11111111111111111111111111111111 success',\n",
       "   'Program TokenkegQfeZyiNwAJbNbGKPFXCWuBvf9Ss623VQ5DA invoke [1]',\n",
       "   'Program log: Instruction: InitializeAccount',\n",
       "   'Program TokenkegQfeZyiNwAJbNbGKPFXCWuBvf9Ss623VQ5DA consumed 3443 of 76490 compute units',\n",
       "   'Program TokenkegQfeZyiNwAJbNbGKPFXCWuBvf9Ss623VQ5DA success',\n",
       "   'Program ATokenGPvbdGVxr1b2hvZbsiqW5xWH25efTNsLJA8knL invoke [1]',\n",
       "   'Program log: CreateIdempotent',\n",
       "   'Program TokenkegQfeZyiNwAJbNbGKPFXCWuBvf9Ss623VQ5DA invoke [2]',\n",
       "   'Program log: Instruction: GetAccountDataSize',\n",
       "   'Program TokenkegQfeZyiNwAJbNbGKPFXCWuBvf9Ss623VQ5DA consumed 1569 of 64642 compute units',\n",
       "   'Program return: TokenkegQfeZyiNwAJbNbGKPFXCWuBvf9Ss623VQ5DA pQAAAAAAAAA=',\n",
       "   'Program TokenkegQfeZyiNwAJbNbGKPFXCWuBvf9Ss623VQ5DA success',\n",
       "   'Program 11111111111111111111111111111111 invoke [2]',\n",
       "   'Program 11111111111111111111111111111111 success',\n",
       "   'Program log: Initialize the associated token account',\n",
       "   'Program TokenkegQfeZyiNwAJbNbGKPFXCWuBvf9Ss623VQ5DA invoke [2]',\n",
       "   'Program log: Instruction: InitializeImmutableOwner',\n",
       "   'Program log: Please upgrade to SPL Token 2022 for immutable owner support',\n",
       "   'Program TokenkegQfeZyiNwAJbNbGKPFXCWuBvf9Ss623VQ5DA consumed 1405 of 58055 compute units',\n",
       "   'Program TokenkegQfeZyiNwAJbNbGKPFXCWuBvf9Ss623VQ5DA success',\n",
       "   'Program TokenkegQfeZyiNwAJbNbGKPFXCWuBvf9Ss623VQ5DA invoke [2]',\n",
       "   'Program log: Instruction: InitializeAccount3',\n",
       "   'Program TokenkegQfeZyiNwAJbNbGKPFXCWuBvf9Ss623VQ5DA consumed 4188 of 54173 compute units',\n",
       "   'Program TokenkegQfeZyiNwAJbNbGKPFXCWuBvf9Ss623VQ5DA success',\n",
       "   'Program ATokenGPvbdGVxr1b2hvZbsiqW5xWH25efTNsLJA8knL consumed 23345 of 73047 compute units',\n",
       "   'Program ATokenGPvbdGVxr1b2hvZbsiqW5xWH25efTNsLJA8knL success',\n",
       "   'Program 675kPX9MHTjS2zt1qfr1NYHuzeLXfQM9H24wFSUt1Mp8 invoke [1]',\n",
       "   'Program log: ray_log: AwA735sDAAAAe/qZ0mC3AgABAAAAAAAAAAA735sDAAAAZXREy25HAwClc+WzAAAAANTgqv1UvgIA',\n",
       "   'Program TokenkegQfeZyiNwAJbNbGKPFXCWuBvf9Ss623VQ5DA invoke [2]',\n",
       "   'Program log: Instruction: Transfer',\n",
       "   'Program TokenkegQfeZyiNwAJbNbGKPFXCWuBvf9Ss623VQ5DA consumed 4736 of 33134 compute units',\n",
       "   'Program TokenkegQfeZyiNwAJbNbGKPFXCWuBvf9Ss623VQ5DA success',\n",
       "   'Program TokenkegQfeZyiNwAJbNbGKPFXCWuBvf9Ss623VQ5DA invoke [2]',\n",
       "   'Program log: Instruction: Transfer',\n",
       "   'Program TokenkegQfeZyiNwAJbNbGKPFXCWuBvf9Ss623VQ5DA consumed 4645 of 25417 compute units',\n",
       "   'Program TokenkegQfeZyiNwAJbNbGKPFXCWuBvf9Ss623VQ5DA success',\n",
       "   'Program 675kPX9MHTjS2zt1qfr1NYHuzeLXfQM9H24wFSUt1Mp8 consumed 29797 of 49702 compute units',\n",
       "   'Program 675kPX9MHTjS2zt1qfr1NYHuzeLXfQM9H24wFSUt1Mp8 success',\n",
       "   'Program TokenkegQfeZyiNwAJbNbGKPFXCWuBvf9Ss623VQ5DA invoke [1]',\n",
       "   'Program log: Instruction: CloseAccount',\n",
       "   'Program TokenkegQfeZyiNwAJbNbGKPFXCWuBvf9Ss623VQ5DA consumed 2915 of 19905 compute units',\n",
       "   'Program TokenkegQfeZyiNwAJbNbGKPFXCWuBvf9Ss623VQ5DA success',\n",
       "   'Program 11111111111111111111111111111111 invoke [1]',\n",
       "   'Program 11111111111111111111111111111111 success',\n",
       "   'Program 11111111111111111111111111111111 invoke [1]',\n",
       "   'Program 11111111111111111111111111111111 success'],\n",
       "  'postBalances': [10136924740,\n",
       "   0,\n",
       "   2039280,\n",
       "   6124800,\n",
       "   2039280,\n",
       "   18520198293,\n",
       "   632175666010,\n",
       "   554194436988,\n",
       "   1,\n",
       "   0,\n",
       "   1,\n",
       "   934087680,\n",
       "   1040131569087,\n",
       "   1009200,\n",
       "   731913600,\n",
       "   9307423,\n",
       "   1141440,\n",
       "   24648491900],\n",
       "  'postTokenBalances': [{'accountIndex': 2,\n",
       "    'mint': '6Bu6VAt1sQwaURGvE3p4kcLKXzfyAbMjhBQcDgkRZyvi',\n",
       "    'owner': '5KQd1VGnHBoAaxZWzckRbVZkGJPgFYoasNFjuDk4qBiZ',\n",
       "    'programId': 'TokenkegQfeZyiNwAJbNbGKPFXCWuBvf9Ss623VQ5DA',\n",
       "    'uiTokenAmount': {'amount': '772222195785940',\n",
       "     'decimals': 6,\n",
       "     'uiAmount': 772222195.78594,\n",
       "     'uiAmountString': '772222195.78594'}},\n",
       "   {'accountIndex': 4,\n",
       "    'mint': '6Bu6VAt1sQwaURGvE3p4kcLKXzfyAbMjhBQcDgkRZyvi',\n",
       "    'owner': '5Q544fKrFoe6tsEbD7S8EmxGTJYAKtTVhAW5Q5pge4j1',\n",
       "    'programId': 'TokenkegQfeZyiNwAJbNbGKPFXCWuBvf9Ss623VQ5DA',\n",
       "    'uiTokenAmount': {'amount': '150743916581777',\n",
       "     'decimals': 6,\n",
       "     'uiAmount': 150743916.581777,\n",
       "     'uiAmountString': '150743916.581777'}},\n",
       "   {'accountIndex': 5,\n",
       "    'mint': 'So11111111111111111111111111111111111111112',\n",
       "    'owner': '5Q544fKrFoe6tsEbD7S8EmxGTJYAKtTVhAW5Q5pge4j1',\n",
       "    'programId': 'TokenkegQfeZyiNwAJbNbGKPFXCWuBvf9Ss623VQ5DA',\n",
       "    'uiTokenAmount': {'amount': '18518159013',\n",
       "     'decimals': 9,\n",
       "     'uiAmount': 18.518159013,\n",
       "     'uiAmountString': '18.518159013'}}],\n",
       "  'preBalances': [25800010020,\n",
       "   0,\n",
       "   0,\n",
       "   6124800,\n",
       "   2039280,\n",
       "   3020198293,\n",
       "   632020666010,\n",
       "   554188436988,\n",
       "   1,\n",
       "   0,\n",
       "   1,\n",
       "   934087680,\n",
       "   1040131569087,\n",
       "   1009200,\n",
       "   731913600,\n",
       "   9307423,\n",
       "   1141440,\n",
       "   24648491900],\n",
       "  'preTokenBalances': [{'accountIndex': 4,\n",
       "    'mint': '6Bu6VAt1sQwaURGvE3p4kcLKXzfyAbMjhBQcDgkRZyvi',\n",
       "    'owner': '5Q544fKrFoe6tsEbD7S8EmxGTJYAKtTVhAW5Q5pge4j1',\n",
       "    'programId': 'TokenkegQfeZyiNwAJbNbGKPFXCWuBvf9Ss623VQ5DA',\n",
       "    'uiTokenAmount': {'amount': '922966112367717',\n",
       "     'decimals': 6,\n",
       "     'uiAmount': 922966112.367717,\n",
       "     'uiAmountString': '922966112.367717'}},\n",
       "   {'accountIndex': 5,\n",
       "    'mint': 'So11111111111111111111111111111111111111112',\n",
       "    'owner': '5Q544fKrFoe6tsEbD7S8EmxGTJYAKtTVhAW5Q5pge4j1',\n",
       "    'programId': 'TokenkegQfeZyiNwAJbNbGKPFXCWuBvf9Ss623VQ5DA',\n",
       "    'uiTokenAmount': {'amount': '3018159013',\n",
       "     'decimals': 9,\n",
       "     'uiAmount': 3.018159013,\n",
       "     'uiAmountString': '3.018159013'}}],\n",
       "  'rewards': [],\n",
       "  'status': {'Ok': None}},\n",
       " 'slot': 339341826,\n",
       " 'transaction': {'message': {'accountKeys': [{'pubkey': '5KQd1VGnHBoAaxZWzckRbVZkGJPgFYoasNFjuDk4qBiZ',\n",
       "     'signer': True,\n",
       "     'source': 'transaction',\n",
       "     'writable': True},\n",
       "    {'pubkey': 'cZHUy5BkpWC1GHG9u1NDaAWN9EcRjX8JrSufbcGYUZx',\n",
       "     'signer': False,\n",
       "     'source': 'transaction',\n",
       "     'writable': True},\n",
       "    {'pubkey': 'G841JQVJ765nxfNoYKzp9gQjjYLQWQuqWPE7SomripN7',\n",
       "     'signer': False,\n",
       "     'source': 'transaction',\n",
       "     'writable': True},\n",
       "    {'pubkey': '98AL2e4opL4nXeSWEMgT7cmDUVRkdo2ed3LYKgukxvj1',\n",
       "     'signer': False,\n",
       "     'source': 'transaction',\n",
       "     'writable': True},\n",
       "    {'pubkey': '821mk2f4BkjQGziEQ8zDJcoueAnq9kTePHV4Voy3Nc2x',\n",
       "     'signer': False,\n",
       "     'source': 'transaction',\n",
       "     'writable': True},\n",
       "    {'pubkey': 'Y5ZmP7fNaAsUXBifuxhYnKQJTT83npZStQRW5fonLnV',\n",
       "     'signer': False,\n",
       "     'source': 'transaction',\n",
       "     'writable': True},\n",
       "    {'pubkey': 'F34kcgMgCF7mYWkwLN3WN7KrFprr2NbwxuLvXx4fbztj',\n",
       "     'signer': False,\n",
       "     'source': 'transaction',\n",
       "     'writable': True},\n",
       "    {'pubkey': 'CBaseyKvP47rQ73DQkjfYoCb757ZkWoKbABBY9hW3Eaf',\n",
       "     'signer': False,\n",
       "     'source': 'transaction',\n",
       "     'writable': True},\n",
       "    {'pubkey': 'ComputeBudget111111111111111111111111111111',\n",
       "     'signer': False,\n",
       "     'source': 'transaction',\n",
       "     'writable': False},\n",
       "    {'pubkey': 'jitodontfront1111111111111111111111111STBot',\n",
       "     'signer': False,\n",
       "     'source': 'transaction',\n",
       "     'writable': False},\n",
       "    {'pubkey': '11111111111111111111111111111111',\n",
       "     'signer': False,\n",
       "     'source': 'transaction',\n",
       "     'writable': False},\n",
       "    {'pubkey': 'TokenkegQfeZyiNwAJbNbGKPFXCWuBvf9Ss623VQ5DA',\n",
       "     'signer': False,\n",
       "     'source': 'transaction',\n",
       "     'writable': False},\n",
       "    {'pubkey': 'So11111111111111111111111111111111111111112',\n",
       "     'signer': False,\n",
       "     'source': 'transaction',\n",
       "     'writable': False},\n",
       "    {'pubkey': 'SysvarRent111111111111111111111111111111111',\n",
       "     'signer': False,\n",
       "     'source': 'transaction',\n",
       "     'writable': False},\n",
       "    {'pubkey': 'ATokenGPvbdGVxr1b2hvZbsiqW5xWH25efTNsLJA8knL',\n",
       "     'signer': False,\n",
       "     'source': 'transaction',\n",
       "     'writable': False},\n",
       "    {'pubkey': '6Bu6VAt1sQwaURGvE3p4kcLKXzfyAbMjhBQcDgkRZyvi',\n",
       "     'signer': False,\n",
       "     'source': 'transaction',\n",
       "     'writable': False},\n",
       "    {'pubkey': '675kPX9MHTjS2zt1qfr1NYHuzeLXfQM9H24wFSUt1Mp8',\n",
       "     'signer': False,\n",
       "     'source': 'transaction',\n",
       "     'writable': False},\n",
       "    {'pubkey': '5Q544fKrFoe6tsEbD7S8EmxGTJYAKtTVhAW5Q5pge4j1',\n",
       "     'signer': False,\n",
       "     'source': 'transaction',\n",
       "     'writable': False}],\n",
       "   'addressTableLookups': [],\n",
       "   'instructions': [{'accounts': [],\n",
       "     'data': '3duCQZaehwpK',\n",
       "     'programId': 'ComputeBudget111111111111111111111111111111',\n",
       "     'stackHeight': None},\n",
       "    {'accounts': ['jitodontfront1111111111111111111111111STBot'],\n",
       "     'data': 'Hfsi1D',\n",
       "     'programId': 'ComputeBudget111111111111111111111111111111',\n",
       "     'stackHeight': None},\n",
       "    {'parsed': {'info': {'base': '5KQd1VGnHBoAaxZWzckRbVZkGJPgFYoasNFjuDk4qBiZ',\n",
       "       'lamports': 15502039280,\n",
       "       'newAccount': 'cZHUy5BkpWC1GHG9u1NDaAWN9EcRjX8JrSufbcGYUZx',\n",
       "       'owner': 'TokenkegQfeZyiNwAJbNbGKPFXCWuBvf9Ss623VQ5DA',\n",
       "       'seed': '3wZwqpa6nCjx6Hk2S3ogxUdRqhydC4s7',\n",
       "       'source': '5KQd1VGnHBoAaxZWzckRbVZkGJPgFYoasNFjuDk4qBiZ',\n",
       "       'space': 165},\n",
       "      'type': 'createAccountWithSeed'},\n",
       "     'program': 'system',\n",
       "     'programId': '11111111111111111111111111111111',\n",
       "     'stackHeight': None},\n",
       "    {'parsed': {'info': {'account': 'cZHUy5BkpWC1GHG9u1NDaAWN9EcRjX8JrSufbcGYUZx',\n",
       "       'mint': 'So11111111111111111111111111111111111111112',\n",
       "       'owner': '5KQd1VGnHBoAaxZWzckRbVZkGJPgFYoasNFjuDk4qBiZ',\n",
       "       'rentSysvar': 'SysvarRent111111111111111111111111111111111'},\n",
       "      'type': 'initializeAccount'},\n",
       "     'program': 'spl-token',\n",
       "     'programId': 'TokenkegQfeZyiNwAJbNbGKPFXCWuBvf9Ss623VQ5DA',\n",
       "     'stackHeight': None},\n",
       "    {'parsed': {'info': {'account': 'G841JQVJ765nxfNoYKzp9gQjjYLQWQuqWPE7SomripN7',\n",
       "       'mint': '6Bu6VAt1sQwaURGvE3p4kcLKXzfyAbMjhBQcDgkRZyvi',\n",
       "       'source': '5KQd1VGnHBoAaxZWzckRbVZkGJPgFYoasNFjuDk4qBiZ',\n",
       "       'systemProgram': '11111111111111111111111111111111',\n",
       "       'tokenProgram': 'TokenkegQfeZyiNwAJbNbGKPFXCWuBvf9Ss623VQ5DA',\n",
       "       'wallet': '5KQd1VGnHBoAaxZWzckRbVZkGJPgFYoasNFjuDk4qBiZ'},\n",
       "      'type': 'createIdempotent'},\n",
       "     'program': 'spl-associated-token-account',\n",
       "     'programId': 'ATokenGPvbdGVxr1b2hvZbsiqW5xWH25efTNsLJA8knL',\n",
       "     'stackHeight': None},\n",
       "    {'accounts': ['TokenkegQfeZyiNwAJbNbGKPFXCWuBvf9Ss623VQ5DA',\n",
       "      '98AL2e4opL4nXeSWEMgT7cmDUVRkdo2ed3LYKgukxvj1',\n",
       "      '5Q544fKrFoe6tsEbD7S8EmxGTJYAKtTVhAW5Q5pge4j1',\n",
       "      '98AL2e4opL4nXeSWEMgT7cmDUVRkdo2ed3LYKgukxvj1',\n",
       "      '98AL2e4opL4nXeSWEMgT7cmDUVRkdo2ed3LYKgukxvj1',\n",
       "      '821mk2f4BkjQGziEQ8zDJcoueAnq9kTePHV4Voy3Nc2x',\n",
       "      'Y5ZmP7fNaAsUXBifuxhYnKQJTT83npZStQRW5fonLnV',\n",
       "      '98AL2e4opL4nXeSWEMgT7cmDUVRkdo2ed3LYKgukxvj1',\n",
       "      '98AL2e4opL4nXeSWEMgT7cmDUVRkdo2ed3LYKgukxvj1',\n",
       "      '98AL2e4opL4nXeSWEMgT7cmDUVRkdo2ed3LYKgukxvj1',\n",
       "      '98AL2e4opL4nXeSWEMgT7cmDUVRkdo2ed3LYKgukxvj1',\n",
       "      '98AL2e4opL4nXeSWEMgT7cmDUVRkdo2ed3LYKgukxvj1',\n",
       "      '98AL2e4opL4nXeSWEMgT7cmDUVRkdo2ed3LYKgukxvj1',\n",
       "      '98AL2e4opL4nXeSWEMgT7cmDUVRkdo2ed3LYKgukxvj1',\n",
       "      '98AL2e4opL4nXeSWEMgT7cmDUVRkdo2ed3LYKgukxvj1',\n",
       "      'cZHUy5BkpWC1GHG9u1NDaAWN9EcRjX8JrSufbcGYUZx',\n",
       "      'G841JQVJ765nxfNoYKzp9gQjjYLQWQuqWPE7SomripN7',\n",
       "      '5KQd1VGnHBoAaxZWzckRbVZkGJPgFYoasNFjuDk4qBiZ'],\n",
       "     'data': '5uY8CbmeN6dYGT67bbako9q',\n",
       "     'programId': '675kPX9MHTjS2zt1qfr1NYHuzeLXfQM9H24wFSUt1Mp8',\n",
       "     'stackHeight': None},\n",
       "    {'parsed': {'info': {'account': 'cZHUy5BkpWC1GHG9u1NDaAWN9EcRjX8JrSufbcGYUZx',\n",
       "       'destination': '5KQd1VGnHBoAaxZWzckRbVZkGJPgFYoasNFjuDk4qBiZ',\n",
       "       'owner': '5KQd1VGnHBoAaxZWzckRbVZkGJPgFYoasNFjuDk4qBiZ'},\n",
       "      'type': 'closeAccount'},\n",
       "     'program': 'spl-token',\n",
       "     'programId': 'TokenkegQfeZyiNwAJbNbGKPFXCWuBvf9Ss623VQ5DA',\n",
       "     'stackHeight': None},\n",
       "    {'parsed': {'info': {'destination': 'F34kcgMgCF7mYWkwLN3WN7KrFprr2NbwxuLvXx4fbztj',\n",
       "       'lamports': 155000000,\n",
       "       'source': '5KQd1VGnHBoAaxZWzckRbVZkGJPgFYoasNFjuDk4qBiZ'},\n",
       "      'type': 'transfer'},\n",
       "     'program': 'system',\n",
       "     'programId': '11111111111111111111111111111111',\n",
       "     'stackHeight': None},\n",
       "    {'parsed': {'info': {'destination': 'CBaseyKvP47rQ73DQkjfYoCb757ZkWoKbABBY9hW3Eaf',\n",
       "       'lamports': 6000000,\n",
       "       'source': '5KQd1VGnHBoAaxZWzckRbVZkGJPgFYoasNFjuDk4qBiZ'},\n",
       "      'type': 'transfer'},\n",
       "     'program': 'system',\n",
       "     'programId': '11111111111111111111111111111111',\n",
       "     'stackHeight': None}],\n",
       "   'recentBlockhash': 'CfQmhzQVnXZfLV7PHx5PBM78zHWzsJfy6dHeMXeEbuPj'},\n",
       "  'signatures': ['56VJonrVVJmkwzEp5axNJuuxrwkXEmjZa1CoD1WbW3oPe6FHuG4NXcSrA25mHUg4pZDDQ785j8wkggW6LKMBxbed']},\n",
       " 'version': 0}"
      ]
     },
     "execution_count": 46,
     "metadata": {},
     "output_type": "execute_result"
    }
   ],
   "source": [
    "swap_data"
   ]
  },
  {
   "cell_type": "code",
   "execution_count": 67,
   "id": "78e5880e",
   "metadata": {},
   "outputs": [
    {
     "data": {
      "text/plain": [
       "2.8273866923818707"
      ]
     },
     "execution_count": 67,
     "metadata": {},
     "output_type": "execute_result"
    }
   ],
   "source": [
    "2932/1037"
   ]
  },
  {
   "cell_type": "code",
   "execution_count": 69,
   "id": "51bc5d16",
   "metadata": {},
   "outputs": [],
   "source": [
    "base_phrase = os.getenv(\"SOLANA_MEME_PUMP_BASE\")\n",
    "trade_phrase = os.getenv(\"SOLANA_MEME_PUMP_TRADE\")\n",
    "BASE_IDX = 0\n",
    "base_bot_address = get_wallet_address(\n",
    "    wallet_type=WalletType.BOT, mnemonic_phrase=base_phrase, wallet_idx=BASE_IDX\n",
    ")"
   ]
  },
  {
   "cell_type": "code",
   "execution_count": 70,
   "id": "1960931e",
   "metadata": {},
   "outputs": [
    {
     "data": {
      "text/plain": [
       "'3cSvQygypScaJb2bJHfdzXwwWmayvNin37Go8AkSTysS'"
      ]
     },
     "execution_count": 70,
     "metadata": {},
     "output_type": "execute_result"
    }
   ],
   "source": [
    "base_bot_address"
   ]
  },
  {
   "cell_type": "code",
   "execution_count": 71,
   "id": "da7057d9",
   "metadata": {},
   "outputs": [
    {
     "data": {
      "text/plain": [
       "1.3378138473243724"
      ]
     },
     "execution_count": 71,
     "metadata": {},
     "output_type": "execute_result"
    }
   ],
   "source": [
    "1055/788.6"
   ]
  },
  {
   "cell_type": "code",
   "execution_count": null,
   "id": "2ecf73c8",
   "metadata": {},
   "outputs": [],
   "source": []
  }
 ],
 "metadata": {
  "kernelspec": {
   "display_name": "venv",
   "language": "python",
   "name": "python3"
  },
  "language_info": {
   "codemirror_mode": {
    "name": "ipython",
    "version": 3
   },
   "file_extension": ".py",
   "mimetype": "text/x-python",
   "name": "python",
   "nbconvert_exporter": "python",
   "pygments_lexer": "ipython3",
   "version": "3.13.2"
  }
 },
 "nbformat": 4,
 "nbformat_minor": 5
}
