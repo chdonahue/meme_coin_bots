{
 "cells": [
  {
   "cell_type": "markdown",
   "id": "0979bb05",
   "metadata": {},
   "source": [
    "### Transferring SOL:"
   ]
  },
  {
   "cell_type": "code",
   "execution_count": 1,
   "id": "b3c5ca32",
   "metadata": {},
   "outputs": [],
   "source": [
    "%load_ext autoreload\n",
    "%autoreload 2"
   ]
  },
  {
   "cell_type": "markdown",
   "id": "d132cf10",
   "metadata": {},
   "source": []
  },
  {
   "cell_type": "code",
   "execution_count": 2,
   "id": "38d91498",
   "metadata": {},
   "outputs": [],
   "source": [
    "from src.blockchain import transfer_sol, convert_to_base_unit, get_wallet_contents\n",
    "from src.wallet_secrets import get_wallet_keypair, get_wallet_address, WalletType\n",
    "from src.token_addresses import SOL, USDC\n",
    "from dotenv import load_dotenv\n",
    "import os"
   ]
  },
  {
   "cell_type": "code",
   "execution_count": null,
   "id": "29c4a560",
   "metadata": {},
   "outputs": [],
   "source": []
  },
  {
   "cell_type": "code",
   "execution_count": 18,
   "id": "f765e834",
   "metadata": {},
   "outputs": [
    {
     "name": "stdout",
     "output_type": "stream",
     "text": [
      "Trade wallet 8TRipPeB91R8uuajGBzEgcoBZu2dp53JCDyayjQAcsd4 -> Base wallet 3cSvQygypScaJb2bJHfdzXwwWmayvNin37Go8AkSTysS\n"
     ]
    }
   ],
   "source": [
    "# For this example, I will transfer SOL from my TRADE wallet back to my base wallet for Bot #0\n",
    "\n",
    "BOT_IDX = 0 # Bot #0\n",
    "# First, get the address and keypair for the base wallet:\n",
    "load_dotenv()\n",
    "base_mnemonic = os.getenv(\"SOLANA_MEME_PUMP_BASE\")\n",
    "base_keypair = get_wallet_keypair(WalletType.BOT, base_mnemonic, wallet_idx=BOT_IDX) \n",
    "base_address = get_wallet_address(WalletType.BOT, base_mnemonic, wallet_idx=BOT_IDX)\n",
    "trade_mnemonic = os.getenv(\"SOLANA_MEME_PUMP_TRADE\")\n",
    "trade_keypair = get_wallet_keypair(WalletType.BOT, trade_mnemonic, wallet_idx=BOT_IDX) \n",
    "trade_address = get_wallet_address(WalletType.BOT, trade_mnemonic, wallet_idx=BOT_IDX)\n",
    "\n",
    "print(f\"Trade wallet {trade_address} -> Base wallet {base_address}\")"
   ]
  },
  {
   "cell_type": "code",
   "execution_count": 19,
   "id": "fc5bce9a",
   "metadata": {},
   "outputs": [
    {
     "data": {
      "text/plain": [
       "{'So11111111111111111111111111111111111111112': {'mint': 'So11111111111111111111111111111111111111112',\n",
       "  'raw_amount': 4995000,\n",
       "  'amount': 0.004995,\n",
       "  'decimals': 9,\n",
       "  'name': 'Solana',\n",
       "  'symbol': 'SOL'}}"
      ]
     },
     "execution_count": 19,
     "metadata": {},
     "output_type": "execute_result"
    }
   ],
   "source": [
    "# Let's first make sure we have enough SOL:\n",
    "wallet_contents = await get_wallet_contents(trade_address)\n",
    "wallet_contents"
   ]
  },
  {
   "cell_type": "code",
   "execution_count": 17,
   "id": "0e84c3bb",
   "metadata": {},
   "outputs": [
    {
     "data": {
      "text/plain": [
       "0"
      ]
     },
     "execution_count": 17,
     "metadata": {},
     "output_type": "execute_result"
    }
   ],
   "source": [
    "available_SOL = wallet_contents.get(SOL, {}).get('raw_amount', 0)\n",
    "available_SOL"
   ]
  },
  {
   "cell_type": "code",
   "execution_count": 7,
   "id": "13eeb2fd",
   "metadata": {},
   "outputs": [
    {
     "name": "stdout",
     "output_type": "stream",
     "text": [
      "Amount of lamports to trade: 144995002\n"
     ]
    }
   ],
   "source": [
    "amount_to_trade = available_SOL - 5_000_000 # You MUST leave enough residual SOL to rent the wallet\n",
    "print(f\"Amount of lamports to trade: {amount_to_trade}\")"
   ]
  },
  {
   "cell_type": "code",
   "execution_count": 8,
   "id": "8dca62eb",
   "metadata": {},
   "outputs": [
    {
     "name": "stdout",
     "output_type": "stream",
     "text": [
      "3b6cZ3oiH6akwzjmjmvX44etSP4jLELKNM5BeQo4qT59iwiDzFNUL8Q7hLt5SHhYtzzn6oYFTQcSWaXCbhxFZ6cd\n"
     ]
    }
   ],
   "source": [
    "signature = await transfer_sol(sender_keypair=trade_keypair, recipient_address=base_address, amount_lamports=amount_to_trade)\n",
    "print(signature)"
   ]
  },
  {
   "cell_type": "code",
   "execution_count": null,
   "id": "cd3c1fc7",
   "metadata": {},
   "outputs": [],
   "source": []
  }
 ],
 "metadata": {
  "kernelspec": {
   "display_name": "venv",
   "language": "python",
   "name": "python3"
  },
  "language_info": {
   "codemirror_mode": {
    "name": "ipython",
    "version": 3
   },
   "file_extension": ".py",
   "mimetype": "text/x-python",
   "name": "python",
   "nbconvert_exporter": "python",
   "pygments_lexer": "ipython3",
   "version": "3.13.2"
  }
 },
 "nbformat": 4,
 "nbformat_minor": 5
}
