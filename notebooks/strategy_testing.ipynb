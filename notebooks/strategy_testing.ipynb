{
 "cells": [
  {
   "cell_type": "markdown",
   "id": "6f570f7c",
   "metadata": {},
   "source": [
    "# Strategy Testing Notebook:\n",
    "- Show how to build a strategy for a bot with the given tools"
   ]
  },
  {
   "cell_type": "code",
   "execution_count": 1,
   "id": "b9ce6db9",
   "metadata": {},
   "outputs": [],
   "source": [
    "%load_ext autoreload\n",
    "%autoreload 2"
   ]
  },
  {
   "cell_type": "code",
   "execution_count": null,
   "id": "80bc3c6e",
   "metadata": {},
   "outputs": [
    {
     "data": {
      "text/plain": [
       "True"
      ]
     },
     "execution_count": 2,
     "metadata": {},
     "output_type": "execute_result"
    }
   ],
   "source": [
    "import os\n",
    "from dotenv import load_dotenv\n",
    "# from base58 import b58decode, b58encode\n",
    "# from solders.keypair import Keypair\n",
    "from src.wallet_secrets import WalletType, get_wallet_keypair, get_wallet_address\n",
    "load_dotenv()"
   ]
  },
  {
   "cell_type": "markdown",
   "id": "8cb226b6",
   "metadata": {},
   "source": [
    "### This is how you can access a BOT wallet or the TEST wallet"
   ]
  },
  {
   "cell_type": "markdown",
   "id": "49a1b635",
   "metadata": {},
   "source": [
    "**First, let's see how we can get the keypair and address of the test wallet**"
   ]
  },
  {
   "cell_type": "code",
   "execution_count": 4,
   "id": "22b1950a",
   "metadata": {},
   "outputs": [
    {
     "name": "stdout",
     "output_type": "stream",
     "text": [
      "FXLLEYZBnN1y7FvHYWQzkviY45whLKPrZhcqkE1H91Gj\n"
     ]
    },
    {
     "data": {
      "text/plain": [
       "Keypair(\n",
       "    Keypair(\n",
       "        Keypair {\n",
       "            secret: SecretKey: [163, 205, 44, 144, 143, 107, 11, 105, 133, 150, 86, 226, 182, 173, 45, 113, 1, 44, 162, 204, 192, 98, 34, 236, 219, 69, 5, 211, 142, 4, 216, 213],\n",
       "            public: PublicKey(CompressedEdwardsY: [215, 200, 230, 73, 228, 34, 71, 0, 109, 108, 197, 77, 114, 241, 174, 50, 178, 229, 107, 196, 54, 25, 34, 159, 110, 205, 165, 31, 90, 198, 136, 144]), EdwardsPoint{\n",
       "            \tX: FieldElement51([1914919844620725, 2179309374388822, 1727417420568259, 1185463548312340, 1290133508048533]),\n",
       "            \tY: FieldElement51([1436950764349659, 608928743183568, 1868644109769744, 1165551264518848, 806802150277536]),\n",
       "            \tZ: FieldElement51([2180005296005430, 459116272842822, 2176727863500082, 1940661337086033, 1925867013892856]),\n",
       "            \tT: FieldElement51([1854147086992677, 72543002924371, 474890875447518, 1787255721513905, 2079359122302473])\n",
       "            }),\n",
       "        },\n",
       "    ),\n",
       ")"
      ]
     },
     "execution_count": 4,
     "metadata": {},
     "output_type": "execute_result"
    }
   ],
   "source": [
    "TEST_KEYPAIR = get_wallet_keypair(wallet_type=WalletType.TEST) # Using my test wallet\n",
    "TEST_ADDRESS = get_wallet_address(wallet_type=WalletType.TEST)\n",
    "print(TEST_ADDRESS)\n",
    "TEST_KEYPAIR"
   ]
  },
  {
   "cell_type": "markdown",
   "id": "09907958",
   "metadata": {},
   "source": [
    "**This is how you can grab the same information for a BOT wallet**\n",
    "- BOT wallets are generated from mnemonic phrases which are defined for each bot in the .env file\n",
    "- They are indexed so that one can cycle through a family of bots"
   ]
  },
  {
   "cell_type": "code",
   "execution_count": 5,
   "id": "74bcf3a1",
   "metadata": {},
   "outputs": [
    {
     "name": "stdout",
     "output_type": "stream",
     "text": [
      "3cSvQygypScaJb2bJHfdzXwwWmayvNin37Go8AkSTysS\n"
     ]
    },
    {
     "data": {
      "text/plain": [
       "Keypair(\n",
       "    Keypair(\n",
       "        Keypair {\n",
       "            secret: SecretKey: [215, 136, 101, 71, 88, 56, 88, 32, 92, 195, 132, 130, 27, 103, 114, 177, 101, 180, 36, 188, 47, 223, 145, 137, 18, 217, 145, 215, 13, 123, 226, 216],\n",
       "            public: PublicKey(CompressedEdwardsY: [38, 204, 2, 212, 25, 32, 208, 159, 50, 14, 40, 147, 225, 185, 105, 118, 11, 219, 25, 59, 58, 254, 48, 164, 232, 158, 131, 91, 24, 85, 169, 141]), EdwardsPoint{\n",
       "            \tX: FieldElement51([1157728019509188, 1798327706865515, 700887195282386, 1682449314458274, 1681160624324085]),\n",
       "            \tY: FieldElement51([472878197924531, 364206158085478, 258542491625091, 787668083163579, 1458585656269343]),\n",
       "            \tZ: FieldElement51([1890985996791729, 956016166014786, 1446952460705597, 972069621892651, 120404005465080]),\n",
       "            \tT: FieldElement51([289445083750276, 1923509827852016, 2030607341472612, 1418877146886686, 833754886059551])\n",
       "            }),\n",
       "        },\n",
       "    ),\n",
       ")"
      ]
     },
     "execution_count": 5,
     "metadata": {},
     "output_type": "execute_result"
    }
   ],
   "source": [
    "BOT_IDX = 0 \n",
    "phrase = os.getenv(\"SOLANA_MEME_PUMP_BASE\")\n",
    "BOT_ADDRESS = get_wallet_address(wallet_type=WalletType.BOT, mnemonic_phrase=phrase, wallet_idx = BOT_IDX)\n",
    "BOT_KEYPAIR = get_wallet_keypair(wallet_type=WalletType.BOT, mnemonic_phrase=phrase, wallet_idx = BOT_IDX)\n",
    "print(BOT_ADDRESS)\n",
    "BOT_KEYPAIR"
   ]
  },
  {
   "cell_type": "markdown",
   "id": "6de21840",
   "metadata": {},
   "source": [
    "### Next, let's define some utility functions that will \n",
    "- In test wallet, trade tiny bit of SOL for USDC (auto_swap, must confirm)\n",
    "- Next, monitor change in exchange rate (poll interval, total interval)\n",
    "- If conditions met, swap back\n",
    "\n",
    "- CAN THIS BE generalized? Including all arbitrary exit conditions"
   ]
  },
  {
   "cell_type": "code",
   "execution_count": null,
   "id": "5c90bc86",
   "metadata": {},
   "outputs": [],
   "source": [
    "from src.pump_bot_tracker.token_addresses import SOL, USDC\n",
    "from src.pump_bot_tracker.strategy import get_percent_change, ExitRules\n",
    "from src.pump_bot_tracker.blockchain import get_jupiter_quote\n",
    "input_mint = SOL\n",
    "output_mint = USDC\n",
    "amount = int(1e6)\n",
    "quote = await get_jupiter_quote(input_mint, output_mint, amount)\n"
   ]
  },
  {
   "cell_type": "code",
   "execution_count": null,
   "id": "700d1add",
   "metadata": {},
   "outputs": [],
   "source": []
  },
  {
   "cell_type": "code",
   "execution_count": null,
   "id": "50aa134b",
   "metadata": {},
   "outputs": [],
   "source": []
  },
  {
   "cell_type": "code",
   "execution_count": null,
   "id": "5278fead",
   "metadata": {},
   "outputs": [],
   "source": [
    "# import time, asyncio\n",
    "# async def poll_until_exit(rules: ExitRules, input_mint: str, output_mint: str, entry_quote: dict):\n",
    "#     \"\"\"  \n",
    "#     Polls until exiting \n",
    "#     NOTE: THIS NEEDS AN ASYNC\n",
    "#     \"\"\"\n",
    "#     t0 = time.monotonic()\n",
    "#     sold_half = False\n",
    "\n",
    "#     while True:\n",
    "#         await asyncio.sleep(rules.polling_interval)\n",
    "#         now = time.monotonic()\n",
    "#         elapsed = now - t0\n",
    "#         new_quote = await get_jupiter_quote(input_mint, output_mint, amount)\n",
    "#         pct_change = get_percent_change(entry_quote, new_quote)\n",
    "#         print(elapsed, pct_change)\n",
    "\n",
    "#         # EVALUATE RULES:\n",
    "#         if pct_change <= rules.stop_out_at:\n",
    "#             yield \"sell_all\"\n",
    "#             return\n",
    "#         if not sold_half and pct_change >= rules.take_half_at:\n",
    "#             sold_half = True\n",
    "#             yield \"sell_half\"\n",
    "#         if pct_change >= rules.take_all_at:\n",
    "#             yield \"sell_all\"\n",
    "#             return\n",
    "#         if elapsed >= rules.max_duration_s:\n",
    "#             yield \"sell_all\"\n",
    "#             return"
   ]
  },
  {
   "cell_type": "code",
   "execution_count": null,
   "id": "23a25971",
   "metadata": {},
   "outputs": [],
   "source": [
    "# from src.pump_bot_tracker.blockchain import execute_transaction, get_swap_transaction\n",
    "# USE THE TEST WALLET HERE\n"
   ]
  },
  {
   "cell_type": "code",
   "execution_count": null,
   "id": "edfcb044",
   "metadata": {},
   "outputs": [],
   "source": [
    "# async def swap_tokens(input_mint, output_mint, amount, user_keypair, slippage_bps, prioritization_fee) -> dict:\n",
    "#     \"\"\" \n",
    "#     Function to do a single swap\n",
    "#     \"\"\"\n",
    "#     transaction_dict = {}\n",
    "#     try:\n",
    "#         quote = await get_jupiter_quote(input_mint, output_mint, amount, slippage_bps)\n",
    "#         tx_data = await get_swap_transaction(quote, user_keypair, prioritization_fee)\n",
    "#         serialized_tx = tx_data[\"swapTransaction\"]\n",
    "#         signature = await execute_transaction(serialized_tx, user_keypair)\n",
    "#         if not signature:\n",
    "#             print(\"❌ Preflight failed\")\n",
    "#             return None\n",
    "#     except Exception as e:\n",
    "#         print(f\"[Error] Transaction build/execute failed: {e}\")\n",
    "#     transaction_dict['signature'] = signature\n",
    "#     transaction_dict['quote'] = quote\n",
    "#     return transaction_dict"
   ]
  },
  {
   "cell_type": "code",
   "execution_count": 16,
   "id": "67e30945",
   "metadata": {},
   "outputs": [
    {
     "data": {
      "text/plain": [
       "Keypair(\n",
       "    Keypair(\n",
       "        Keypair {\n",
       "            secret: SecretKey: [163, 205, 44, 144, 143, 107, 11, 105, 133, 150, 86, 226, 182, 173, 45, 113, 1, 44, 162, 204, 192, 98, 34, 236, 219, 69, 5, 211, 142, 4, 216, 213],\n",
       "            public: PublicKey(CompressedEdwardsY: [215, 200, 230, 73, 228, 34, 71, 0, 109, 108, 197, 77, 114, 241, 174, 50, 178, 229, 107, 196, 54, 25, 34, 159, 110, 205, 165, 31, 90, 198, 136, 144]), EdwardsPoint{\n",
       "            \tX: FieldElement51([1914919844620725, 2179309374388822, 1727417420568259, 1185463548312340, 1290133508048533]),\n",
       "            \tY: FieldElement51([1436950764349659, 608928743183568, 1868644109769744, 1165551264518848, 806802150277536]),\n",
       "            \tZ: FieldElement51([2180005296005430, 459116272842822, 2176727863500082, 1940661337086033, 1925867013892856]),\n",
       "            \tT: FieldElement51([1854147086992677, 72543002924371, 474890875447518, 1787255721513905, 2079359122302473])\n",
       "            }),\n",
       "        },\n",
       "    ),\n",
       ")"
      ]
     },
     "execution_count": 16,
     "metadata": {},
     "output_type": "execute_result"
    }
   ],
   "source": [
    "from src.pump_bot_tracker.wallet_secrets import get_wallet_keypair, WalletType\n",
    "get_wallet_keypair(WalletType.TEST)"
   ]
  },
  {
   "cell_type": "code",
   "execution_count": 17,
   "id": "7d716a59",
   "metadata": {},
   "outputs": [
    {
     "name": "stdout",
     "output_type": "stream",
     "text": [
      "Transaction submitted: 2H2i6WqyfAJiFwFPYrwiuQRF9dsnTNUgRcdUCQv428VbnsvJngkovJgmHRx9DYqMkwUR5z2yuhtCHrkr94cfUYLc\n"
     ]
    },
    {
     "data": {
      "text/plain": [
       "{'inputMint': 'So11111111111111111111111111111111111111112',\n",
       " 'inAmount': '1000000',\n",
       " 'outputMint': 'EPjFWdd5AufqSSqeM2qN1xzybapC8G4wEGGkZwyTDt1v',\n",
       " 'outAmount': '144216',\n",
       " 'otherAmountThreshold': '142774',\n",
       " 'swapMode': 'ExactIn',\n",
       " 'slippageBps': 100,\n",
       " 'platformFee': None,\n",
       " 'priceImpactPct': '0',\n",
       " 'routePlan': [{'swapInfo': {'ammKey': '2L47gbUzGsnJZqRzfny4b3VWvKBnMRTMeNH3uzFrj6ko',\n",
       "    'label': 'Meteora DLMM',\n",
       "    'inputMint': 'So11111111111111111111111111111111111111112',\n",
       "    'outputMint': 'EPjFWdd5AufqSSqeM2qN1xzybapC8G4wEGGkZwyTDt1v',\n",
       "    'inAmount': '1000000',\n",
       "    'outAmount': '144216',\n",
       "    'feeAmount': '175',\n",
       "    'feeMint': 'So11111111111111111111111111111111111111112'},\n",
       "   'percent': 100}],\n",
       " 'scoreReport': None,\n",
       " 'contextSlot': 338291303,\n",
       " 'timeTaken': 0.001488354,\n",
       " 'swapUsdValue': '0.1440538558593084763795324709',\n",
       " 'simplerRouteUsed': False,\n",
       " 'mostReliableAmmsQuoteReport': {'info': {'Czfq3xZZDmsdGdUyrNLtRhGc47cXcZtLG4crryfu44zE': '144060',\n",
       "   'BZtgQEyS6eXUXicYPHecYQ7PybqodXQMvkjUbP4R8mUU': '144170'}},\n",
       " 'useIncurredSlippageForQuoting': None}"
      ]
     },
     "execution_count": 17,
     "metadata": {},
     "output_type": "execute_result"
    }
   ],
   "source": [
    "from src.pump_bot_tracker.blockchain import convert_to_base_unit, get_wallet_contents\n",
    "from src.pump_bot_tracker.wallet_secrets import get_wallet_address\n",
    "AMOUNT_SOL = 0.001\n",
    "wallet_keypair = get_wallet_keypair(WalletType.TEST)\n",
    "input_mint = SOL_ADDRESS\n",
    "output_mint = \"EPjFWdd5AufqSSqeM2qN1xzybapC8G4wEGGkZwyTDt1v\"\n",
    "amount = convert_to_base_unit(input_mint, AMOUNT_SOL)\n",
    "slippage_bps = 100\n",
    "prioritization_fee = 30000\n",
    "transaction_dict = await swap_tokens(input_mint, output_mint, amount, wallet_keypair, slippage_bps, prioritization_fee)\n",
    "transaction_dict['quote']"
   ]
  },
  {
   "cell_type": "code",
   "execution_count": null,
   "id": "2bfb3e6f",
   "metadata": {},
   "outputs": [
    {
     "data": {
      "text/plain": [
       "{'SOL': {'mint': 'SOL',\n",
       "  'raw_amount': 63518888,\n",
       "  'amount': 0.063518888,\n",
       "  'decimals': 9,\n",
       "  'name': 'Solana',\n",
       "  'symbol': 'SOL'},\n",
       " 'BxMZLMzVKsGJAdEN3sqsHmHqFeTbhLYZamiVuEQCpump': {'mint': 'BxMZLMzVKsGJAdEN3sqsHmHqFeTbhLYZamiVuEQCpump',\n",
       "  'raw_amount': 27123036813,\n",
       "  'amount': 27123.036813,\n",
       "  'decimals': 6,\n",
       "  'name': 'Kanye West Token',\n",
       "  'symbol': 'KYT'},\n",
       " 'EPjFWdd5AufqSSqeM2qN1xzybapC8G4wEGGkZwyTDt1v': {'mint': 'EPjFWdd5AufqSSqeM2qN1xzybapC8G4wEGGkZwyTDt1v',\n",
       "  'raw_amount': 19893250,\n",
       "  'amount': 19.89325,\n",
       "  'decimals': 6,\n",
       "  'name': 'USD Coin',\n",
       "  'symbol': 'USDC'}}"
      ]
     },
     "execution_count": 18,
     "metadata": {},
     "output_type": "execute_result"
    }
   ],
   "source": [
    "wallet_address = get_wallet_address(WalletType.TEST)\n",
    "await get_wallet_contents(wallet_address)\n",
    "# wallet_address\n"
   ]
  },
  {
   "cell_type": "markdown",
   "id": "332b1a43",
   "metadata": {},
   "source": [
    "### Now define the strategy\n",
    "- This should be defined in the respective scripts that run each strategy"
   ]
  },
  {
   "cell_type": "code",
   "execution_count": 28,
   "id": "f85b5c16",
   "metadata": {},
   "outputs": [],
   "source": [
    "from src.pump_bot_tracker.blockchain import swap_tokens, convert_to_base_unit, get_wallet_contents\n",
    "from src.pump_bot_tracker.strategy import ExitRules, poll_until_exit\n",
    "\n",
    "exit_rules = ExitRules(\n",
    "    max_duration_s=30, #600, # 10 minutes\n",
    "    take_half_at=0.005, # 50% gain\n",
    "    take_all_at=300,\n",
    "    stop_out_at=-50,\n",
    "    polling_interval=5\n",
    ")\n",
    "WALLET_ADDRESS = get_wallet_address(WalletType.TEST)\n",
    "WALLET_KEYPAIR = get_wallet_keypair(WalletType.TEST)\n",
    "SLIPPAGE_BPS = 10000 # for exiting\n",
    "PRIORITIZATION_FEE = 100000 # on the high side\n",
    "INPUT_MINT = SOL\n",
    "OUTPUT_MINT = USDC\n",
    "MAX_SOL = 0.01 # also get it from commandline like so: amount_sol = min(args.amount_sol, MAX_SOL) - 0.001 # Save a bit of SOL in case\n",
    "BOT_IDX = 0\n",
    "amount_sol = MAX_SOL-0.001\n",
    "AMOUNT_LAMPORTS = convert_to_base_unit(SOL, amount=amount_sol)"
   ]
  },
  {
   "cell_type": "code",
   "execution_count": 29,
   "id": "1b2d2b5d",
   "metadata": {},
   "outputs": [
    {
     "data": {
      "text/plain": [
       "'FXLLEYZBnN1y7FvHYWQzkviY45whLKPrZhcqkE1H91Gj'"
      ]
     },
     "execution_count": 29,
     "metadata": {},
     "output_type": "execute_result"
    }
   ],
   "source": [
    "WALLET_ADDRESS"
   ]
  },
  {
   "cell_type": "code",
   "execution_count": 34,
   "id": "084a4cfa",
   "metadata": {},
   "outputs": [],
   "source": [
    "async def run_strategy(exit_rules):\n",
    "    \"\"\" \n",
    "    This simply goes from SOL to TOKEN then BACK TO SOL\n",
    "    \"\"\"\n",
    "    # WILL SEND SOL from BASE wallet TO TRADE WALLET HERE:\n",
    "\n",
    "\n",
    "    # MAKE INITIAL SWAP INTO TOKEN (SOL -> TOKEN)\n",
    "    transaction_info = await swap_tokens(INPUT_MINT, OUTPUT_MINT, AMOUNT_LAMPORTS, WALLET_KEYPAIR, SLIPPAGE_BPS, PRIORITIZATION_FEE)\n",
    "\n",
    "    # NOW START POLLING STRATEGY\n",
    "    entry_quote = transaction_info['quote']\n",
    "    async for event in poll_until_exit(exit_rules, \n",
    "                                   INPUT_MINT, # note this is the correct order since this is about getting the quote and % change\n",
    "                                   OUTPUT_MINT,\n",
    "                                   entry_quote):\n",
    "        print(f\"Event Detected: {event}\")\n",
    "        if event == \"sell_half\":\n",
    "            wallet_contents = await get_wallet_contents(wallet_address)\n",
    "            exit_amount = wallet_contents[output_mint][\"raw_amount\"] // 2\n",
    "            await swap_tokens(OUTPUT_MINT, INPUT_MINT, exit_amount, WALLET_KEYPAIR, slippage_bps=SLIPPAGE_BPS, prioritization_fee = PRIORITIZATION_FEE)\n",
    "        wallet_contents = await get_wallet_contents(WALLET_ADDRESS)\n",
    "        exit_amount = wallet_contents[OUTPUT_MINT][\"raw_amount\"] # FULL AMOUNT\n",
    "        await swap_tokens(OUTPUT_MINT, INPUT_MINT, exit_amount, WALLET_KEYPAIR, slippage_bps=SLIPPAGE_BPS, prioritization_fee = PRIORITIZATION_FEE)\n",
    "\n",
    "    # Strategy should send back to base wallet here:\n"
   ]
  },
  {
   "cell_type": "code",
   "execution_count": 35,
   "id": "1a42228d",
   "metadata": {},
   "outputs": [
    {
     "name": "stdout",
     "output_type": "stream",
     "text": [
      "Transaction submitted: fidcrwyjxpZXK2yUJx9JpszQ9epEwR5uKMb3khecGAwvHocAwiSdR5wvPPkMjtALohGrgvA9FBDGcvhBKN3WiJh\n",
      "Time Elapsed: 5.0s, Change: -0.052\n",
      "Time Elapsed: 10.24s, Change: -0.052\n",
      "Time Elapsed: 15.5s, Change: -0.021\n",
      "Time Elapsed: 20.75s, Change: -0.017\n",
      "Time Elapsed: 26.01s, Change: -0.021\n",
      "Time Elapsed: 31.26s, Change: -0.09\n",
      "Event Detected: sell_all\n",
      "Transaction submitted: 9zfG2ktqFmdw4VfjHr8U43bwmMBUcu4RB6Z1orob4ykfkgkrFL2AyC7NTUob2jQHA6PVwTphNZ7CCGnE7G9iPS5\n"
     ]
    }
   ],
   "source": [
    "await run_strategy(exit_rules)\n"
   ]
  },
  {
   "cell_type": "code",
   "execution_count": 46,
   "id": "4f4c9b04",
   "metadata": {},
   "outputs": [
    {
     "data": {
      "text/plain": [
       "'EPjFWdd5AufqSSqeM2qN1xzybapC8G4wEGGkZwyTDt1v'"
      ]
     },
     "execution_count": 46,
     "metadata": {},
     "output_type": "execute_result"
    }
   ],
   "source": [
    "USDC"
   ]
  },
  {
   "cell_type": "code",
   "execution_count": null,
   "id": "9d61c8b5",
   "metadata": {},
   "outputs": [],
   "source": []
  },
  {
   "cell_type": "code",
   "execution_count": null,
   "id": "c6cbe087",
   "metadata": {},
   "outputs": [],
   "source": [
    "\n",
    "params = {}\n",
    "params['input_mint'] = input_mint # SOL\n",
    "params['output_mint'] = output_mint # USDC\n",
    "\n",
    "# NEED TO GET PROPER AMOUNT FROM WALLET QUERY\n",
    "async def run_strategy(params, exit_rules):\n",
    "    transaction_info = await swap_tokens(input_mint, output_mint, amount, wallet_keypair, slippage_bps, prioritization_fee)\n",
    "    exit_amount = transaction_info['quote']['outAmount'] # amount of token that was \n",
    "    print(exit_amount) # this is not the real exit amount though\n",
    "    async for event in poll_until_exit(exit_rules, \n",
    "                                   params['input_mint'],\n",
    "                                   params['output_mint'],\n",
    "                                   quote):\n",
    "        print(event)\n",
    "        if event == \"sell_half\":\n",
    "            wallet_contents = await get_wallet_contents(wallet_address)\n",
    "            exit_amount = wallet_contents[output_mint][\"raw_amount\"] // 2\n",
    "            await swap_tokens(params['output_mint'], params['input_mint'], exit_amount, wallet_keypair, slippage_bps=1000, prioritization_fee = 80000)\n",
    "        wallet_contents = await get_wallet_contents(wallet_address)\n",
    "        exit_amount = wallet_contents[output_mint][\"raw_amount\"] # FULL AMOUNT\n",
    "        await swap_tokens(params['output_mint'], params['input_mint'], exit_amount, wallet_keypair, slippage_bps=1000, prioritization_fee = 80000)\n"
   ]
  },
  {
   "cell_type": "code",
   "execution_count": 20,
   "id": "4a1ca931",
   "metadata": {},
   "outputs": [
    {
     "name": "stdout",
     "output_type": "stream",
     "text": [
      "Transaction submitted: 5LJaoCtncbTEJrUWyETEEey8z5ZoUE7CPazLe4rkuu4hfpzPKRFM5yaa6U7FAkJ85fZMna2Dq8DMVKnBLkASBAHa\n",
      "144225\n",
      "5.00082850002218 0.055\n",
      "10.275170041946694 0.055\n",
      "15.513479708926752 0.055\n",
      "22.692334208986722 0.085\n",
      "28.7832662089495 0.055\n",
      "34.040427541942336 0.055\n",
      "sell_all\n",
      "Transaction submitted: 5r2LAd8G3N9AuQsMVtQAJ4omkMwUCz3MsXgwb828LnMsNtKSH1NfWbEEjXPbTnH3t7xGPL9VFgTn9co71HEgvxa2\n"
     ]
    }
   ],
   "source": [
    "await run_strategy(params, exit_rules)\n"
   ]
  },
  {
   "cell_type": "code",
   "execution_count": null,
   "id": "e0fd77d4",
   "metadata": {},
   "outputs": [],
   "source": []
  },
  {
   "cell_type": "code",
   "execution_count": null,
   "id": "cddbd376",
   "metadata": {},
   "outputs": [
    {
     "name": "stdout",
     "output_type": "stream",
     "text": [
      "5.001087625045329\n",
      "5.001087625045329 0.173\n",
      "10.24248949997127\n",
      "10.24248949997127 0.173\n",
      "15.48307170800399\n",
      "15.48307170800399 0.127\n",
      "20.725401667063124\n",
      "20.725401667063124 0.127\n",
      "25.95596250006929\n",
      "25.95596250006929 0.127\n",
      "31.202500417013653\n",
      "31.202500417013653 0.16\n",
      "sell_all\n"
     ]
    }
   ],
   "source": [
    "# THIS WILL BECOME THE RUN_STRATEGY FUNCTION (inside of the script)\n",
    "\n",
    "exit_rules = ExitRules(\n",
    "    max_duration_s=30, #600, # 10 minutes\n",
    "    take_half_at=50, # 50% gain\n",
    "    take_all_at=300,\n",
    "    stop_out_at=-50,\n",
    "    polling_interval=5\n",
    ")\n",
    "\n",
    "params = {}\n",
    "params['input_mint'] = input_mint # SOL\n",
    "params['output_mint'] = output_mint # USDC\n",
    "\n",
    "# swap INTO the token\n",
    "transaction_info = await swap_tokens(input_mint, output_mint, amount, wallet_keypair, slippage_bps, prioritization_fee)\n",
    "\n",
    "async for event in poll_until_exit(exit_rules, \n",
    "                                   params['input_mint'],\n",
    "                                   params['output_mint'],\n",
    "                                   quote):\n",
    "    print(event)\n",
    "    if event == \"sell_half\":\n",
    "        print('sell half')\n",
    "        # await swap_out(\"sell_half\", **params, amount=params['in_amount']//2)\n",
    "    # await swap_out(\"sell_all\", **params, amount=remaining_amount)"
   ]
  },
  {
   "cell_type": "code",
   "execution_count": null,
   "id": "56404890",
   "metadata": {},
   "outputs": [
    {
     "ename": "TypeError",
     "evalue": "object async_generator can't be used in 'await' expression",
     "output_type": "error",
     "traceback": [
      "\u001b[0;31m---------------------------------------------------------------------------\u001b[0m",
      "\u001b[0;31mTypeError\u001b[0m                                 Traceback (most recent call last)",
      "Cell \u001b[0;32mIn[95], line 8\u001b[0m\n\u001b[1;32m      1\u001b[0m exit_rules \u001b[38;5;241m=\u001b[39m ExitRules(\n\u001b[1;32m      2\u001b[0m     max_duration_s\u001b[38;5;241m=\u001b[39m\u001b[38;5;241m600\u001b[39m, \u001b[38;5;66;03m# 10 minutes\u001b[39;00m\n\u001b[1;32m      3\u001b[0m     take_half_at\u001b[38;5;241m=\u001b[39m\u001b[38;5;241m50\u001b[39m, \u001b[38;5;66;03m# 50% gain\u001b[39;00m\n\u001b[0;32m   (...)\u001b[0m\n\u001b[1;32m      6\u001b[0m     polling_interval\u001b[38;5;241m=\u001b[39m\u001b[38;5;241m5\u001b[39m\n\u001b[1;32m      7\u001b[0m )\n\u001b[0;32m----> 8\u001b[0m \u001b[38;5;28;01mawait\u001b[39;00m poll_until_exit(exit_rules,input_mint,output_mint, quote) \u001b[38;5;66;03m# need to learn await, async, etc.! \u001b[39;00m\n",
      "\u001b[0;31mTypeError\u001b[0m: object async_generator can't be used in 'await' expression"
     ]
    }
   ],
   "source": [
    "\n",
    "# await poll_until_exit(exit_rules,input_mint,output_mint, quote) # need to learn await, async, etc.! "
   ]
  },
  {
   "cell_type": "code",
   "execution_count": null,
   "id": "50ad6f90",
   "metadata": {},
   "outputs": [
    {
     "data": {
      "text/plain": [
       "ExitRules(max_duration_s=600, take_half_at=50, take_all_at=300, stop_out_at=-50, polling_interval=5)"
      ]
     },
     "execution_count": 65,
     "metadata": {},
     "output_type": "execute_result"
    }
   ],
   "source": [
    "strategy_rules"
   ]
  },
  {
   "cell_type": "code",
   "execution_count": null,
   "id": "3343b3df",
   "metadata": {},
   "outputs": [
    {
     "name": "stdout",
     "output_type": "stream",
     "text": [
      "144915\n",
      "144918\n"
     ]
    },
    {
     "data": {
      "text/plain": [
       "-0.002"
      ]
     },
     "execution_count": 44,
     "metadata": {},
     "output_type": "execute_result"
    }
   ],
   "source": [
    "get_percent_change(quote, new_quote)"
   ]
  },
  {
   "cell_type": "code",
   "execution_count": 21,
   "id": "e883065c",
   "metadata": {},
   "outputs": [],
   "source": [
    "token = \"59DJAxuzmSGrRQGKuJFouXomyZC9P449HrQtpi3Rpump\"\n",
    "quote = await get_jupiter_quote(input_mint, token, amount, slippage_bps)"
   ]
  },
  {
   "cell_type": "code",
   "execution_count": 22,
   "id": "f9cfe801",
   "metadata": {},
   "outputs": [
    {
     "data": {
      "text/plain": [
       "{'inputMint': 'So11111111111111111111111111111111111111112',\n",
       " 'inAmount': '1000000',\n",
       " 'outputMint': '59DJAxuzmSGrRQGKuJFouXomyZC9P449HrQtpi3Rpump',\n",
       " 'outAmount': '35401847140',\n",
       " 'otherAmountThreshold': '35047828669',\n",
       " 'swapMode': 'ExactIn',\n",
       " 'slippageBps': 100,\n",
       " 'platformFee': None,\n",
       " 'priceImpactPct': '0',\n",
       " 'routePlan': [{'swapInfo': {'ammKey': 'AguyRovXP8wkCVQbFsZUUU8mDNU3pxyuUQbAnpXpc9tR',\n",
       "    'label': 'Pump.fun',\n",
       "    'inputMint': 'So11111111111111111111111111111111111111112',\n",
       "    'outputMint': '59DJAxuzmSGrRQGKuJFouXomyZC9P449HrQtpi3Rpump',\n",
       "    'inAmount': '1000000',\n",
       "    'outAmount': '35401847140',\n",
       "    'feeAmount': '10000',\n",
       "    'feeMint': 'So11111111111111111111111111111111111111112'},\n",
       "   'percent': 100}],\n",
       " 'scoreReport': None,\n",
       " 'contextSlot': 338353519,\n",
       " 'timeTaken': 0.006873242,\n",
       " 'swapUsdValue': '0.1463146285980193739881794753',\n",
       " 'simplerRouteUsed': False,\n",
       " 'mostReliableAmmsQuoteReport': {'info': {'Czfq3xZZDmsdGdUyrNLtRhGc47cXcZtLG4crryfu44zE': 'Not used'}},\n",
       " 'useIncurredSlippageForQuoting': None}"
      ]
     },
     "execution_count": 22,
     "metadata": {},
     "output_type": "execute_result"
    }
   ],
   "source": [
    "quote"
   ]
  },
  {
   "cell_type": "code",
   "execution_count": 37,
   "id": "4859739f",
   "metadata": {},
   "outputs": [],
   "source": [
    "import asyncio\n",
    "import time\n",
    "from aioconsole import ainput  # install with: pip install aioconsole\n",
    "\n",
    "# You will pass this to your poll_until_exit\n",
    "async def keyboard_listener(queue: asyncio.Queue):\n",
    "    while True:\n",
    "        key = await ainput()\n",
    "        key = key.strip().lower()\n",
    "        if key == 'd':\n",
    "            await queue.put(\"sell_half\")\n",
    "        elif key == 'k':\n",
    "            await queue.put(\"sell_all\")\n",
    "\n",
    "async def poll_until_exit(rules: ExitRules, input_mint: str, output_mint: str, entry_quote: dict):\n",
    "    queue = asyncio.Queue()\n",
    "    asyncio.create_task(keyboard_listener(queue))  # Background task for manual input\n",
    "\n",
    "    DUMMY_AMOUNT = 1000000\n",
    "    t0 = time.monotonic()\n",
    "    sold_half = False\n",
    "\n",
    "    while True:\n",
    "        try:\n",
    "            # Wait for EITHER a manual command or timeout\n",
    "            done, _ = await asyncio.wait(\n",
    "                [\n",
    "                    asyncio.create_task(queue.get()),  # Manual input\n",
    "                    asyncio.create_task(asyncio.sleep(rules.polling_interval)),  # Regular polling\n",
    "                ],\n",
    "                return_when=asyncio.FIRST_COMPLETED\n",
    "            )\n",
    "\n",
    "            for task in done:\n",
    "                result = task.result()\n",
    "                if isinstance(result, str):  # Manual override\n",
    "                    yield result\n",
    "                    if result == \"sell_all\":\n",
    "                        return\n",
    "\n",
    "            # If we got here, the polling_interval passed. Proceed with quote check:\n",
    "            now = time.monotonic()\n",
    "            elapsed = now - t0\n",
    "            new_quote = await get_jupiter_quote(input_mint, output_mint, DUMMY_AMOUNT)\n",
    "            pct_change = get_percent_change(entry_quote, new_quote)\n",
    "            print(f\"Time Elapsed: {round(elapsed,2)}s, % Change: {pct_change}\")\n",
    "\n",
    "            # Automatic logic\n",
    "            if pct_change <= rules.stop_out_at:\n",
    "                yield \"sell_all\"\n",
    "                return\n",
    "            if not sold_half and pct_change >= rules.take_half_at:\n",
    "                sold_half = True\n",
    "                yield \"sell_half\"\n",
    "            if pct_change >= rules.take_all_at:\n",
    "                yield \"sell_all\"\n",
    "                return\n",
    "            if elapsed >= rules.max_duration_s:\n",
    "                yield \"sell_all\"\n",
    "                return\n",
    "\n",
    "        except asyncio.CancelledError:\n",
    "            break"
   ]
  },
  {
   "cell_type": "code",
   "execution_count": 38,
   "id": "d434d95d",
   "metadata": {},
   "outputs": [
    {
     "ename": "NameError",
     "evalue": "name 'entry_quote' is not defined",
     "output_type": "error",
     "traceback": [
      "\u001b[0;31m---------------------------------------------------------------------------\u001b[0m",
      "\u001b[0;31mNameError\u001b[0m                                 Traceback (most recent call last)",
      "Cell \u001b[0;32mIn[38], line 1\u001b[0m\n\u001b[0;32m----> 1\u001b[0m \u001b[43mentry_quote\u001b[49m\n",
      "\u001b[0;31mNameError\u001b[0m: name 'entry_quote' is not defined"
     ]
    }
   ],
   "source": [
    "entry_quote"
   ]
  },
  {
   "cell_type": "code",
   "execution_count": 43,
   "id": "fa554c8c",
   "metadata": {},
   "outputs": [],
   "source": [
    "from src.pump_bot_tracker.strategy import get_percent_change"
   ]
  },
  {
   "cell_type": "code",
   "execution_count": null,
   "id": "2add8d53",
   "metadata": {},
   "outputs": [
    {
     "name": "stdout",
     "output_type": "stream",
     "text": [
      "Time Elapsed: 5.0s, % Change: -0.515\n",
      "Time Elapsed: 10.24s, % Change: -0.513\n",
      "Time Elapsed: 15.49s, % Change: -0.528\n",
      "Time Elapsed: 20.86s, % Change: -0.528\n",
      "Time Elapsed: 26.1s, % Change: -0.626\n",
      "Time Elapsed: 31.33s, % Change: -0.565\n",
      "sell_all\n"
     ]
    }
   ],
   "source": [
    "async for event in poll_until_exit(exit_rules, \n",
    "                                   SOL,\n",
    "                                   USDC,\n",
    "                                   quote):\n",
    "    print(event)\n",
    "    if event == \"sell_half\":\n",
    "        print('sell half')"
   ]
  },
  {
   "cell_type": "code",
   "execution_count": 48,
   "id": "acda3580",
   "metadata": {},
   "outputs": [],
   "source": [
    "import os\n",
    "import argparse\n",
    "import asyncio\n",
    "from dotenv import load_dotenv\n",
    "from src.pump_bot_tracker.wallet_secrets import WalletType, get_wallet_address, get_wallet_keypair\n",
    "from src.pump_bot_tracker.token_addresses import SOL\n",
    "from src.pump_bot_tracker.blockchain import convert_to_base_unit, transfer_sol, swap_tokens, get_wallet_contents\n",
    "from src.pump_bot_tracker.strategy import ExitRules, poll_until_exit\n",
    "\n",
    "load_dotenv()\n",
    "\n",
    "# === CONFIG ===\n",
    "BASE_IDX = 0 # Index for the BASE wallet (trade this less frequently whenever I want to cash out or rebalance)\n",
    "BOT_IDX = 0 # Index for this trade Eventually auto increment once I have a listener\n",
    "MAX_SOL = 0.2 # Maximum SOL to devote to strategy\n",
    "SLIPPAGE_BPS = 2500 # 30% slippage\n",
    "PRIORITIZATION_FEE = 100000\n",
    "\n",
    "exit_rules = ExitRules(\n",
    "    max_duration_s=500, # 500 seconds\n",
    "    take_half_at=60, # 60% gain\n",
    "    take_all_at=250, # 250% gain\n",
    "    stop_out_at=-30, # get completely out at -30%\n",
    "    polling_interval=5 # 5s intervals\n",
    ")\n",
    "\n",
    "\n",
    "# Get wallets for this strategy:\n",
    "base_phrase = os.getenv(\"SOLANA_MEME_PUMP_BASE\")\n",
    "trade_phrase = os.getenv(\"SOLANA_MEME_PUMP_TRADE\")\n",
    "base_bot_address = get_wallet_address(wallet_type=WalletType.BOT, mnemonic_phrase=base_phrase, wallet_idx = BASE_IDX)\n",
    "base_bot_keypair = get_wallet_keypair(wallet_type=WalletType.BOT, mnemonic_phrase=base_phrase, wallet_idx = BASE_IDX)\n",
    "trade_bot_address = get_wallet_address(wallet_type=WalletType.BOT, mnemonic_phrase=trade_phrase, wallet_idx = BOT_IDX)\n",
    "trade_bot_keypair = get_wallet_keypair(wallet_type=WalletType.BOT, mnemonic_phrase=trade_phrase, wallet_idx = BOT_IDX)\n",
    "\n"
   ]
  },
  {
   "cell_type": "code",
   "execution_count": null,
   "id": "f27189b7",
   "metadata": {},
   "outputs": [],
   "source": []
  },
  {
   "cell_type": "code",
   "execution_count": 56,
   "id": "6bbadce1",
   "metadata": {},
   "outputs": [
    {
     "data": {
      "text/plain": [
       "'8TRipPeB91R8uuajGBzEgcoBZu2dp53JCDyayjQAcsd4'"
      ]
     },
     "execution_count": 56,
     "metadata": {},
     "output_type": "execute_result"
    }
   ],
   "source": [
    "trade_bot_address"
   ]
  },
  {
   "cell_type": "code",
   "execution_count": 58,
   "id": "bfec6208",
   "metadata": {},
   "outputs": [
    {
     "name": "stdout",
     "output_type": "stream",
     "text": [
      "Transaction submitted: 2FRzJ7vKfwpg8rwtTuBLXkhRGsdw8NgvZueeKNH6fxP8q3TeX7iYY7GtKTgVctsjMcSLVCBZfJe2XwTtW2gdApja\n",
      "Transaction executed: 2FRzJ7vKfwpg8rwtTuBLXkhRGsdw8NgvZueeKNH6fxP8q3TeX7iYY7GtKTgVctsjMcSLVCBZfJe2XwTtW2gdApja\n"
     ]
    }
   ],
   "source": [
    "wallet_contents = await get_wallet_contents(trade_bot_address)\n",
    "amount_lamports = wallet_contents[USDC][\"raw_amount\"]\n",
    "transaction_info = await swap_tokens(input_mint = USDC, \n",
    "                                        output_mint = SOL, \n",
    "                                        amount = amount_lamports, \n",
    "                                        wallet_keypair = trade_bot_keypair, \n",
    "                                        slippage_bps = 300, # Lower slippage for the initial trade in\n",
    "                                        prioritization_fee = PRIORITIZATION_FEE)\n",
    "print(f\"Transaction executed: {transaction_info['signature']}\")"
   ]
  },
  {
   "cell_type": "code",
   "execution_count": 52,
   "id": "8174e1f1",
   "metadata": {},
   "outputs": [
    {
     "data": {
      "text/plain": [
       "'3cSvQygypScaJb2bJHfdzXwwWmayvNin37Go8AkSTysS'"
      ]
     },
     "execution_count": 52,
     "metadata": {},
     "output_type": "execute_result"
    }
   ],
   "source": [
    "trade_bot_address\n",
    "base_bot_address"
   ]
  },
  {
   "cell_type": "code",
   "execution_count": 60,
   "id": "4fc62bc2",
   "metadata": {},
   "outputs": [
    {
     "name": "stdout",
     "output_type": "stream",
     "text": [
      "156341952\n",
      "Transferred 156341952 from trade wallet to base wallet: (3cSvQygypScaJb2bJHfdzXwwWmayvNin37Go8AkSTysS)\n",
      "Signature: 3yEbdxFog4zLJHjKsM94e61DDuhGEBqMnLA4HGNmv12yHNS9k1hkSWuaAovug37ZMRvsqGEn2PJYSzZBSu5Y35rY\n",
      "STRATEGY COMPLETE!!\n"
     ]
    }
   ],
   "source": [
    "wallet_contents = await get_wallet_contents(trade_bot_address)\n",
    "lamports_to_transfer = wallet_contents['SOL']['raw_amount'] - 1000000\n",
    "print(lamports_to_transfer)\n",
    "signature = await transfer_sol(trade_bot_keypair, base_bot_address, lamports_to_transfer)\n",
    "print(f\"Transferred {lamports_to_transfer} from trade wallet to base wallet: ({base_bot_address})\")\n",
    "print(f\"Signature: {signature}\")\n",
    "print(\"STRATEGY COMPLETE!!\")\n"
   ]
  },
  {
   "cell_type": "code",
   "execution_count": null,
   "id": "d55b4af6",
   "metadata": {},
   "outputs": [
    {
     "name": "stdout",
     "output_type": "stream",
     "text": [
      "5000000\n",
      "Transferred 5000000 from trade wallet to base wallet: (3cSvQygypScaJb2bJHfdzXwwWmayvNin37Go8AkSTysS)\n",
      "Signature: 3fdtJtL56heeD5jArkmpnjmx6FG5j8VxQB5UtEzmKwmjtbbSmBYbCMHwkMcCQ7SSHG2gMM1eq6Rnw3zZy1xYKwBE\n",
      "STRATEGY COMPLETE!!\n"
     ]
    }
   ],
   "source": [
    "# lamports_to_transfer = 5000000\n",
    "# print(lamports_to_transfer)\n",
    "# signature = await transfer_sol(base_bot_keypair, trade_bot_address, lamports_to_transfer)\n",
    "# print(f\"Transferred {lamports_to_transfer} from trade wallet to base wallet: ({base_bot_address})\")\n",
    "# print(f\"Signature: {signature}\")\n",
    "# print(\"STRATEGY COMPLETE!!\")"
   ]
  },
  {
   "cell_type": "code",
   "execution_count": 65,
   "id": "04451e41",
   "metadata": {},
   "outputs": [
    {
     "data": {
      "text/plain": [
       "1.471138262062087"
      ]
     },
     "execution_count": 65,
     "metadata": {},
     "output_type": "execute_result"
    }
   ],
   "source": [
    "1180/802.1"
   ]
  },
  {
   "cell_type": "code",
   "execution_count": null,
   "id": "1708cf4c",
   "metadata": {},
   "outputs": [
    {
     "data": {
      "text/plain": [
       "{'So11111111111111111111111111111111111111112': {'mint': 'So11111111111111111111111111111111111111112',\n",
       "  'raw_amount': 4995000,\n",
       "  'amount': 0.004995,\n",
       "  'decimals': 9,\n",
       "  'name': 'Solana',\n",
       "  'symbol': 'SOL'}}"
      ]
     },
     "execution_count": 76,
     "metadata": {},
     "output_type": "execute_result"
    }
   ],
   "source": [
    "from src.pump_bot_tracker.blockchain import wait_for_wallet_update\n",
    "contents = await get_wallet_contents(trade_bot_address)\n",
    "contents"
   ]
  },
  {
   "cell_type": "code",
   "execution_count": 81,
   "id": "cbd69831",
   "metadata": {},
   "outputs": [
    {
     "name": "stdout",
     "output_type": "stream",
     "text": [
      "4995000\n"
     ]
    }
   ],
   "source": [
    "pre_trade_sol = contents[SOL]['raw_amount']\n",
    "print(pre_trade_sol)"
   ]
  },
  {
   "cell_type": "code",
   "execution_count": null,
   "id": "9c8d0b88",
   "metadata": {},
   "outputs": [],
   "source": [
    "async def wait_for_sol_diff(address: str, prev_sol: int, timeout=15):\n",
    "    for _ in range(timeout):\n",
    "        contents = await get_wallet_contents(address)\n",
    "        current_sol = contents.get(SOL, {}).get(\"amount\", 0)\n",
    "        if current_sol != prev_sol:\n",
    "            return current_sol\n",
    "        await asyncio.sleep(1)\n",
    "    raise TimeoutError(\"SOL balance did not change in time.\")"
   ]
  },
  {
   "cell_type": "code",
   "execution_count": 82,
   "id": "6ca53e49",
   "metadata": {},
   "outputs": [
    {
     "ename": "TimeoutError",
     "evalue": "SOL balance did not change in time.",
     "output_type": "error",
     "traceback": [
      "\u001b[0;31m---------------------------------------------------------------------------\u001b[0m",
      "\u001b[0;31mTimeoutError\u001b[0m                              Traceback (most recent call last)",
      "Cell \u001b[0;32mIn[82], line 1\u001b[0m\n\u001b[0;32m----> 1\u001b[0m \u001b[38;5;28;01mawait\u001b[39;00m wait_for_sol_diff(trade_bot_address, pre_trade_sol, timeout\u001b[38;5;241m=\u001b[39m\u001b[38;5;241m10\u001b[39m)\n",
      "Cell \u001b[0;32mIn[80], line 8\u001b[0m, in \u001b[0;36mwait_for_sol_diff\u001b[0;34m(address, prev_sol, timeout)\u001b[0m\n\u001b[1;32m      6\u001b[0m         \u001b[38;5;28;01mreturn\u001b[39;00m current_sol\n\u001b[1;32m      7\u001b[0m     \u001b[38;5;28;01mawait\u001b[39;00m asyncio\u001b[38;5;241m.\u001b[39msleep(\u001b[38;5;241m1\u001b[39m)\n\u001b[0;32m----> 8\u001b[0m \u001b[38;5;28;01mraise\u001b[39;00m \u001b[38;5;167;01mTimeoutError\u001b[39;00m(\u001b[38;5;124m\"\u001b[39m\u001b[38;5;124mSOL balance did not change in time.\u001b[39m\u001b[38;5;124m\"\u001b[39m)\n",
      "\u001b[0;31mTimeoutError\u001b[0m: SOL balance did not change in time."
     ]
    }
   ],
   "source": [
    "await wait_for_sol_diff(trade_bot_address, pre_trade_sol, timeout=10)"
   ]
  },
  {
   "cell_type": "code",
   "execution_count": 79,
   "id": "8c2dc0b7",
   "metadata": {},
   "outputs": [
    {
     "data": {
      "text/plain": [
       "'8TRipPeB91R8uuajGBzEgcoBZu2dp53JCDyayjQAcsd4'"
      ]
     },
     "execution_count": 79,
     "metadata": {},
     "output_type": "execute_result"
    }
   ],
   "source": [
    "trade_bot_address"
   ]
  },
  {
   "cell_type": "code",
   "execution_count": 84,
   "id": "9d207cff",
   "metadata": {},
   "outputs": [
    {
     "data": {
      "text/plain": [
       "{'So11111111111111111111111111111111111111112': {'mint': 'So11111111111111111111111111111111111111112',\n",
       "  'raw_amount': 584208250,\n",
       "  'amount': 0.58420825,\n",
       "  'decimals': 9,\n",
       "  'name': 'Solana',\n",
       "  'symbol': 'SOL'}}"
      ]
     },
     "execution_count": 84,
     "metadata": {},
     "output_type": "execute_result"
    }
   ],
   "source": [
    "base_wallet_contents = await get_wallet_contents(base_bot_address)\n",
    "base_wallet_contents"
   ]
  },
  {
   "cell_type": "code",
   "execution_count": 85,
   "id": "58f11f40",
   "metadata": {},
   "outputs": [],
   "source": [
    "base_wallet_sol = base_wallet_contents[SOL]['amount']"
   ]
  },
  {
   "cell_type": "code",
   "execution_count": 86,
   "id": "5072adbc",
   "metadata": {},
   "outputs": [
    {
     "data": {
      "text/plain": [
       "0.58420825"
      ]
     },
     "execution_count": 86,
     "metadata": {},
     "output_type": "execute_result"
    }
   ],
   "source": [
    "base_wallet_sol"
   ]
  },
  {
   "cell_type": "code",
   "execution_count": 88,
   "id": "5cdf649b",
   "metadata": {},
   "outputs": [
    {
     "data": {
      "text/plain": [
       "0.2"
      ]
     },
     "execution_count": 88,
     "metadata": {},
     "output_type": "execute_result"
    }
   ],
   "source": [
    "min(base_wallet_sol, .2, .8)"
   ]
  },
  {
   "cell_type": "code",
   "execution_count": 89,
   "id": "1e5deea6",
   "metadata": {},
   "outputs": [],
   "source": [
    "RENT_BUFFER = 5000000\n",
    "trade_wallet_contents = await get_wallet_contents(trade_bot_address) # Get pre-swap contents prior to executing the strategy\n",
    "lamports_to_transfer = trade_wallet_contents[SOL]['raw_amount'] - RENT_BUFFER\n",
    "\n",
    "signature = await transfer_sol(trade_bot_keypair, base_bot_address, lamports_to_transfer)"
   ]
  },
  {
   "cell_type": "code",
   "execution_count": 92,
   "id": "2fb09bfd",
   "metadata": {},
   "outputs": [],
   "source": [
    "from src.pump_bot_tracker.blockchain import wait_for_sol_diff\n",
    "previous_lamports = 0"
   ]
  },
  {
   "cell_type": "code",
   "execution_count": 93,
   "id": "be4f1b85",
   "metadata": {},
   "outputs": [
    {
     "name": "stdout",
     "output_type": "stream",
     "text": [
      "Wallet change detected in 8TRipPeB91R8uuajGBzEgcoBZu2dp53JCDyayjQAcsd4\n"
     ]
    }
   ],
   "source": [
    "lamports_to_transfer = await wait_for_sol_diff(address = trade_bot_address, prev_lamports = previous_lamports, timeout = 30)"
   ]
  },
  {
   "cell_type": "code",
   "execution_count": 95,
   "id": "d750e3e8",
   "metadata": {},
   "outputs": [
    {
     "data": {
      "text/plain": [
       "94891029"
      ]
     },
     "execution_count": 95,
     "metadata": {},
     "output_type": "execute_result"
    }
   ],
   "source": [
    "RENT_BUFFER = 5000000 # Rent factor (in lamports) to be left behind on all SOL transactions\n",
    "\n",
    "lamports_to_transfer - RENT_BUFFER"
   ]
  },
  {
   "cell_type": "code",
   "execution_count": null,
   "id": "6406a5d3",
   "metadata": {},
   "outputs": [],
   "source": []
  }
 ],
 "metadata": {
  "kernelspec": {
   "display_name": "venv",
   "language": "python",
   "name": "python3"
  },
  "language_info": {
   "codemirror_mode": {
    "name": "ipython",
    "version": 3
   },
   "file_extension": ".py",
   "mimetype": "text/x-python",
   "name": "python",
   "nbconvert_exporter": "python",
   "pygments_lexer": "ipython3",
   "version": "3.13.2"
  }
 },
 "nbformat": 4,
 "nbformat_minor": 5
}
